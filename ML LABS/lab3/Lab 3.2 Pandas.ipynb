{
 "cells": [
  {
   "cell_type": "markdown",
   "id": "56668603",
   "metadata": {},
   "source": [
    "### Introduction To Pandas Module\n",
    "Here, we are learning data analysis. Pandas is a software library written for the Python programming language that helps with data manipulation and analysis. It offers various data structures which help in the manipulation of data. <br>\n",
    "One of the data structures used is DataFrame.<br>\n",
    "DataFrame is used as a way to store data in a rectangular grid.<br>\n",
    "Similar to how data is stored in Microsoft Excel.\n",
    "### Installation\n",
    "We can easily install this library using the terminal. Follow the steps given below to install Pandas:<br>\n",
    "Step 1: Go to the Windows PowerShell.<br>\n",
    "Step 2: We can install pandas with the help of pip easily. Head over to the directory where you want to install the pandas and fire the below command:<br>\n",
    "__pip install pandas__<br>\n",
    "This is very simple to install. "
   ]
  },
  {
   "cell_type": "code",
   "execution_count": null,
   "id": "9d7597cd",
   "metadata": {},
   "outputs": [],
   "source": [
    "# !pip install pandas"
   ]
  },
  {
   "cell_type": "markdown",
   "id": "c0604699",
   "metadata": {},
   "source": [
    "### Other way to install\n",
    "If the above steps do not work for you, here is another way to install:<br>\n",
    "Step 1: Go to your browser. Search for __python unofficial binaries__, or click <br>\n",
    "https://www.lfd.uci.edu/~gohlke/pythonlibs/<br> \n",
    "and you will be redirected to the binary page.<br>\n",
    "Step 2: To download the library, search for pandas – Ctrl + F will help you. Download pandas library based on your python version. <br>\n",
    "Step 3: After the installation, head over to the directory where you've downloaded the pandas. <br>\n",
    "Step 4: Right-click to open Windows PowerShell. Pip can help us with the installation. Just go to that location in your terminal and run the following command: <br>\n",
    "__pip install pandas__ <br>\n",
    "Complete this command by the TAB button so that the location of your folder is mentioned."
   ]
  },
  {
   "cell_type": "markdown",
   "id": "800f769b",
   "metadata": {},
   "source": [
    "### import pandas\n",
    "Once Pandas is installed, import it in your applications by adding the import keyword:<br>\n",
    "__import pandas as pd__<br>\n",
    "Now Pandas is imported and ready to use."
   ]
  },
  {
   "cell_type": "code",
   "execution_count": 2,
   "id": "74e4e20e",
   "metadata": {},
   "outputs": [],
   "source": [
    "import pandas"
   ]
  },
  {
   "cell_type": "code",
   "execution_count": 3,
   "id": "0785aeae",
   "metadata": {},
   "outputs": [],
   "source": [
    "dict1 = {\n",
    "    'Name': [\"Muhammad Ayub\", \"Ibraheem khan\", \"Muhammad Abid\", \"Shumail Khan\",\"Qasim Ali\"],\n",
    "    'Marks': [80, 72, 77, 65, 15],\n",
    "    'Class':[\"1st Year\", \"2nd Year\", \"1st Year\", \"3rd Year\", \"2nd Year\"]\n",
    "}"
   ]
  },
  {
   "cell_type": "code",
   "execution_count": 4,
   "id": "c4957475",
   "metadata": {},
   "outputs": [],
   "source": [
    "df = pandas.DataFrame(dict1)"
   ]
  },
  {
   "cell_type": "code",
   "execution_count": 5,
   "id": "62ab3cef",
   "metadata": {},
   "outputs": [],
   "source": [
    "df = pandas.DataFrame(dict1)"
   ]
  },
  {
   "cell_type": "code",
   "execution_count": 6,
   "id": "418d12ca",
   "metadata": {},
   "outputs": [
    {
     "data": {
      "text/html": [
       "<div>\n",
       "<style scoped>\n",
       "    .dataframe tbody tr th:only-of-type {\n",
       "        vertical-align: middle;\n",
       "    }\n",
       "\n",
       "    .dataframe tbody tr th {\n",
       "        vertical-align: top;\n",
       "    }\n",
       "\n",
       "    .dataframe thead th {\n",
       "        text-align: right;\n",
       "    }\n",
       "</style>\n",
       "<table border=\"1\" class=\"dataframe\">\n",
       "  <thead>\n",
       "    <tr style=\"text-align: right;\">\n",
       "      <th></th>\n",
       "      <th>Name</th>\n",
       "      <th>Marks</th>\n",
       "      <th>Class</th>\n",
       "    </tr>\n",
       "  </thead>\n",
       "  <tbody>\n",
       "    <tr>\n",
       "      <th>0</th>\n",
       "      <td>Muhammad Ayub</td>\n",
       "      <td>80</td>\n",
       "      <td>1st Year</td>\n",
       "    </tr>\n",
       "    <tr>\n",
       "      <th>1</th>\n",
       "      <td>Ibraheem khan</td>\n",
       "      <td>72</td>\n",
       "      <td>2nd Year</td>\n",
       "    </tr>\n",
       "    <tr>\n",
       "      <th>2</th>\n",
       "      <td>Muhammad Abid</td>\n",
       "      <td>77</td>\n",
       "      <td>1st Year</td>\n",
       "    </tr>\n",
       "    <tr>\n",
       "      <th>3</th>\n",
       "      <td>Shumail Khan</td>\n",
       "      <td>65</td>\n",
       "      <td>3rd Year</td>\n",
       "    </tr>\n",
       "    <tr>\n",
       "      <th>4</th>\n",
       "      <td>Qasim Ali</td>\n",
       "      <td>15</td>\n",
       "      <td>2nd Year</td>\n",
       "    </tr>\n",
       "  </tbody>\n",
       "</table>\n",
       "</div>"
      ],
      "text/plain": [
       "            Name  Marks     Class\n",
       "0  Muhammad Ayub     80  1st Year\n",
       "1  Ibraheem khan     72  2nd Year\n",
       "2  Muhammad Abid     77  1st Year\n",
       "3   Shumail Khan     65  3rd Year\n",
       "4      Qasim Ali     15  2nd Year"
      ]
     },
     "execution_count": 6,
     "metadata": {},
     "output_type": "execute_result"
    }
   ],
   "source": [
    "df"
   ]
  },
  {
   "cell_type": "markdown",
   "id": "cf6a5e3b",
   "metadata": {},
   "source": [
    "### Pandas as pd\n",
    "Pandas is usually imported under the pd alias.\n",
    "#### alias: \n",
    "In Python alias are an alternate name for referring to the same thing.<br>\n",
    "Create an alias with the as keyword while importing:<br>\n",
    "__import pandas as pd__<br>\n",
    "Now the Pandas package can be referred to as pd instead of pandas."
   ]
  },
  {
   "cell_type": "code",
   "execution_count": 7,
   "id": "8d2d715b",
   "metadata": {},
   "outputs": [],
   "source": [
    "import pandas as pd"
   ]
  },
  {
   "cell_type": "code",
   "execution_count": 8,
   "id": "6efcbfa5",
   "metadata": {},
   "outputs": [],
   "source": [
    "df = pd.DataFrame(dict1)"
   ]
  },
  {
   "cell_type": "code",
   "execution_count": 9,
   "id": "3d64ad00",
   "metadata": {},
   "outputs": [
    {
     "data": {
      "text/html": [
       "<div>\n",
       "<style scoped>\n",
       "    .dataframe tbody tr th:only-of-type {\n",
       "        vertical-align: middle;\n",
       "    }\n",
       "\n",
       "    .dataframe tbody tr th {\n",
       "        vertical-align: top;\n",
       "    }\n",
       "\n",
       "    .dataframe thead th {\n",
       "        text-align: right;\n",
       "    }\n",
       "</style>\n",
       "<table border=\"1\" class=\"dataframe\">\n",
       "  <thead>\n",
       "    <tr style=\"text-align: right;\">\n",
       "      <th></th>\n",
       "      <th>Name</th>\n",
       "      <th>Marks</th>\n",
       "      <th>Class</th>\n",
       "    </tr>\n",
       "  </thead>\n",
       "  <tbody>\n",
       "    <tr>\n",
       "      <th>0</th>\n",
       "      <td>Muhammad Ayub</td>\n",
       "      <td>80</td>\n",
       "      <td>1st Year</td>\n",
       "    </tr>\n",
       "    <tr>\n",
       "      <th>1</th>\n",
       "      <td>Ibraheem khan</td>\n",
       "      <td>72</td>\n",
       "      <td>2nd Year</td>\n",
       "    </tr>\n",
       "    <tr>\n",
       "      <th>2</th>\n",
       "      <td>Muhammad Abid</td>\n",
       "      <td>77</td>\n",
       "      <td>1st Year</td>\n",
       "    </tr>\n",
       "    <tr>\n",
       "      <th>3</th>\n",
       "      <td>Shumail Khan</td>\n",
       "      <td>65</td>\n",
       "      <td>3rd Year</td>\n",
       "    </tr>\n",
       "    <tr>\n",
       "      <th>4</th>\n",
       "      <td>Qasim Ali</td>\n",
       "      <td>15</td>\n",
       "      <td>2nd Year</td>\n",
       "    </tr>\n",
       "  </tbody>\n",
       "</table>\n",
       "</div>"
      ],
      "text/plain": [
       "            Name  Marks     Class\n",
       "0  Muhammad Ayub     80  1st Year\n",
       "1  Ibraheem khan     72  2nd Year\n",
       "2  Muhammad Abid     77  1st Year\n",
       "3   Shumail Khan     65  3rd Year\n",
       "4      Qasim Ali     15  2nd Year"
      ]
     },
     "execution_count": 9,
     "metadata": {},
     "output_type": "execute_result"
    }
   ],
   "source": [
    "df"
   ]
  },
  {
   "cell_type": "markdown",
   "id": "bbd5858a",
   "metadata": {},
   "source": [
    "### Checking Pandas Version\n",
    "The version string is stored under __version__ attribute."
   ]
  },
  {
   "cell_type": "code",
   "execution_count": 10,
   "id": "1b1f0bc2",
   "metadata": {},
   "outputs": [
    {
     "data": {
      "text/plain": [
       "'1.3.5'"
      ]
     },
     "execution_count": 10,
     "metadata": {},
     "output_type": "execute_result"
    }
   ],
   "source": [
    "pd.__version__"
   ]
  },
  {
   "cell_type": "markdown",
   "id": "be883ee5",
   "metadata": {},
   "source": [
    "## Import to CSV"
   ]
  },
  {
   "cell_type": "code",
   "execution_count": 11,
   "id": "f91b48d9",
   "metadata": {},
   "outputs": [],
   "source": [
    "df.to_csv('pythonMonday.csv')"
   ]
  },
  {
   "cell_type": "markdown",
   "id": "97375b17",
   "metadata": {},
   "source": [
    "## Remove Index"
   ]
  },
  {
   "cell_type": "code",
   "execution_count": 12,
   "id": "97ba78c5",
   "metadata": {},
   "outputs": [],
   "source": [
    "df.to_csv('pythonMondayRemoveIndex.csv', index=False)"
   ]
  },
  {
   "cell_type": "markdown",
   "id": "be14b569",
   "metadata": {},
   "source": [
    "## Show some rows from the Start"
   ]
  },
  {
   "cell_type": "code",
   "execution_count": 13,
   "id": "01615a53",
   "metadata": {
    "scrolled": true
   },
   "outputs": [
    {
     "data": {
      "text/html": [
       "<div>\n",
       "<style scoped>\n",
       "    .dataframe tbody tr th:only-of-type {\n",
       "        vertical-align: middle;\n",
       "    }\n",
       "\n",
       "    .dataframe tbody tr th {\n",
       "        vertical-align: top;\n",
       "    }\n",
       "\n",
       "    .dataframe thead th {\n",
       "        text-align: right;\n",
       "    }\n",
       "</style>\n",
       "<table border=\"1\" class=\"dataframe\">\n",
       "  <thead>\n",
       "    <tr style=\"text-align: right;\">\n",
       "      <th></th>\n",
       "      <th>Name</th>\n",
       "      <th>Marks</th>\n",
       "      <th>Class</th>\n",
       "    </tr>\n",
       "  </thead>\n",
       "  <tbody>\n",
       "    <tr>\n",
       "      <th>0</th>\n",
       "      <td>Muhammad Ayub</td>\n",
       "      <td>80</td>\n",
       "      <td>1st Year</td>\n",
       "    </tr>\n",
       "    <tr>\n",
       "      <th>1</th>\n",
       "      <td>Ibraheem khan</td>\n",
       "      <td>72</td>\n",
       "      <td>2nd Year</td>\n",
       "    </tr>\n",
       "    <tr>\n",
       "      <th>2</th>\n",
       "      <td>Muhammad Abid</td>\n",
       "      <td>77</td>\n",
       "      <td>1st Year</td>\n",
       "    </tr>\n",
       "    <tr>\n",
       "      <th>3</th>\n",
       "      <td>Shumail Khan</td>\n",
       "      <td>65</td>\n",
       "      <td>3rd Year</td>\n",
       "    </tr>\n",
       "    <tr>\n",
       "      <th>4</th>\n",
       "      <td>Qasim Ali</td>\n",
       "      <td>15</td>\n",
       "      <td>2nd Year</td>\n",
       "    </tr>\n",
       "  </tbody>\n",
       "</table>\n",
       "</div>"
      ],
      "text/plain": [
       "            Name  Marks     Class\n",
       "0  Muhammad Ayub     80  1st Year\n",
       "1  Ibraheem khan     72  2nd Year\n",
       "2  Muhammad Abid     77  1st Year\n",
       "3   Shumail Khan     65  3rd Year\n",
       "4      Qasim Ali     15  2nd Year"
      ]
     },
     "execution_count": 13,
     "metadata": {},
     "output_type": "execute_result"
    }
   ],
   "source": [
    "df.head()"
   ]
  },
  {
   "cell_type": "code",
   "execution_count": 14,
   "id": "22951ef2",
   "metadata": {},
   "outputs": [
    {
     "data": {
      "text/html": [
       "<div>\n",
       "<style scoped>\n",
       "    .dataframe tbody tr th:only-of-type {\n",
       "        vertical-align: middle;\n",
       "    }\n",
       "\n",
       "    .dataframe tbody tr th {\n",
       "        vertical-align: top;\n",
       "    }\n",
       "\n",
       "    .dataframe thead th {\n",
       "        text-align: right;\n",
       "    }\n",
       "</style>\n",
       "<table border=\"1\" class=\"dataframe\">\n",
       "  <thead>\n",
       "    <tr style=\"text-align: right;\">\n",
       "      <th></th>\n",
       "      <th>Name</th>\n",
       "      <th>Marks</th>\n",
       "      <th>Class</th>\n",
       "    </tr>\n",
       "  </thead>\n",
       "  <tbody>\n",
       "    <tr>\n",
       "      <th>0</th>\n",
       "      <td>Muhammad Ayub</td>\n",
       "      <td>80</td>\n",
       "      <td>1st Year</td>\n",
       "    </tr>\n",
       "    <tr>\n",
       "      <th>1</th>\n",
       "      <td>Ibraheem khan</td>\n",
       "      <td>72</td>\n",
       "      <td>2nd Year</td>\n",
       "    </tr>\n",
       "    <tr>\n",
       "      <th>2</th>\n",
       "      <td>Muhammad Abid</td>\n",
       "      <td>77</td>\n",
       "      <td>1st Year</td>\n",
       "    </tr>\n",
       "    <tr>\n",
       "      <th>3</th>\n",
       "      <td>Shumail Khan</td>\n",
       "      <td>65</td>\n",
       "      <td>3rd Year</td>\n",
       "    </tr>\n",
       "    <tr>\n",
       "      <th>4</th>\n",
       "      <td>Qasim Ali</td>\n",
       "      <td>15</td>\n",
       "      <td>2nd Year</td>\n",
       "    </tr>\n",
       "  </tbody>\n",
       "</table>\n",
       "</div>"
      ],
      "text/plain": [
       "            Name  Marks     Class\n",
       "0  Muhammad Ayub     80  1st Year\n",
       "1  Ibraheem khan     72  2nd Year\n",
       "2  Muhammad Abid     77  1st Year\n",
       "3   Shumail Khan     65  3rd Year\n",
       "4      Qasim Ali     15  2nd Year"
      ]
     },
     "execution_count": 14,
     "metadata": {},
     "output_type": "execute_result"
    }
   ],
   "source": [
    "df.head()"
   ]
  },
  {
   "cell_type": "code",
   "execution_count": 15,
   "id": "36e7a4a2",
   "metadata": {},
   "outputs": [
    {
     "data": {
      "text/html": [
       "<div>\n",
       "<style scoped>\n",
       "    .dataframe tbody tr th:only-of-type {\n",
       "        vertical-align: middle;\n",
       "    }\n",
       "\n",
       "    .dataframe tbody tr th {\n",
       "        vertical-align: top;\n",
       "    }\n",
       "\n",
       "    .dataframe thead th {\n",
       "        text-align: right;\n",
       "    }\n",
       "</style>\n",
       "<table border=\"1\" class=\"dataframe\">\n",
       "  <thead>\n",
       "    <tr style=\"text-align: right;\">\n",
       "      <th></th>\n",
       "      <th>Name</th>\n",
       "      <th>Marks</th>\n",
       "      <th>Class</th>\n",
       "    </tr>\n",
       "  </thead>\n",
       "  <tbody>\n",
       "    <tr>\n",
       "      <th>2</th>\n",
       "      <td>Muhammad Abid</td>\n",
       "      <td>77</td>\n",
       "      <td>1st Year</td>\n",
       "    </tr>\n",
       "    <tr>\n",
       "      <th>3</th>\n",
       "      <td>Shumail Khan</td>\n",
       "      <td>65</td>\n",
       "      <td>3rd Year</td>\n",
       "    </tr>\n",
       "    <tr>\n",
       "      <th>4</th>\n",
       "      <td>Qasim Ali</td>\n",
       "      <td>15</td>\n",
       "      <td>2nd Year</td>\n",
       "    </tr>\n",
       "  </tbody>\n",
       "</table>\n",
       "</div>"
      ],
      "text/plain": [
       "            Name  Marks     Class\n",
       "2  Muhammad Abid     77  1st Year\n",
       "3   Shumail Khan     65  3rd Year\n",
       "4      Qasim Ali     15  2nd Year"
      ]
     },
     "execution_count": 15,
     "metadata": {},
     "output_type": "execute_result"
    }
   ],
   "source": [
    "df.tail(3)"
   ]
  },
  {
   "cell_type": "code",
   "execution_count": 16,
   "id": "59b61b63",
   "metadata": {},
   "outputs": [
    {
     "data": {
      "text/html": [
       "<div>\n",
       "<style scoped>\n",
       "    .dataframe tbody tr th:only-of-type {\n",
       "        vertical-align: middle;\n",
       "    }\n",
       "\n",
       "    .dataframe tbody tr th {\n",
       "        vertical-align: top;\n",
       "    }\n",
       "\n",
       "    .dataframe thead th {\n",
       "        text-align: right;\n",
       "    }\n",
       "</style>\n",
       "<table border=\"1\" class=\"dataframe\">\n",
       "  <thead>\n",
       "    <tr style=\"text-align: right;\">\n",
       "      <th></th>\n",
       "      <th>Name</th>\n",
       "      <th>Marks</th>\n",
       "      <th>Class</th>\n",
       "    </tr>\n",
       "  </thead>\n",
       "  <tbody>\n",
       "    <tr>\n",
       "      <th>0</th>\n",
       "      <td>Muhammad Ayub</td>\n",
       "      <td>80</td>\n",
       "      <td>1st Year</td>\n",
       "    </tr>\n",
       "    <tr>\n",
       "      <th>1</th>\n",
       "      <td>Ibraheem khan</td>\n",
       "      <td>72</td>\n",
       "      <td>2nd Year</td>\n",
       "    </tr>\n",
       "    <tr>\n",
       "      <th>2</th>\n",
       "      <td>Muhammad Abid</td>\n",
       "      <td>77</td>\n",
       "      <td>1st Year</td>\n",
       "    </tr>\n",
       "    <tr>\n",
       "      <th>3</th>\n",
       "      <td>Shumail Khan</td>\n",
       "      <td>65</td>\n",
       "      <td>3rd Year</td>\n",
       "    </tr>\n",
       "    <tr>\n",
       "      <th>4</th>\n",
       "      <td>Qasim Ali</td>\n",
       "      <td>15</td>\n",
       "      <td>2nd Year</td>\n",
       "    </tr>\n",
       "  </tbody>\n",
       "</table>\n",
       "</div>"
      ],
      "text/plain": [
       "            Name  Marks     Class\n",
       "0  Muhammad Ayub     80  1st Year\n",
       "1  Ibraheem khan     72  2nd Year\n",
       "2  Muhammad Abid     77  1st Year\n",
       "3   Shumail Khan     65  3rd Year\n",
       "4      Qasim Ali     15  2nd Year"
      ]
     },
     "execution_count": 16,
     "metadata": {},
     "output_type": "execute_result"
    }
   ],
   "source": [
    "df.tail()"
   ]
  },
  {
   "cell_type": "code",
   "execution_count": 17,
   "id": "d4e52c58",
   "metadata": {},
   "outputs": [
    {
     "data": {
      "text/html": [
       "<div>\n",
       "<style scoped>\n",
       "    .dataframe tbody tr th:only-of-type {\n",
       "        vertical-align: middle;\n",
       "    }\n",
       "\n",
       "    .dataframe tbody tr th {\n",
       "        vertical-align: top;\n",
       "    }\n",
       "\n",
       "    .dataframe thead th {\n",
       "        text-align: right;\n",
       "    }\n",
       "</style>\n",
       "<table border=\"1\" class=\"dataframe\">\n",
       "  <thead>\n",
       "    <tr style=\"text-align: right;\">\n",
       "      <th></th>\n",
       "      <th>Marks</th>\n",
       "    </tr>\n",
       "  </thead>\n",
       "  <tbody>\n",
       "    <tr>\n",
       "      <th>count</th>\n",
       "      <td>5.000000</td>\n",
       "    </tr>\n",
       "    <tr>\n",
       "      <th>mean</th>\n",
       "      <td>61.800000</td>\n",
       "    </tr>\n",
       "    <tr>\n",
       "      <th>std</th>\n",
       "      <td>26.771253</td>\n",
       "    </tr>\n",
       "    <tr>\n",
       "      <th>min</th>\n",
       "      <td>15.000000</td>\n",
       "    </tr>\n",
       "    <tr>\n",
       "      <th>25%</th>\n",
       "      <td>65.000000</td>\n",
       "    </tr>\n",
       "    <tr>\n",
       "      <th>50%</th>\n",
       "      <td>72.000000</td>\n",
       "    </tr>\n",
       "    <tr>\n",
       "      <th>75%</th>\n",
       "      <td>77.000000</td>\n",
       "    </tr>\n",
       "    <tr>\n",
       "      <th>max</th>\n",
       "      <td>80.000000</td>\n",
       "    </tr>\n",
       "  </tbody>\n",
       "</table>\n",
       "</div>"
      ],
      "text/plain": [
       "           Marks\n",
       "count   5.000000\n",
       "mean   61.800000\n",
       "std    26.771253\n",
       "min    15.000000\n",
       "25%    65.000000\n",
       "50%    72.000000\n",
       "75%    77.000000\n",
       "max    80.000000"
      ]
     },
     "execution_count": 17,
     "metadata": {},
     "output_type": "execute_result"
    }
   ],
   "source": [
    "df.describe()"
   ]
  },
  {
   "cell_type": "code",
   "execution_count": null,
   "id": "cef41eeb",
   "metadata": {},
   "outputs": [],
   "source": [
    "dict2 = {\n",
    "    'Name': [\"shahid\", \"tayyab khan\", \"abbas khan\", \"ibrahim\",\"M mazz\"],\n",
    "    'Marks': [3.91, 3.93, 3.6, 2.6, 1.9],\n",
    "    'Class': [\"3rd\",\"4th\", \"5th\", \"6th\", \"7th\"]\n",
    "}\n",
    "data1 = pd.DataFrame(dict2)\n",
    "data1.to_csv('data1(studnt).csv')"
   ]
  },
  {
   "cell_type": "code",
   "execution_count": 37,
   "id": "68ab1c5b",
   "metadata": {
    "scrolled": true
   },
   "outputs": [
    {
     "data": {
      "text/html": [
       "<div>\n",
       "<style scoped>\n",
       "    .dataframe tbody tr th:only-of-type {\n",
       "        vertical-align: middle;\n",
       "    }\n",
       "\n",
       "    .dataframe tbody tr th {\n",
       "        vertical-align: top;\n",
       "    }\n",
       "\n",
       "    .dataframe thead th {\n",
       "        text-align: right;\n",
       "    }\n",
       "</style>\n",
       "<table border=\"1\" class=\"dataframe\">\n",
       "  <thead>\n",
       "    <tr style=\"text-align: right;\">\n",
       "      <th></th>\n",
       "      <th>Name</th>\n",
       "      <th>gpa</th>\n",
       "      <th>Class</th>\n",
       "    </tr>\n",
       "  </thead>\n",
       "  <tbody>\n",
       "    <tr>\n",
       "      <th>0</th>\n",
       "      <td>shahid</td>\n",
       "      <td>3.91</td>\n",
       "      <td>3rd</td>\n",
       "    </tr>\n",
       "    <tr>\n",
       "      <th>1</th>\n",
       "      <td>tayyab khan</td>\n",
       "      <td>3.93</td>\n",
       "      <td>4th</td>\n",
       "    </tr>\n",
       "    <tr>\n",
       "      <th>2</th>\n",
       "      <td>abbas khan</td>\n",
       "      <td>3.60</td>\n",
       "      <td>5th</td>\n",
       "    </tr>\n",
       "    <tr>\n",
       "      <th>3</th>\n",
       "      <td>ibrahim</td>\n",
       "      <td>2.60</td>\n",
       "      <td>6th</td>\n",
       "    </tr>\n",
       "    <tr>\n",
       "      <th>4</th>\n",
       "      <td>M mazz</td>\n",
       "      <td>1.90</td>\n",
       "      <td>7th</td>\n",
       "    </tr>\n",
       "  </tbody>\n",
       "</table>\n",
       "</div>"
      ],
      "text/plain": [
       "          Name   gpa Class\n",
       "0       shahid  3.91   3rd\n",
       "1  tayyab khan  3.93   4th\n",
       "2   abbas khan  3.60   5th\n",
       "3      ibrahim  2.60   6th\n",
       "4       M mazz  1.90   7th"
      ]
     },
     "execution_count": 37,
     "metadata": {},
     "output_type": "execute_result"
    }
   ],
   "source": [
    "classData = pd.read_csv('data1(studnt).csv')\n",
    "classData"
   ]
  },
  {
   "cell_type": "code",
   "execution_count": 38,
   "id": "830bb23b",
   "metadata": {},
   "outputs": [
    {
     "data": {
      "text/html": [
       "<div>\n",
       "<style scoped>\n",
       "    .dataframe tbody tr th:only-of-type {\n",
       "        vertical-align: middle;\n",
       "    }\n",
       "\n",
       "    .dataframe tbody tr th {\n",
       "        vertical-align: top;\n",
       "    }\n",
       "\n",
       "    .dataframe thead th {\n",
       "        text-align: right;\n",
       "    }\n",
       "</style>\n",
       "<table border=\"1\" class=\"dataframe\">\n",
       "  <thead>\n",
       "    <tr style=\"text-align: right;\">\n",
       "      <th></th>\n",
       "      <th>Name</th>\n",
       "      <th>gpa</th>\n",
       "      <th>Class</th>\n",
       "    </tr>\n",
       "  </thead>\n",
       "  <tbody>\n",
       "    <tr>\n",
       "      <th>1</th>\n",
       "      <td>tayyab khan</td>\n",
       "      <td>3.93</td>\n",
       "      <td>4th</td>\n",
       "    </tr>\n",
       "    <tr>\n",
       "      <th>2</th>\n",
       "      <td>abbas khan</td>\n",
       "      <td>3.60</td>\n",
       "      <td>5th</td>\n",
       "    </tr>\n",
       "    <tr>\n",
       "      <th>3</th>\n",
       "      <td>ibrahim</td>\n",
       "      <td>2.60</td>\n",
       "      <td>6th</td>\n",
       "    </tr>\n",
       "    <tr>\n",
       "      <th>4</th>\n",
       "      <td>M mazz</td>\n",
       "      <td>1.90</td>\n",
       "      <td>7th</td>\n",
       "    </tr>\n",
       "  </tbody>\n",
       "</table>\n",
       "</div>"
      ],
      "text/plain": [
       "          Name   gpa Class\n",
       "1  tayyab khan  3.93   4th\n",
       "2   abbas khan  3.60   5th\n",
       "3      ibrahim  2.60   6th\n",
       "4       M mazz  1.90   7th"
      ]
     },
     "execution_count": 38,
     "metadata": {},
     "output_type": "execute_result"
    }
   ],
   "source": [
    "classData.drop(0, axis=0)"
   ]
  },
  {
   "cell_type": "code",
   "execution_count": 39,
   "id": "2a995fd3",
   "metadata": {},
   "outputs": [
    {
     "data": {
      "text/html": [
       "<div>\n",
       "<style scoped>\n",
       "    .dataframe tbody tr th:only-of-type {\n",
       "        vertical-align: middle;\n",
       "    }\n",
       "\n",
       "    .dataframe tbody tr th {\n",
       "        vertical-align: top;\n",
       "    }\n",
       "\n",
       "    .dataframe thead th {\n",
       "        text-align: right;\n",
       "    }\n",
       "</style>\n",
       "<table border=\"1\" class=\"dataframe\">\n",
       "  <thead>\n",
       "    <tr style=\"text-align: right;\">\n",
       "      <th></th>\n",
       "      <th>Name</th>\n",
       "      <th>gpa</th>\n",
       "      <th>Class</th>\n",
       "    </tr>\n",
       "  </thead>\n",
       "  <tbody>\n",
       "    <tr>\n",
       "      <th>0</th>\n",
       "      <td>shahid</td>\n",
       "      <td>3.91</td>\n",
       "      <td>3rd</td>\n",
       "    </tr>\n",
       "    <tr>\n",
       "      <th>1</th>\n",
       "      <td>tayyab khan</td>\n",
       "      <td>3.93</td>\n",
       "      <td>4th</td>\n",
       "    </tr>\n",
       "    <tr>\n",
       "      <th>2</th>\n",
       "      <td>abbas khan</td>\n",
       "      <td>3.60</td>\n",
       "      <td>5th</td>\n",
       "    </tr>\n",
       "    <tr>\n",
       "      <th>3</th>\n",
       "      <td>ibrahim</td>\n",
       "      <td>2.60</td>\n",
       "      <td>6th</td>\n",
       "    </tr>\n",
       "    <tr>\n",
       "      <th>4</th>\n",
       "      <td>M mazz</td>\n",
       "      <td>1.90</td>\n",
       "      <td>7th</td>\n",
       "    </tr>\n",
       "  </tbody>\n",
       "</table>\n",
       "</div>"
      ],
      "text/plain": [
       "          Name   gpa Class\n",
       "0       shahid  3.91   3rd\n",
       "1  tayyab khan  3.93   4th\n",
       "2   abbas khan  3.60   5th\n",
       "3      ibrahim  2.60   6th\n",
       "4       M mazz  1.90   7th"
      ]
     },
     "execution_count": 39,
     "metadata": {},
     "output_type": "execute_result"
    }
   ],
   "source": [
    "classData"
   ]
  },
  {
   "cell_type": "code",
   "execution_count": 40,
   "id": "2c7214e7",
   "metadata": {},
   "outputs": [
    {
     "data": {
      "text/plain": [
       "0    3.91\n",
       "1    3.93\n",
       "2    3.60\n",
       "3    2.60\n",
       "4    1.90\n",
       "Name: gpa, dtype: float64"
      ]
     },
     "execution_count": 40,
     "metadata": {},
     "output_type": "execute_result"
    }
   ],
   "source": [
    "classData['gpa']"
   ]
  },
  {
   "cell_type": "code",
   "execution_count": 42,
   "id": "a8ed245d",
   "metadata": {},
   "outputs": [
    {
     "data": {
      "text/plain": [
       "0    3rd\n",
       "1    4th\n",
       "2    5th\n",
       "3    6th\n",
       "4    7th\n",
       "Name: Class, dtype: object"
      ]
     },
     "execution_count": 42,
     "metadata": {},
     "output_type": "execute_result"
    }
   ],
   "source": [
    "classData['Class']"
   ]
  },
  {
   "cell_type": "code",
   "execution_count": 181,
   "id": "59bf8806",
   "metadata": {},
   "outputs": [
    {
     "data": {
      "text/plain": [
       "First     3rd\n",
       "Second    4th\n",
       "Third     5th\n",
       "Fourth    6th\n",
       "Fifth     7th\n",
       "Name: class , dtype: object"
      ]
     },
     "execution_count": 181,
     "metadata": {},
     "output_type": "execute_result"
    }
   ],
   "source": [
    "classData['class ']"
   ]
  },
  {
   "cell_type": "code",
   "execution_count": 43,
   "id": "99c76ae8",
   "metadata": {},
   "outputs": [
    {
     "data": {
      "text/plain": [
       "0         shahid\n",
       "1    tayyab khan\n",
       "2     abbas khan\n",
       "3        ibrahim\n",
       "4         M mazz\n",
       "Name: Name, dtype: object"
      ]
     },
     "execution_count": 43,
     "metadata": {},
     "output_type": "execute_result"
    }
   ],
   "source": [
    "classData['Name']"
   ]
  },
  {
   "cell_type": "code",
   "execution_count": 46,
   "id": "5b926cfa",
   "metadata": {},
   "outputs": [
    {
     "data": {
      "text/plain": [
       "0         shahid\n",
       "1    tayyab khan\n",
       "2     abbas khan\n",
       "3        ibrahim\n",
       "4         M mazz\n",
       "Name: Name, dtype: object"
      ]
     },
     "execution_count": 46,
     "metadata": {},
     "output_type": "execute_result"
    }
   ],
   "source": [
    "classData['Name']"
   ]
  },
  {
   "cell_type": "code",
   "execution_count": 47,
   "id": "377b2115",
   "metadata": {},
   "outputs": [
    {
     "data": {
      "text/plain": [
       "pandas.core.series.Series"
      ]
     },
     "execution_count": 47,
     "metadata": {},
     "output_type": "execute_result"
    }
   ],
   "source": [
    "type(classData['Name'])"
   ]
  },
  {
   "cell_type": "code",
   "execution_count": 48,
   "id": "c87b914f",
   "metadata": {},
   "outputs": [
    {
     "data": {
      "text/plain": [
       "0    3.91\n",
       "1    3.93\n",
       "2    3.60\n",
       "3    2.60\n",
       "4    1.90\n",
       "Name: gpa, dtype: float64"
      ]
     },
     "execution_count": 48,
     "metadata": {},
     "output_type": "execute_result"
    }
   ],
   "source": [
    "classData['gpa']"
   ]
  },
  {
   "cell_type": "code",
   "execution_count": 49,
   "id": "c40e2744",
   "metadata": {},
   "outputs": [
    {
     "data": {
      "text/plain": [
       "3.91"
      ]
     },
     "execution_count": 49,
     "metadata": {},
     "output_type": "execute_result"
    }
   ],
   "source": [
    "classData['gpa'][0]"
   ]
  },
  {
   "cell_type": "code",
   "execution_count": 50,
   "id": "4b39e3e9",
   "metadata": {},
   "outputs": [
    {
     "name": "stderr",
     "output_type": "stream",
     "text": [
      "c:\\Users\\SHAHID\\16-Codes\\envs\\STLF\\lib\\site-packages\\ipykernel_launcher.py:1: SettingWithCopyWarning: \n",
      "A value is trying to be set on a copy of a slice from a DataFrame\n",
      "\n",
      "See the caveats in the documentation: https://pandas.pydata.org/pandas-docs/stable/user_guide/indexing.html#returning-a-view-versus-a-copy\n",
      "  \"\"\"Entry point for launching an IPython kernel.\n"
     ]
    }
   ],
   "source": [
    "classData['gpa'][0]=90"
   ]
  },
  {
   "cell_type": "code",
   "execution_count": 51,
   "id": "4f1aaee2",
   "metadata": {},
   "outputs": [
    {
     "data": {
      "text/html": [
       "<div>\n",
       "<style scoped>\n",
       "    .dataframe tbody tr th:only-of-type {\n",
       "        vertical-align: middle;\n",
       "    }\n",
       "\n",
       "    .dataframe tbody tr th {\n",
       "        vertical-align: top;\n",
       "    }\n",
       "\n",
       "    .dataframe thead th {\n",
       "        text-align: right;\n",
       "    }\n",
       "</style>\n",
       "<table border=\"1\" class=\"dataframe\">\n",
       "  <thead>\n",
       "    <tr style=\"text-align: right;\">\n",
       "      <th></th>\n",
       "      <th>Name</th>\n",
       "      <th>gpa</th>\n",
       "      <th>Class</th>\n",
       "    </tr>\n",
       "  </thead>\n",
       "  <tbody>\n",
       "    <tr>\n",
       "      <th>0</th>\n",
       "      <td>shahid</td>\n",
       "      <td>90.00</td>\n",
       "      <td>3rd</td>\n",
       "    </tr>\n",
       "    <tr>\n",
       "      <th>1</th>\n",
       "      <td>tayyab khan</td>\n",
       "      <td>3.93</td>\n",
       "      <td>4th</td>\n",
       "    </tr>\n",
       "    <tr>\n",
       "      <th>2</th>\n",
       "      <td>abbas khan</td>\n",
       "      <td>3.60</td>\n",
       "      <td>5th</td>\n",
       "    </tr>\n",
       "    <tr>\n",
       "      <th>3</th>\n",
       "      <td>ibrahim</td>\n",
       "      <td>2.60</td>\n",
       "      <td>6th</td>\n",
       "    </tr>\n",
       "    <tr>\n",
       "      <th>4</th>\n",
       "      <td>M mazz</td>\n",
       "      <td>1.90</td>\n",
       "      <td>7th</td>\n",
       "    </tr>\n",
       "  </tbody>\n",
       "</table>\n",
       "</div>"
      ],
      "text/plain": [
       "          Name    gpa Class\n",
       "0       shahid  90.00   3rd\n",
       "1  tayyab khan   3.93   4th\n",
       "2   abbas khan   3.60   5th\n",
       "3      ibrahim   2.60   6th\n",
       "4       M mazz   1.90   7th"
      ]
     },
     "execution_count": 51,
     "metadata": {},
     "output_type": "execute_result"
    }
   ],
   "source": [
    "classData"
   ]
  },
  {
   "cell_type": "code",
   "execution_count": 52,
   "id": "564f6ae3",
   "metadata": {},
   "outputs": [
    {
     "data": {
      "text/plain": [
       "1.9"
      ]
     },
     "execution_count": 52,
     "metadata": {},
     "output_type": "execute_result"
    }
   ],
   "source": [
    "classData['gpa'][4]"
   ]
  },
  {
   "cell_type": "code",
   "execution_count": 53,
   "id": "b8ce8235",
   "metadata": {},
   "outputs": [
    {
     "name": "stderr",
     "output_type": "stream",
     "text": [
      "c:\\Users\\SHAHID\\16-Codes\\envs\\STLF\\lib\\site-packages\\ipykernel_launcher.py:1: SettingWithCopyWarning: \n",
      "A value is trying to be set on a copy of a slice from a DataFrame\n",
      "\n",
      "See the caveats in the documentation: https://pandas.pydata.org/pandas-docs/stable/user_guide/indexing.html#returning-a-view-versus-a-copy\n",
      "  \"\"\"Entry point for launching an IPython kernel.\n"
     ]
    }
   ],
   "source": [
    "classData['gpa'][4]=5"
   ]
  },
  {
   "cell_type": "code",
   "execution_count": 56,
   "id": "6be8fba8",
   "metadata": {},
   "outputs": [
    {
     "name": "stderr",
     "output_type": "stream",
     "text": [
      "c:\\Users\\SHAHID\\16-Codes\\envs\\STLF\\lib\\site-packages\\ipykernel_launcher.py:1: SettingWithCopyWarning: \n",
      "A value is trying to be set on a copy of a slice from a DataFrame\n",
      "\n",
      "See the caveats in the documentation: https://pandas.pydata.org/pandas-docs/stable/user_guide/indexing.html#returning-a-view-versus-a-copy\n",
      "  \"\"\"Entry point for launching an IPython kernel.\n"
     ]
    }
   ],
   "source": [
    "classData[\"Class\"][4]=\"5th\""
   ]
  },
  {
   "cell_type": "code",
   "execution_count": 57,
   "id": "da1ae981",
   "metadata": {},
   "outputs": [
    {
     "data": {
      "text/html": [
       "<div>\n",
       "<style scoped>\n",
       "    .dataframe tbody tr th:only-of-type {\n",
       "        vertical-align: middle;\n",
       "    }\n",
       "\n",
       "    .dataframe tbody tr th {\n",
       "        vertical-align: top;\n",
       "    }\n",
       "\n",
       "    .dataframe thead th {\n",
       "        text-align: right;\n",
       "    }\n",
       "</style>\n",
       "<table border=\"1\" class=\"dataframe\">\n",
       "  <thead>\n",
       "    <tr style=\"text-align: right;\">\n",
       "      <th></th>\n",
       "      <th>Name</th>\n",
       "      <th>gpa</th>\n",
       "      <th>Class</th>\n",
       "    </tr>\n",
       "  </thead>\n",
       "  <tbody>\n",
       "    <tr>\n",
       "      <th>0</th>\n",
       "      <td>shahid</td>\n",
       "      <td>90.00</td>\n",
       "      <td>3rd</td>\n",
       "    </tr>\n",
       "    <tr>\n",
       "      <th>1</th>\n",
       "      <td>tayyab khan</td>\n",
       "      <td>3.93</td>\n",
       "      <td>4th</td>\n",
       "    </tr>\n",
       "    <tr>\n",
       "      <th>2</th>\n",
       "      <td>abbas khan</td>\n",
       "      <td>3.60</td>\n",
       "      <td>5th</td>\n",
       "    </tr>\n",
       "    <tr>\n",
       "      <th>3</th>\n",
       "      <td>ibrahim</td>\n",
       "      <td>2.60</td>\n",
       "      <td>6th</td>\n",
       "    </tr>\n",
       "    <tr>\n",
       "      <th>4</th>\n",
       "      <td>M mazz</td>\n",
       "      <td>5.00</td>\n",
       "      <td>5th</td>\n",
       "    </tr>\n",
       "  </tbody>\n",
       "</table>\n",
       "</div>"
      ],
      "text/plain": [
       "          Name    gpa Class\n",
       "0       shahid  90.00   3rd\n",
       "1  tayyab khan   3.93   4th\n",
       "2   abbas khan   3.60   5th\n",
       "3      ibrahim   2.60   6th\n",
       "4       M mazz   5.00   5th"
      ]
     },
     "execution_count": 57,
     "metadata": {},
     "output_type": "execute_result"
    }
   ],
   "source": [
    "classData"
   ]
  },
  {
   "cell_type": "code",
   "execution_count": 60,
   "id": "ac6a64b7",
   "metadata": {},
   "outputs": [
    {
     "data": {
      "text/plain": [
       "'M mazz'"
      ]
     },
     "execution_count": 60,
     "metadata": {},
     "output_type": "execute_result"
    }
   ],
   "source": [
    "classData[\"Name\"][4]"
   ]
  },
  {
   "cell_type": "code",
   "execution_count": 61,
   "id": "5f4a0ec1",
   "metadata": {},
   "outputs": [
    {
     "data": {
      "text/html": [
       "<div>\n",
       "<style scoped>\n",
       "    .dataframe tbody tr th:only-of-type {\n",
       "        vertical-align: middle;\n",
       "    }\n",
       "\n",
       "    .dataframe tbody tr th {\n",
       "        vertical-align: top;\n",
       "    }\n",
       "\n",
       "    .dataframe thead th {\n",
       "        text-align: right;\n",
       "    }\n",
       "</style>\n",
       "<table border=\"1\" class=\"dataframe\">\n",
       "  <thead>\n",
       "    <tr style=\"text-align: right;\">\n",
       "      <th></th>\n",
       "      <th>Name</th>\n",
       "      <th>gpa</th>\n",
       "      <th>Class</th>\n",
       "    </tr>\n",
       "  </thead>\n",
       "  <tbody>\n",
       "    <tr>\n",
       "      <th>0</th>\n",
       "      <td>shahid</td>\n",
       "      <td>90.00</td>\n",
       "      <td>3rd</td>\n",
       "    </tr>\n",
       "    <tr>\n",
       "      <th>1</th>\n",
       "      <td>tayyab khan</td>\n",
       "      <td>3.93</td>\n",
       "      <td>4th</td>\n",
       "    </tr>\n",
       "    <tr>\n",
       "      <th>2</th>\n",
       "      <td>abbas khan</td>\n",
       "      <td>3.60</td>\n",
       "      <td>5th</td>\n",
       "    </tr>\n",
       "    <tr>\n",
       "      <th>3</th>\n",
       "      <td>ibrahim</td>\n",
       "      <td>2.60</td>\n",
       "      <td>6th</td>\n",
       "    </tr>\n",
       "    <tr>\n",
       "      <th>4</th>\n",
       "      <td>M mazz</td>\n",
       "      <td>5.00</td>\n",
       "      <td>5th</td>\n",
       "    </tr>\n",
       "  </tbody>\n",
       "</table>\n",
       "</div>"
      ],
      "text/plain": [
       "          Name    gpa Class\n",
       "0       shahid  90.00   3rd\n",
       "1  tayyab khan   3.93   4th\n",
       "2   abbas khan   3.60   5th\n",
       "3      ibrahim   2.60   6th\n",
       "4       M mazz   5.00   5th"
      ]
     },
     "execution_count": 61,
     "metadata": {},
     "output_type": "execute_result"
    }
   ],
   "source": [
    "classData"
   ]
  },
  {
   "cell_type": "code",
   "execution_count": 62,
   "id": "76de56ae",
   "metadata": {},
   "outputs": [],
   "source": [
    "classData.to_csv('pythonMondayNew.csv')"
   ]
  },
  {
   "cell_type": "code",
   "execution_count": 63,
   "id": "5c113b0a",
   "metadata": {},
   "outputs": [],
   "source": [
    "classData.to_csv('pythonMondayNewRemoveIndex.csv', index=False)"
   ]
  },
  {
   "cell_type": "markdown",
   "id": "8598ddd4",
   "metadata": {},
   "source": [
    "## Create Labels\n",
    "With the index argument, you can name your own labels."
   ]
  },
  {
   "cell_type": "code",
   "execution_count": 64,
   "id": "6068ca8d",
   "metadata": {},
   "outputs": [],
   "source": [
    "classData.index = [\"First\",\"Second\", \"Third\", \"Fourth\", \"Fifth\"]"
   ]
  },
  {
   "cell_type": "code",
   "execution_count": 65,
   "id": "11941c16",
   "metadata": {},
   "outputs": [
    {
     "data": {
      "text/html": [
       "<div>\n",
       "<style scoped>\n",
       "    .dataframe tbody tr th:only-of-type {\n",
       "        vertical-align: middle;\n",
       "    }\n",
       "\n",
       "    .dataframe tbody tr th {\n",
       "        vertical-align: top;\n",
       "    }\n",
       "\n",
       "    .dataframe thead th {\n",
       "        text-align: right;\n",
       "    }\n",
       "</style>\n",
       "<table border=\"1\" class=\"dataframe\">\n",
       "  <thead>\n",
       "    <tr style=\"text-align: right;\">\n",
       "      <th></th>\n",
       "      <th>Name</th>\n",
       "      <th>gpa</th>\n",
       "      <th>Class</th>\n",
       "    </tr>\n",
       "  </thead>\n",
       "  <tbody>\n",
       "    <tr>\n",
       "      <th>First</th>\n",
       "      <td>shahid</td>\n",
       "      <td>90.00</td>\n",
       "      <td>3rd</td>\n",
       "    </tr>\n",
       "    <tr>\n",
       "      <th>Second</th>\n",
       "      <td>tayyab khan</td>\n",
       "      <td>3.93</td>\n",
       "      <td>4th</td>\n",
       "    </tr>\n",
       "    <tr>\n",
       "      <th>Third</th>\n",
       "      <td>abbas khan</td>\n",
       "      <td>3.60</td>\n",
       "      <td>5th</td>\n",
       "    </tr>\n",
       "    <tr>\n",
       "      <th>Fourth</th>\n",
       "      <td>ibrahim</td>\n",
       "      <td>2.60</td>\n",
       "      <td>6th</td>\n",
       "    </tr>\n",
       "    <tr>\n",
       "      <th>Fifth</th>\n",
       "      <td>M mazz</td>\n",
       "      <td>5.00</td>\n",
       "      <td>5th</td>\n",
       "    </tr>\n",
       "  </tbody>\n",
       "</table>\n",
       "</div>"
      ],
      "text/plain": [
       "               Name    gpa Class\n",
       "First        shahid  90.00   3rd\n",
       "Second  tayyab khan   3.93   4th\n",
       "Third    abbas khan   3.60   5th\n",
       "Fourth      ibrahim   2.60   6th\n",
       "Fifth        M mazz   5.00   5th"
      ]
     },
     "execution_count": 65,
     "metadata": {},
     "output_type": "execute_result"
    }
   ],
   "source": [
    "classData"
   ]
  },
  {
   "cell_type": "code",
   "execution_count": 66,
   "id": "8c7dc4ab",
   "metadata": {},
   "outputs": [
    {
     "data": {
      "text/plain": [
       "'M mazz'"
      ]
     },
     "execution_count": 66,
     "metadata": {},
     "output_type": "execute_result"
    }
   ],
   "source": [
    "classData[\"Name\"][\"Fifth\"]"
   ]
  },
  {
   "cell_type": "markdown",
   "id": "ef732464",
   "metadata": {},
   "source": [
    "## Pandas \n",
    "Pandas is an open source data analysis library written in Python.<br>\n",
    "It uses the power and speed of numpy to make data analysis and preprocessing easy for data scientists.<br>\n",
    "__Pandas__ is used to analyze data.<br>\n",
    "Python data analysis using pandas is a great start to Exploratory Data Analysis (EDA) for a data scientist."
   ]
  },
  {
   "cell_type": "markdown",
   "id": "67c0937b",
   "metadata": {},
   "source": [
    "## Pandas Data Structure\n",
    "Panda has two types of Data Structure:<br> \n",
    "    a) Series<br>\n",
    "    b) Dataframe\n",
    "### Series\n",
    "It is a one dimentional array with indexes. It stores a single column or row of data in a Dataframe.<br>\n",
    "It is a one dimensional array capable of holding any type of data.\n",
    "### Dataframe\n",
    "It is a tabular spreadsheet like structure representing rows each of which contains one or more columns.<br>\n",
    "It is a multi dimensional array capable of holding any type of data.<br>\n",
    "__Series__ is like a column, a __DataFrame__ is the whole table."
   ]
  },
  {
   "cell_type": "code",
   "execution_count": 67,
   "id": "036c76bb",
   "metadata": {},
   "outputs": [
    {
     "data": {
      "text/plain": [
       "First     90.00\n",
       "Second     3.93\n",
       "Third      3.60\n",
       "Fourth     2.60\n",
       "Fifth      5.00\n",
       "Name: gpa, dtype: float64"
      ]
     },
     "execution_count": 67,
     "metadata": {},
     "output_type": "execute_result"
    }
   ],
   "source": [
    "classData['gpa']"
   ]
  },
  {
   "cell_type": "code",
   "execution_count": 68,
   "id": "2513c566",
   "metadata": {},
   "outputs": [
    {
     "data": {
      "text/plain": [
       "pandas.core.series.Series"
      ]
     },
     "execution_count": 68,
     "metadata": {},
     "output_type": "execute_result"
    }
   ],
   "source": [
    " type(classData['gpa'])"
   ]
  },
  {
   "cell_type": "code",
   "execution_count": 69,
   "id": "322c0ff8",
   "metadata": {},
   "outputs": [
    {
     "data": {
      "text/html": [
       "<div>\n",
       "<style scoped>\n",
       "    .dataframe tbody tr th:only-of-type {\n",
       "        vertical-align: middle;\n",
       "    }\n",
       "\n",
       "    .dataframe tbody tr th {\n",
       "        vertical-align: top;\n",
       "    }\n",
       "\n",
       "    .dataframe thead th {\n",
       "        text-align: right;\n",
       "    }\n",
       "</style>\n",
       "<table border=\"1\" class=\"dataframe\">\n",
       "  <thead>\n",
       "    <tr style=\"text-align: right;\">\n",
       "      <th></th>\n",
       "      <th>Name</th>\n",
       "      <th>gpa</th>\n",
       "      <th>Class</th>\n",
       "    </tr>\n",
       "  </thead>\n",
       "  <tbody>\n",
       "    <tr>\n",
       "      <th>First</th>\n",
       "      <td>shahid</td>\n",
       "      <td>90.00</td>\n",
       "      <td>3rd</td>\n",
       "    </tr>\n",
       "    <tr>\n",
       "      <th>Second</th>\n",
       "      <td>tayyab khan</td>\n",
       "      <td>3.93</td>\n",
       "      <td>4th</td>\n",
       "    </tr>\n",
       "    <tr>\n",
       "      <th>Third</th>\n",
       "      <td>abbas khan</td>\n",
       "      <td>3.60</td>\n",
       "      <td>5th</td>\n",
       "    </tr>\n",
       "    <tr>\n",
       "      <th>Fourth</th>\n",
       "      <td>ibrahim</td>\n",
       "      <td>2.60</td>\n",
       "      <td>6th</td>\n",
       "    </tr>\n",
       "    <tr>\n",
       "      <th>Fifth</th>\n",
       "      <td>M mazz</td>\n",
       "      <td>5.00</td>\n",
       "      <td>5th</td>\n",
       "    </tr>\n",
       "  </tbody>\n",
       "</table>\n",
       "</div>"
      ],
      "text/plain": [
       "               Name    gpa Class\n",
       "First        shahid  90.00   3rd\n",
       "Second  tayyab khan   3.93   4th\n",
       "Third    abbas khan   3.60   5th\n",
       "Fourth      ibrahim   2.60   6th\n",
       "Fifth        M mazz   5.00   5th"
      ]
     },
     "execution_count": 69,
     "metadata": {},
     "output_type": "execute_result"
    }
   ],
   "source": [
    "classData"
   ]
  },
  {
   "cell_type": "code",
   "execution_count": 70,
   "id": "5a3ab22e",
   "metadata": {},
   "outputs": [
    {
     "data": {
      "text/plain": [
       "pandas.core.frame.DataFrame"
      ]
     },
     "execution_count": 70,
     "metadata": {},
     "output_type": "execute_result"
    }
   ],
   "source": [
    "type(classData)"
   ]
  },
  {
   "cell_type": "code",
   "execution_count": 71,
   "id": "5268b0a9",
   "metadata": {},
   "outputs": [],
   "source": [
    "import numpy as np"
   ]
  },
  {
   "cell_type": "code",
   "execution_count": 72,
   "id": "54345486",
   "metadata": {},
   "outputs": [],
   "source": [
    "series1= pd.Series(np.random.rand())"
   ]
  },
  {
   "cell_type": "code",
   "execution_count": 73,
   "id": "c19c0a18",
   "metadata": {},
   "outputs": [
    {
     "data": {
      "text/plain": [
       "0    0.318253\n",
       "dtype: float64"
      ]
     },
     "execution_count": 73,
     "metadata": {},
     "output_type": "execute_result"
    }
   ],
   "source": [
    "series1"
   ]
  },
  {
   "cell_type": "code",
   "execution_count": 74,
   "id": "3962ba6d",
   "metadata": {},
   "outputs": [],
   "source": [
    "series1= pd.Series(np.random.rand(30))"
   ]
  },
  {
   "cell_type": "code",
   "execution_count": 75,
   "id": "0f576808",
   "metadata": {},
   "outputs": [
    {
     "data": {
      "text/plain": [
       "0     0.528086\n",
       "1     0.064928\n",
       "2     0.935267\n",
       "3     0.334385\n",
       "4     0.894675\n",
       "5     0.796756\n",
       "6     0.817933\n",
       "7     0.475081\n",
       "8     0.267357\n",
       "9     0.752385\n",
       "10    0.971791\n",
       "11    0.479425\n",
       "12    0.130421\n",
       "13    0.258216\n",
       "14    0.335134\n",
       "15    0.831847\n",
       "16    0.921330\n",
       "17    0.508143\n",
       "18    0.956262\n",
       "19    0.756372\n",
       "20    0.350651\n",
       "21    0.041231\n",
       "22    0.650359\n",
       "23    0.083001\n",
       "24    0.891932\n",
       "25    0.064070\n",
       "26    0.934345\n",
       "27    0.484772\n",
       "28    0.607528\n",
       "29    0.231092\n",
       "dtype: float64"
      ]
     },
     "execution_count": 75,
     "metadata": {},
     "output_type": "execute_result"
    }
   ],
   "source": [
    "series1"
   ]
  },
  {
   "cell_type": "code",
   "execution_count": 76,
   "id": "e5e9ce8d",
   "metadata": {},
   "outputs": [
    {
     "data": {
      "text/plain": [
       "pandas.core.series.Series"
      ]
     },
     "execution_count": 76,
     "metadata": {},
     "output_type": "execute_result"
    }
   ],
   "source": [
    "type(series1)"
   ]
  },
  {
   "cell_type": "code",
   "execution_count": 77,
   "id": "79f949f5",
   "metadata": {},
   "outputs": [],
   "source": [
    "newDf = pd.DataFrame(np.random.rand(330,5))\n",
    "# newDf = pd.DataFrame(np.random.rand(330,5), index=np.arange(330))"
   ]
  },
  {
   "cell_type": "code",
   "execution_count": 78,
   "id": "444b2e6a",
   "metadata": {},
   "outputs": [
    {
     "data": {
      "text/plain": [
       "pandas.core.frame.DataFrame"
      ]
     },
     "execution_count": 78,
     "metadata": {},
     "output_type": "execute_result"
    }
   ],
   "source": [
    "type(newDf)"
   ]
  },
  {
   "cell_type": "code",
   "execution_count": 79,
   "id": "55b8ed35",
   "metadata": {},
   "outputs": [
    {
     "data": {
      "text/html": [
       "<div>\n",
       "<style scoped>\n",
       "    .dataframe tbody tr th:only-of-type {\n",
       "        vertical-align: middle;\n",
       "    }\n",
       "\n",
       "    .dataframe tbody tr th {\n",
       "        vertical-align: top;\n",
       "    }\n",
       "\n",
       "    .dataframe thead th {\n",
       "        text-align: right;\n",
       "    }\n",
       "</style>\n",
       "<table border=\"1\" class=\"dataframe\">\n",
       "  <thead>\n",
       "    <tr style=\"text-align: right;\">\n",
       "      <th></th>\n",
       "      <th>0</th>\n",
       "      <th>1</th>\n",
       "      <th>2</th>\n",
       "      <th>3</th>\n",
       "      <th>4</th>\n",
       "    </tr>\n",
       "  </thead>\n",
       "  <tbody>\n",
       "    <tr>\n",
       "      <th>0</th>\n",
       "      <td>0.649675</td>\n",
       "      <td>0.393429</td>\n",
       "      <td>0.513138</td>\n",
       "      <td>0.148071</td>\n",
       "      <td>0.882801</td>\n",
       "    </tr>\n",
       "    <tr>\n",
       "      <th>1</th>\n",
       "      <td>0.385780</td>\n",
       "      <td>0.539862</td>\n",
       "      <td>0.215086</td>\n",
       "      <td>0.538730</td>\n",
       "      <td>0.177759</td>\n",
       "    </tr>\n",
       "    <tr>\n",
       "      <th>2</th>\n",
       "      <td>0.435884</td>\n",
       "      <td>0.330324</td>\n",
       "      <td>0.415753</td>\n",
       "      <td>0.783783</td>\n",
       "      <td>0.357882</td>\n",
       "    </tr>\n",
       "    <tr>\n",
       "      <th>3</th>\n",
       "      <td>0.156893</td>\n",
       "      <td>0.065059</td>\n",
       "      <td>0.388875</td>\n",
       "      <td>0.561804</td>\n",
       "      <td>0.068138</td>\n",
       "    </tr>\n",
       "    <tr>\n",
       "      <th>4</th>\n",
       "      <td>0.394894</td>\n",
       "      <td>0.372415</td>\n",
       "      <td>0.289047</td>\n",
       "      <td>0.398517</td>\n",
       "      <td>0.780231</td>\n",
       "    </tr>\n",
       "    <tr>\n",
       "      <th>...</th>\n",
       "      <td>...</td>\n",
       "      <td>...</td>\n",
       "      <td>...</td>\n",
       "      <td>...</td>\n",
       "      <td>...</td>\n",
       "    </tr>\n",
       "    <tr>\n",
       "      <th>325</th>\n",
       "      <td>0.561115</td>\n",
       "      <td>0.061401</td>\n",
       "      <td>0.410752</td>\n",
       "      <td>0.569647</td>\n",
       "      <td>0.643714</td>\n",
       "    </tr>\n",
       "    <tr>\n",
       "      <th>326</th>\n",
       "      <td>0.272256</td>\n",
       "      <td>0.352421</td>\n",
       "      <td>0.497207</td>\n",
       "      <td>0.904910</td>\n",
       "      <td>0.358230</td>\n",
       "    </tr>\n",
       "    <tr>\n",
       "      <th>327</th>\n",
       "      <td>0.587620</td>\n",
       "      <td>0.340505</td>\n",
       "      <td>0.368695</td>\n",
       "      <td>0.028878</td>\n",
       "      <td>0.471743</td>\n",
       "    </tr>\n",
       "    <tr>\n",
       "      <th>328</th>\n",
       "      <td>0.546821</td>\n",
       "      <td>0.310472</td>\n",
       "      <td>0.263364</td>\n",
       "      <td>0.248530</td>\n",
       "      <td>0.999155</td>\n",
       "    </tr>\n",
       "    <tr>\n",
       "      <th>329</th>\n",
       "      <td>0.980621</td>\n",
       "      <td>0.393699</td>\n",
       "      <td>0.859683</td>\n",
       "      <td>0.158451</td>\n",
       "      <td>0.327353</td>\n",
       "    </tr>\n",
       "  </tbody>\n",
       "</table>\n",
       "<p>330 rows × 5 columns</p>\n",
       "</div>"
      ],
      "text/plain": [
       "            0         1         2         3         4\n",
       "0    0.649675  0.393429  0.513138  0.148071  0.882801\n",
       "1    0.385780  0.539862  0.215086  0.538730  0.177759\n",
       "2    0.435884  0.330324  0.415753  0.783783  0.357882\n",
       "3    0.156893  0.065059  0.388875  0.561804  0.068138\n",
       "4    0.394894  0.372415  0.289047  0.398517  0.780231\n",
       "..        ...       ...       ...       ...       ...\n",
       "325  0.561115  0.061401  0.410752  0.569647  0.643714\n",
       "326  0.272256  0.352421  0.497207  0.904910  0.358230\n",
       "327  0.587620  0.340505  0.368695  0.028878  0.471743\n",
       "328  0.546821  0.310472  0.263364  0.248530  0.999155\n",
       "329  0.980621  0.393699  0.859683  0.158451  0.327353\n",
       "\n",
       "[330 rows x 5 columns]"
      ]
     },
     "execution_count": 79,
     "metadata": {},
     "output_type": "execute_result"
    }
   ],
   "source": [
    "newDf"
   ]
  },
  {
   "cell_type": "code",
   "execution_count": 80,
   "id": "28b371fe",
   "metadata": {},
   "outputs": [
    {
     "data": {
      "text/html": [
       "<div>\n",
       "<style scoped>\n",
       "    .dataframe tbody tr th:only-of-type {\n",
       "        vertical-align: middle;\n",
       "    }\n",
       "\n",
       "    .dataframe tbody tr th {\n",
       "        vertical-align: top;\n",
       "    }\n",
       "\n",
       "    .dataframe thead th {\n",
       "        text-align: right;\n",
       "    }\n",
       "</style>\n",
       "<table border=\"1\" class=\"dataframe\">\n",
       "  <thead>\n",
       "    <tr style=\"text-align: right;\">\n",
       "      <th></th>\n",
       "      <th>0</th>\n",
       "      <th>1</th>\n",
       "      <th>2</th>\n",
       "      <th>3</th>\n",
       "      <th>4</th>\n",
       "    </tr>\n",
       "  </thead>\n",
       "  <tbody>\n",
       "    <tr>\n",
       "      <th>0</th>\n",
       "      <td>0.649675</td>\n",
       "      <td>0.393429</td>\n",
       "      <td>0.513138</td>\n",
       "      <td>0.148071</td>\n",
       "      <td>0.882801</td>\n",
       "    </tr>\n",
       "    <tr>\n",
       "      <th>1</th>\n",
       "      <td>0.385780</td>\n",
       "      <td>0.539862</td>\n",
       "      <td>0.215086</td>\n",
       "      <td>0.538730</td>\n",
       "      <td>0.177759</td>\n",
       "    </tr>\n",
       "  </tbody>\n",
       "</table>\n",
       "</div>"
      ],
      "text/plain": [
       "          0         1         2         3         4\n",
       "0  0.649675  0.393429  0.513138  0.148071  0.882801\n",
       "1  0.385780  0.539862  0.215086  0.538730  0.177759"
      ]
     },
     "execution_count": 80,
     "metadata": {},
     "output_type": "execute_result"
    }
   ],
   "source": [
    "newDf.head(2)"
   ]
  },
  {
   "cell_type": "code",
   "execution_count": 81,
   "id": "50d431a7",
   "metadata": {},
   "outputs": [
    {
     "data": {
      "text/plain": [
       "0    float64\n",
       "1    float64\n",
       "2    float64\n",
       "3    float64\n",
       "4    float64\n",
       "dtype: object"
      ]
     },
     "execution_count": 81,
     "metadata": {},
     "output_type": "execute_result"
    }
   ],
   "source": [
    "newDf.dtypes"
   ]
  },
  {
   "cell_type": "code",
   "execution_count": 82,
   "id": "7eb41a2e",
   "metadata": {},
   "outputs": [
    {
     "data": {
      "text/html": [
       "<div>\n",
       "<style scoped>\n",
       "    .dataframe tbody tr th:only-of-type {\n",
       "        vertical-align: middle;\n",
       "    }\n",
       "\n",
       "    .dataframe tbody tr th {\n",
       "        vertical-align: top;\n",
       "    }\n",
       "\n",
       "    .dataframe thead th {\n",
       "        text-align: right;\n",
       "    }\n",
       "</style>\n",
       "<table border=\"1\" class=\"dataframe\">\n",
       "  <thead>\n",
       "    <tr style=\"text-align: right;\">\n",
       "      <th></th>\n",
       "      <th>0</th>\n",
       "      <th>1</th>\n",
       "      <th>2</th>\n",
       "      <th>3</th>\n",
       "      <th>4</th>\n",
       "    </tr>\n",
       "  </thead>\n",
       "  <tbody>\n",
       "    <tr>\n",
       "      <th>328</th>\n",
       "      <td>0.546821</td>\n",
       "      <td>0.310472</td>\n",
       "      <td>0.263364</td>\n",
       "      <td>0.248530</td>\n",
       "      <td>0.999155</td>\n",
       "    </tr>\n",
       "    <tr>\n",
       "      <th>329</th>\n",
       "      <td>0.980621</td>\n",
       "      <td>0.393699</td>\n",
       "      <td>0.859683</td>\n",
       "      <td>0.158451</td>\n",
       "      <td>0.327353</td>\n",
       "    </tr>\n",
       "  </tbody>\n",
       "</table>\n",
       "</div>"
      ],
      "text/plain": [
       "            0         1         2         3         4\n",
       "328  0.546821  0.310472  0.263364  0.248530  0.999155\n",
       "329  0.980621  0.393699  0.859683  0.158451  0.327353"
      ]
     },
     "execution_count": 82,
     "metadata": {},
     "output_type": "execute_result"
    }
   ],
   "source": [
    "newDf.tail(2)"
   ]
  },
  {
   "cell_type": "code",
   "execution_count": 83,
   "id": "76d60e8e",
   "metadata": {},
   "outputs": [
    {
     "name": "stdout",
     "output_type": "stream",
     "text": [
      "<class 'pandas.core.frame.DataFrame'>\n",
      "RangeIndex: 330 entries, 0 to 329\n",
      "Data columns (total 5 columns):\n",
      " #   Column  Non-Null Count  Dtype  \n",
      "---  ------  --------------  -----  \n",
      " 0   0       330 non-null    float64\n",
      " 1   1       330 non-null    float64\n",
      " 2   2       330 non-null    float64\n",
      " 3   3       330 non-null    float64\n",
      " 4   4       330 non-null    float64\n",
      "dtypes: float64(5)\n",
      "memory usage: 13.0 KB\n"
     ]
    }
   ],
   "source": [
    "newDf.info()"
   ]
  },
  {
   "cell_type": "code",
   "execution_count": 84,
   "id": "223d5cec",
   "metadata": {},
   "outputs": [
    {
     "data": {
      "text/html": [
       "<div>\n",
       "<style scoped>\n",
       "    .dataframe tbody tr th:only-of-type {\n",
       "        vertical-align: middle;\n",
       "    }\n",
       "\n",
       "    .dataframe tbody tr th {\n",
       "        vertical-align: top;\n",
       "    }\n",
       "\n",
       "    .dataframe thead th {\n",
       "        text-align: right;\n",
       "    }\n",
       "</style>\n",
       "<table border=\"1\" class=\"dataframe\">\n",
       "  <thead>\n",
       "    <tr style=\"text-align: right;\">\n",
       "      <th></th>\n",
       "      <th>0</th>\n",
       "      <th>1</th>\n",
       "      <th>2</th>\n",
       "      <th>3</th>\n",
       "      <th>4</th>\n",
       "    </tr>\n",
       "  </thead>\n",
       "  <tbody>\n",
       "    <tr>\n",
       "      <th>count</th>\n",
       "      <td>330.000000</td>\n",
       "      <td>330.000000</td>\n",
       "      <td>330.000000</td>\n",
       "      <td>330.000000</td>\n",
       "      <td>330.000000</td>\n",
       "    </tr>\n",
       "    <tr>\n",
       "      <th>mean</th>\n",
       "      <td>0.492486</td>\n",
       "      <td>0.474899</td>\n",
       "      <td>0.504057</td>\n",
       "      <td>0.496854</td>\n",
       "      <td>0.513057</td>\n",
       "    </tr>\n",
       "    <tr>\n",
       "      <th>std</th>\n",
       "      <td>0.275216</td>\n",
       "      <td>0.277518</td>\n",
       "      <td>0.293701</td>\n",
       "      <td>0.284506</td>\n",
       "      <td>0.290748</td>\n",
       "    </tr>\n",
       "    <tr>\n",
       "      <th>min</th>\n",
       "      <td>0.005473</td>\n",
       "      <td>0.003267</td>\n",
       "      <td>0.000153</td>\n",
       "      <td>0.000298</td>\n",
       "      <td>0.005861</td>\n",
       "    </tr>\n",
       "    <tr>\n",
       "      <th>25%</th>\n",
       "      <td>0.272712</td>\n",
       "      <td>0.257354</td>\n",
       "      <td>0.253800</td>\n",
       "      <td>0.255509</td>\n",
       "      <td>0.276811</td>\n",
       "    </tr>\n",
       "    <tr>\n",
       "      <th>50%</th>\n",
       "      <td>0.487134</td>\n",
       "      <td>0.448612</td>\n",
       "      <td>0.499120</td>\n",
       "      <td>0.523753</td>\n",
       "      <td>0.523313</td>\n",
       "    </tr>\n",
       "    <tr>\n",
       "      <th>75%</th>\n",
       "      <td>0.714541</td>\n",
       "      <td>0.715486</td>\n",
       "      <td>0.770134</td>\n",
       "      <td>0.736302</td>\n",
       "      <td>0.765248</td>\n",
       "    </tr>\n",
       "    <tr>\n",
       "      <th>max</th>\n",
       "      <td>0.999933</td>\n",
       "      <td>0.996678</td>\n",
       "      <td>0.997804</td>\n",
       "      <td>0.997978</td>\n",
       "      <td>0.999155</td>\n",
       "    </tr>\n",
       "  </tbody>\n",
       "</table>\n",
       "</div>"
      ],
      "text/plain": [
       "                0           1           2           3           4\n",
       "count  330.000000  330.000000  330.000000  330.000000  330.000000\n",
       "mean     0.492486    0.474899    0.504057    0.496854    0.513057\n",
       "std      0.275216    0.277518    0.293701    0.284506    0.290748\n",
       "min      0.005473    0.003267    0.000153    0.000298    0.005861\n",
       "25%      0.272712    0.257354    0.253800    0.255509    0.276811\n",
       "50%      0.487134    0.448612    0.499120    0.523753    0.523313\n",
       "75%      0.714541    0.715486    0.770134    0.736302    0.765248\n",
       "max      0.999933    0.996678    0.997804    0.997978    0.999155"
      ]
     },
     "execution_count": 84,
     "metadata": {},
     "output_type": "execute_result"
    }
   ],
   "source": [
    "newDf.describe()"
   ]
  },
  {
   "cell_type": "code",
   "execution_count": 85,
   "id": "e61e795c",
   "metadata": {},
   "outputs": [
    {
     "data": {
      "text/plain": [
       "0    float64\n",
       "1    float64\n",
       "2    float64\n",
       "3    float64\n",
       "4    float64\n",
       "dtype: object"
      ]
     },
     "execution_count": 85,
     "metadata": {},
     "output_type": "execute_result"
    }
   ],
   "source": [
    "newDf.dtypes"
   ]
  },
  {
   "cell_type": "code",
   "execution_count": 86,
   "id": "2e3fd75d",
   "metadata": {},
   "outputs": [],
   "source": [
    "newDf[0][0]= \"Maaz Khan\""
   ]
  },
  {
   "cell_type": "code",
   "execution_count": 87,
   "id": "ed64eec9",
   "metadata": {},
   "outputs": [
    {
     "data": {
      "text/plain": [
       "0     object\n",
       "1    float64\n",
       "2    float64\n",
       "3    float64\n",
       "4    float64\n",
       "dtype: object"
      ]
     },
     "execution_count": 87,
     "metadata": {},
     "output_type": "execute_result"
    }
   ],
   "source": [
    "newDf.dtypes"
   ]
  },
  {
   "cell_type": "code",
   "execution_count": 88,
   "id": "d7d21566",
   "metadata": {},
   "outputs": [
    {
     "data": {
      "text/html": [
       "<div>\n",
       "<style scoped>\n",
       "    .dataframe tbody tr th:only-of-type {\n",
       "        vertical-align: middle;\n",
       "    }\n",
       "\n",
       "    .dataframe tbody tr th {\n",
       "        vertical-align: top;\n",
       "    }\n",
       "\n",
       "    .dataframe thead th {\n",
       "        text-align: right;\n",
       "    }\n",
       "</style>\n",
       "<table border=\"1\" class=\"dataframe\">\n",
       "  <thead>\n",
       "    <tr style=\"text-align: right;\">\n",
       "      <th></th>\n",
       "      <th>0</th>\n",
       "      <th>1</th>\n",
       "      <th>2</th>\n",
       "      <th>3</th>\n",
       "      <th>4</th>\n",
       "    </tr>\n",
       "  </thead>\n",
       "  <tbody>\n",
       "    <tr>\n",
       "      <th>0</th>\n",
       "      <td>Maaz Khan</td>\n",
       "      <td>0.393429</td>\n",
       "      <td>0.513138</td>\n",
       "      <td>0.148071</td>\n",
       "      <td>0.882801</td>\n",
       "    </tr>\n",
       "    <tr>\n",
       "      <th>1</th>\n",
       "      <td>0.38578</td>\n",
       "      <td>0.539862</td>\n",
       "      <td>0.215086</td>\n",
       "      <td>0.538730</td>\n",
       "      <td>0.177759</td>\n",
       "    </tr>\n",
       "    <tr>\n",
       "      <th>2</th>\n",
       "      <td>0.435884</td>\n",
       "      <td>0.330324</td>\n",
       "      <td>0.415753</td>\n",
       "      <td>0.783783</td>\n",
       "      <td>0.357882</td>\n",
       "    </tr>\n",
       "    <tr>\n",
       "      <th>3</th>\n",
       "      <td>0.156893</td>\n",
       "      <td>0.065059</td>\n",
       "      <td>0.388875</td>\n",
       "      <td>0.561804</td>\n",
       "      <td>0.068138</td>\n",
       "    </tr>\n",
       "    <tr>\n",
       "      <th>4</th>\n",
       "      <td>0.394894</td>\n",
       "      <td>0.372415</td>\n",
       "      <td>0.289047</td>\n",
       "      <td>0.398517</td>\n",
       "      <td>0.780231</td>\n",
       "    </tr>\n",
       "    <tr>\n",
       "      <th>...</th>\n",
       "      <td>...</td>\n",
       "      <td>...</td>\n",
       "      <td>...</td>\n",
       "      <td>...</td>\n",
       "      <td>...</td>\n",
       "    </tr>\n",
       "    <tr>\n",
       "      <th>325</th>\n",
       "      <td>0.561115</td>\n",
       "      <td>0.061401</td>\n",
       "      <td>0.410752</td>\n",
       "      <td>0.569647</td>\n",
       "      <td>0.643714</td>\n",
       "    </tr>\n",
       "    <tr>\n",
       "      <th>326</th>\n",
       "      <td>0.272256</td>\n",
       "      <td>0.352421</td>\n",
       "      <td>0.497207</td>\n",
       "      <td>0.904910</td>\n",
       "      <td>0.358230</td>\n",
       "    </tr>\n",
       "    <tr>\n",
       "      <th>327</th>\n",
       "      <td>0.58762</td>\n",
       "      <td>0.340505</td>\n",
       "      <td>0.368695</td>\n",
       "      <td>0.028878</td>\n",
       "      <td>0.471743</td>\n",
       "    </tr>\n",
       "    <tr>\n",
       "      <th>328</th>\n",
       "      <td>0.546821</td>\n",
       "      <td>0.310472</td>\n",
       "      <td>0.263364</td>\n",
       "      <td>0.248530</td>\n",
       "      <td>0.999155</td>\n",
       "    </tr>\n",
       "    <tr>\n",
       "      <th>329</th>\n",
       "      <td>0.980621</td>\n",
       "      <td>0.393699</td>\n",
       "      <td>0.859683</td>\n",
       "      <td>0.158451</td>\n",
       "      <td>0.327353</td>\n",
       "    </tr>\n",
       "  </tbody>\n",
       "</table>\n",
       "<p>330 rows × 5 columns</p>\n",
       "</div>"
      ],
      "text/plain": [
       "             0         1         2         3         4\n",
       "0    Maaz Khan  0.393429  0.513138  0.148071  0.882801\n",
       "1      0.38578  0.539862  0.215086  0.538730  0.177759\n",
       "2     0.435884  0.330324  0.415753  0.783783  0.357882\n",
       "3     0.156893  0.065059  0.388875  0.561804  0.068138\n",
       "4     0.394894  0.372415  0.289047  0.398517  0.780231\n",
       "..         ...       ...       ...       ...       ...\n",
       "325   0.561115  0.061401  0.410752  0.569647  0.643714\n",
       "326   0.272256  0.352421  0.497207  0.904910  0.358230\n",
       "327    0.58762  0.340505  0.368695  0.028878  0.471743\n",
       "328   0.546821  0.310472  0.263364  0.248530  0.999155\n",
       "329   0.980621  0.393699  0.859683  0.158451  0.327353\n",
       "\n",
       "[330 rows x 5 columns]"
      ]
     },
     "execution_count": 88,
     "metadata": {},
     "output_type": "execute_result"
    }
   ],
   "source": [
    "newDf"
   ]
  },
  {
   "cell_type": "code",
   "execution_count": 89,
   "id": "c1c649c6",
   "metadata": {},
   "outputs": [
    {
     "data": {
      "text/plain": [
       "RangeIndex(start=0, stop=330, step=1)"
      ]
     },
     "execution_count": 89,
     "metadata": {},
     "output_type": "execute_result"
    }
   ],
   "source": [
    "newDf.index"
   ]
  },
  {
   "cell_type": "code",
   "execution_count": 90,
   "id": "2a6a01a0",
   "metadata": {},
   "outputs": [
    {
     "data": {
      "text/plain": [
       "RangeIndex(start=0, stop=5, step=1)"
      ]
     },
     "execution_count": 90,
     "metadata": {},
     "output_type": "execute_result"
    }
   ],
   "source": [
    "newDf.columns"
   ]
  },
  {
   "cell_type": "code",
   "execution_count": 91,
   "id": "0d0bbcdd",
   "metadata": {},
   "outputs": [
    {
     "data": {
      "text/plain": [
       "array([['Maaz Khan', 0.39342898454052944, 0.5131377743397503,\n",
       "        0.1480709579516436, 0.8828014759713675],\n",
       "       [0.38578012266851136, 0.5398624175704322, 0.2150862525181415,\n",
       "        0.5387299445058115, 0.1777590305764598],\n",
       "       [0.43588371602209575, 0.3303237803140382, 0.4157525899287382,\n",
       "        0.7837827949471035, 0.3578818812103838],\n",
       "       ...,\n",
       "       [0.5876198038797467, 0.3405049131244401, 0.3686948512132745,\n",
       "        0.028877652600573067, 0.4717432344151151],\n",
       "       [0.5468214482540806, 0.3104724917040811, 0.2633642451674809,\n",
       "        0.24853035630495035, 0.9991551439034047],\n",
       "       [0.9806205699961507, 0.3936987223493392, 0.8596832441207519,\n",
       "        0.15845086272989262, 0.32735268182511756]], dtype=object)"
      ]
     },
     "execution_count": 91,
     "metadata": {},
     "output_type": "execute_result"
    }
   ],
   "source": [
    "newDf.to_numpy()"
   ]
  },
  {
   "cell_type": "code",
   "execution_count": 92,
   "id": "29e43e86",
   "metadata": {},
   "outputs": [],
   "source": [
    "newDf[0][0]=0.30"
   ]
  },
  {
   "cell_type": "code",
   "execution_count": 93,
   "id": "81c060ad",
   "metadata": {},
   "outputs": [
    {
     "data": {
      "text/html": [
       "<div>\n",
       "<style scoped>\n",
       "    .dataframe tbody tr th:only-of-type {\n",
       "        vertical-align: middle;\n",
       "    }\n",
       "\n",
       "    .dataframe tbody tr th {\n",
       "        vertical-align: top;\n",
       "    }\n",
       "\n",
       "    .dataframe thead th {\n",
       "        text-align: right;\n",
       "    }\n",
       "</style>\n",
       "<table border=\"1\" class=\"dataframe\">\n",
       "  <thead>\n",
       "    <tr style=\"text-align: right;\">\n",
       "      <th></th>\n",
       "      <th>0</th>\n",
       "      <th>1</th>\n",
       "      <th>2</th>\n",
       "      <th>3</th>\n",
       "      <th>4</th>\n",
       "    </tr>\n",
       "  </thead>\n",
       "  <tbody>\n",
       "    <tr>\n",
       "      <th>0</th>\n",
       "      <td>0.3</td>\n",
       "      <td>0.393429</td>\n",
       "      <td>0.513138</td>\n",
       "      <td>0.148071</td>\n",
       "      <td>0.882801</td>\n",
       "    </tr>\n",
       "    <tr>\n",
       "      <th>1</th>\n",
       "      <td>0.38578</td>\n",
       "      <td>0.539862</td>\n",
       "      <td>0.215086</td>\n",
       "      <td>0.538730</td>\n",
       "      <td>0.177759</td>\n",
       "    </tr>\n",
       "    <tr>\n",
       "      <th>2</th>\n",
       "      <td>0.435884</td>\n",
       "      <td>0.330324</td>\n",
       "      <td>0.415753</td>\n",
       "      <td>0.783783</td>\n",
       "      <td>0.357882</td>\n",
       "    </tr>\n",
       "    <tr>\n",
       "      <th>3</th>\n",
       "      <td>0.156893</td>\n",
       "      <td>0.065059</td>\n",
       "      <td>0.388875</td>\n",
       "      <td>0.561804</td>\n",
       "      <td>0.068138</td>\n",
       "    </tr>\n",
       "    <tr>\n",
       "      <th>4</th>\n",
       "      <td>0.394894</td>\n",
       "      <td>0.372415</td>\n",
       "      <td>0.289047</td>\n",
       "      <td>0.398517</td>\n",
       "      <td>0.780231</td>\n",
       "    </tr>\n",
       "  </tbody>\n",
       "</table>\n",
       "</div>"
      ],
      "text/plain": [
       "          0         1         2         3         4\n",
       "0       0.3  0.393429  0.513138  0.148071  0.882801\n",
       "1   0.38578  0.539862  0.215086  0.538730  0.177759\n",
       "2  0.435884  0.330324  0.415753  0.783783  0.357882\n",
       "3  0.156893  0.065059  0.388875  0.561804  0.068138\n",
       "4  0.394894  0.372415  0.289047  0.398517  0.780231"
      ]
     },
     "execution_count": 93,
     "metadata": {},
     "output_type": "execute_result"
    }
   ],
   "source": [
    "newDf.head()"
   ]
  },
  {
   "cell_type": "code",
   "execution_count": 94,
   "id": "c6b68242",
   "metadata": {},
   "outputs": [
    {
     "data": {
      "text/html": [
       "<div>\n",
       "<style scoped>\n",
       "    .dataframe tbody tr th:only-of-type {\n",
       "        vertical-align: middle;\n",
       "    }\n",
       "\n",
       "    .dataframe tbody tr th {\n",
       "        vertical-align: top;\n",
       "    }\n",
       "\n",
       "    .dataframe thead th {\n",
       "        text-align: right;\n",
       "    }\n",
       "</style>\n",
       "<table border=\"1\" class=\"dataframe\">\n",
       "  <thead>\n",
       "    <tr style=\"text-align: right;\">\n",
       "      <th></th>\n",
       "      <th>0</th>\n",
       "      <th>1</th>\n",
       "      <th>2</th>\n",
       "      <th>3</th>\n",
       "      <th>4</th>\n",
       "      <th>5</th>\n",
       "      <th>6</th>\n",
       "      <th>7</th>\n",
       "      <th>8</th>\n",
       "      <th>9</th>\n",
       "      <th>...</th>\n",
       "      <th>320</th>\n",
       "      <th>321</th>\n",
       "      <th>322</th>\n",
       "      <th>323</th>\n",
       "      <th>324</th>\n",
       "      <th>325</th>\n",
       "      <th>326</th>\n",
       "      <th>327</th>\n",
       "      <th>328</th>\n",
       "      <th>329</th>\n",
       "    </tr>\n",
       "  </thead>\n",
       "  <tbody>\n",
       "    <tr>\n",
       "      <th>0</th>\n",
       "      <td>0.3</td>\n",
       "      <td>0.38578</td>\n",
       "      <td>0.435884</td>\n",
       "      <td>0.156893</td>\n",
       "      <td>0.394894</td>\n",
       "      <td>0.869579</td>\n",
       "      <td>0.978788</td>\n",
       "      <td>0.277853</td>\n",
       "      <td>0.872081</td>\n",
       "      <td>0.541186</td>\n",
       "      <td>...</td>\n",
       "      <td>0.841093</td>\n",
       "      <td>0.414309</td>\n",
       "      <td>0.005473</td>\n",
       "      <td>0.874423</td>\n",
       "      <td>0.979333</td>\n",
       "      <td>0.561115</td>\n",
       "      <td>0.272256</td>\n",
       "      <td>0.58762</td>\n",
       "      <td>0.546821</td>\n",
       "      <td>0.980621</td>\n",
       "    </tr>\n",
       "    <tr>\n",
       "      <th>1</th>\n",
       "      <td>0.393429</td>\n",
       "      <td>0.539862</td>\n",
       "      <td>0.330324</td>\n",
       "      <td>0.065059</td>\n",
       "      <td>0.372415</td>\n",
       "      <td>0.932747</td>\n",
       "      <td>0.64619</td>\n",
       "      <td>0.124671</td>\n",
       "      <td>0.23224</td>\n",
       "      <td>0.462491</td>\n",
       "      <td>...</td>\n",
       "      <td>0.986891</td>\n",
       "      <td>0.021569</td>\n",
       "      <td>0.127006</td>\n",
       "      <td>0.48357</td>\n",
       "      <td>0.518056</td>\n",
       "      <td>0.061401</td>\n",
       "      <td>0.352421</td>\n",
       "      <td>0.340505</td>\n",
       "      <td>0.310472</td>\n",
       "      <td>0.393699</td>\n",
       "    </tr>\n",
       "    <tr>\n",
       "      <th>2</th>\n",
       "      <td>0.513138</td>\n",
       "      <td>0.215086</td>\n",
       "      <td>0.415753</td>\n",
       "      <td>0.388875</td>\n",
       "      <td>0.289047</td>\n",
       "      <td>0.117506</td>\n",
       "      <td>0.662949</td>\n",
       "      <td>0.883203</td>\n",
       "      <td>0.618255</td>\n",
       "      <td>0.58284</td>\n",
       "      <td>...</td>\n",
       "      <td>0.772953</td>\n",
       "      <td>0.808297</td>\n",
       "      <td>0.67594</td>\n",
       "      <td>0.195972</td>\n",
       "      <td>0.891969</td>\n",
       "      <td>0.410752</td>\n",
       "      <td>0.497207</td>\n",
       "      <td>0.368695</td>\n",
       "      <td>0.263364</td>\n",
       "      <td>0.859683</td>\n",
       "    </tr>\n",
       "    <tr>\n",
       "      <th>3</th>\n",
       "      <td>0.148071</td>\n",
       "      <td>0.53873</td>\n",
       "      <td>0.783783</td>\n",
       "      <td>0.561804</td>\n",
       "      <td>0.398517</td>\n",
       "      <td>0.860179</td>\n",
       "      <td>0.285763</td>\n",
       "      <td>0.561909</td>\n",
       "      <td>0.83357</td>\n",
       "      <td>0.14341</td>\n",
       "      <td>...</td>\n",
       "      <td>0.194158</td>\n",
       "      <td>0.445422</td>\n",
       "      <td>0.023145</td>\n",
       "      <td>0.282608</td>\n",
       "      <td>0.549489</td>\n",
       "      <td>0.569647</td>\n",
       "      <td>0.90491</td>\n",
       "      <td>0.028878</td>\n",
       "      <td>0.24853</td>\n",
       "      <td>0.158451</td>\n",
       "    </tr>\n",
       "    <tr>\n",
       "      <th>4</th>\n",
       "      <td>0.882801</td>\n",
       "      <td>0.177759</td>\n",
       "      <td>0.357882</td>\n",
       "      <td>0.068138</td>\n",
       "      <td>0.780231</td>\n",
       "      <td>0.608819</td>\n",
       "      <td>0.887587</td>\n",
       "      <td>0.886499</td>\n",
       "      <td>0.408989</td>\n",
       "      <td>0.130984</td>\n",
       "      <td>...</td>\n",
       "      <td>0.087204</td>\n",
       "      <td>0.409608</td>\n",
       "      <td>0.984816</td>\n",
       "      <td>0.776636</td>\n",
       "      <td>0.573693</td>\n",
       "      <td>0.643714</td>\n",
       "      <td>0.35823</td>\n",
       "      <td>0.471743</td>\n",
       "      <td>0.999155</td>\n",
       "      <td>0.327353</td>\n",
       "    </tr>\n",
       "  </tbody>\n",
       "</table>\n",
       "<p>5 rows × 330 columns</p>\n",
       "</div>"
      ],
      "text/plain": [
       "        0         1         2         3         4         5         6    \\\n",
       "0       0.3   0.38578  0.435884  0.156893  0.394894  0.869579  0.978788   \n",
       "1  0.393429  0.539862  0.330324  0.065059  0.372415  0.932747   0.64619   \n",
       "2  0.513138  0.215086  0.415753  0.388875  0.289047  0.117506  0.662949   \n",
       "3  0.148071   0.53873  0.783783  0.561804  0.398517  0.860179  0.285763   \n",
       "4  0.882801  0.177759  0.357882  0.068138  0.780231  0.608819  0.887587   \n",
       "\n",
       "        7         8         9    ...       320       321       322       323  \\\n",
       "0  0.277853  0.872081  0.541186  ...  0.841093  0.414309  0.005473  0.874423   \n",
       "1  0.124671   0.23224  0.462491  ...  0.986891  0.021569  0.127006   0.48357   \n",
       "2  0.883203  0.618255   0.58284  ...  0.772953  0.808297   0.67594  0.195972   \n",
       "3  0.561909   0.83357   0.14341  ...  0.194158  0.445422  0.023145  0.282608   \n",
       "4  0.886499  0.408989  0.130984  ...  0.087204  0.409608  0.984816  0.776636   \n",
       "\n",
       "        324       325       326       327       328       329  \n",
       "0  0.979333  0.561115  0.272256   0.58762  0.546821  0.980621  \n",
       "1  0.518056  0.061401  0.352421  0.340505  0.310472  0.393699  \n",
       "2  0.891969  0.410752  0.497207  0.368695  0.263364  0.859683  \n",
       "3  0.549489  0.569647   0.90491  0.028878   0.24853  0.158451  \n",
       "4  0.573693  0.643714   0.35823  0.471743  0.999155  0.327353  \n",
       "\n",
       "[5 rows x 330 columns]"
      ]
     },
     "execution_count": 94,
     "metadata": {},
     "output_type": "execute_result"
    }
   ],
   "source": [
    "newDf.T"
   ]
  },
  {
   "cell_type": "code",
   "execution_count": 95,
   "id": "4dc1d324",
   "metadata": {},
   "outputs": [
    {
     "data": {
      "text/html": [
       "<div>\n",
       "<style scoped>\n",
       "    .dataframe tbody tr th:only-of-type {\n",
       "        vertical-align: middle;\n",
       "    }\n",
       "\n",
       "    .dataframe tbody tr th {\n",
       "        vertical-align: top;\n",
       "    }\n",
       "\n",
       "    .dataframe thead th {\n",
       "        text-align: right;\n",
       "    }\n",
       "</style>\n",
       "<table border=\"1\" class=\"dataframe\">\n",
       "  <thead>\n",
       "    <tr style=\"text-align: right;\">\n",
       "      <th></th>\n",
       "      <th>0</th>\n",
       "      <th>1</th>\n",
       "      <th>2</th>\n",
       "      <th>3</th>\n",
       "      <th>4</th>\n",
       "    </tr>\n",
       "  </thead>\n",
       "  <tbody>\n",
       "    <tr>\n",
       "      <th>0</th>\n",
       "      <td>0.3</td>\n",
       "      <td>0.393429</td>\n",
       "      <td>0.513138</td>\n",
       "      <td>0.148071</td>\n",
       "      <td>0.882801</td>\n",
       "    </tr>\n",
       "    <tr>\n",
       "      <th>1</th>\n",
       "      <td>0.38578</td>\n",
       "      <td>0.539862</td>\n",
       "      <td>0.215086</td>\n",
       "      <td>0.538730</td>\n",
       "      <td>0.177759</td>\n",
       "    </tr>\n",
       "    <tr>\n",
       "      <th>2</th>\n",
       "      <td>0.435884</td>\n",
       "      <td>0.330324</td>\n",
       "      <td>0.415753</td>\n",
       "      <td>0.783783</td>\n",
       "      <td>0.357882</td>\n",
       "    </tr>\n",
       "    <tr>\n",
       "      <th>3</th>\n",
       "      <td>0.156893</td>\n",
       "      <td>0.065059</td>\n",
       "      <td>0.388875</td>\n",
       "      <td>0.561804</td>\n",
       "      <td>0.068138</td>\n",
       "    </tr>\n",
       "    <tr>\n",
       "      <th>4</th>\n",
       "      <td>0.394894</td>\n",
       "      <td>0.372415</td>\n",
       "      <td>0.289047</td>\n",
       "      <td>0.398517</td>\n",
       "      <td>0.780231</td>\n",
       "    </tr>\n",
       "    <tr>\n",
       "      <th>...</th>\n",
       "      <td>...</td>\n",
       "      <td>...</td>\n",
       "      <td>...</td>\n",
       "      <td>...</td>\n",
       "      <td>...</td>\n",
       "    </tr>\n",
       "    <tr>\n",
       "      <th>325</th>\n",
       "      <td>0.561115</td>\n",
       "      <td>0.061401</td>\n",
       "      <td>0.410752</td>\n",
       "      <td>0.569647</td>\n",
       "      <td>0.643714</td>\n",
       "    </tr>\n",
       "    <tr>\n",
       "      <th>326</th>\n",
       "      <td>0.272256</td>\n",
       "      <td>0.352421</td>\n",
       "      <td>0.497207</td>\n",
       "      <td>0.904910</td>\n",
       "      <td>0.358230</td>\n",
       "    </tr>\n",
       "    <tr>\n",
       "      <th>327</th>\n",
       "      <td>0.58762</td>\n",
       "      <td>0.340505</td>\n",
       "      <td>0.368695</td>\n",
       "      <td>0.028878</td>\n",
       "      <td>0.471743</td>\n",
       "    </tr>\n",
       "    <tr>\n",
       "      <th>328</th>\n",
       "      <td>0.546821</td>\n",
       "      <td>0.310472</td>\n",
       "      <td>0.263364</td>\n",
       "      <td>0.248530</td>\n",
       "      <td>0.999155</td>\n",
       "    </tr>\n",
       "    <tr>\n",
       "      <th>329</th>\n",
       "      <td>0.980621</td>\n",
       "      <td>0.393699</td>\n",
       "      <td>0.859683</td>\n",
       "      <td>0.158451</td>\n",
       "      <td>0.327353</td>\n",
       "    </tr>\n",
       "  </tbody>\n",
       "</table>\n",
       "<p>330 rows × 5 columns</p>\n",
       "</div>"
      ],
      "text/plain": [
       "            0         1         2         3         4\n",
       "0         0.3  0.393429  0.513138  0.148071  0.882801\n",
       "1     0.38578  0.539862  0.215086  0.538730  0.177759\n",
       "2    0.435884  0.330324  0.415753  0.783783  0.357882\n",
       "3    0.156893  0.065059  0.388875  0.561804  0.068138\n",
       "4    0.394894  0.372415  0.289047  0.398517  0.780231\n",
       "..        ...       ...       ...       ...       ...\n",
       "325  0.561115  0.061401  0.410752  0.569647  0.643714\n",
       "326  0.272256  0.352421  0.497207  0.904910  0.358230\n",
       "327   0.58762  0.340505  0.368695  0.028878  0.471743\n",
       "328  0.546821  0.310472  0.263364  0.248530  0.999155\n",
       "329  0.980621  0.393699  0.859683  0.158451  0.327353\n",
       "\n",
       "[330 rows x 5 columns]"
      ]
     },
     "execution_count": 95,
     "metadata": {},
     "output_type": "execute_result"
    }
   ],
   "source": [
    "newDf.sort_index(axis=0)"
   ]
  },
  {
   "cell_type": "code",
   "execution_count": 96,
   "id": "1c9c5df9",
   "metadata": {},
   "outputs": [
    {
     "data": {
      "text/html": [
       "<div>\n",
       "<style scoped>\n",
       "    .dataframe tbody tr th:only-of-type {\n",
       "        vertical-align: middle;\n",
       "    }\n",
       "\n",
       "    .dataframe tbody tr th {\n",
       "        vertical-align: top;\n",
       "    }\n",
       "\n",
       "    .dataframe thead th {\n",
       "        text-align: right;\n",
       "    }\n",
       "</style>\n",
       "<table border=\"1\" class=\"dataframe\">\n",
       "  <thead>\n",
       "    <tr style=\"text-align: right;\">\n",
       "      <th></th>\n",
       "      <th>0</th>\n",
       "      <th>1</th>\n",
       "      <th>2</th>\n",
       "      <th>3</th>\n",
       "      <th>4</th>\n",
       "    </tr>\n",
       "  </thead>\n",
       "  <tbody>\n",
       "    <tr>\n",
       "      <th>329</th>\n",
       "      <td>0.980621</td>\n",
       "      <td>0.393699</td>\n",
       "      <td>0.859683</td>\n",
       "      <td>0.158451</td>\n",
       "      <td>0.327353</td>\n",
       "    </tr>\n",
       "    <tr>\n",
       "      <th>328</th>\n",
       "      <td>0.546821</td>\n",
       "      <td>0.310472</td>\n",
       "      <td>0.263364</td>\n",
       "      <td>0.248530</td>\n",
       "      <td>0.999155</td>\n",
       "    </tr>\n",
       "    <tr>\n",
       "      <th>327</th>\n",
       "      <td>0.58762</td>\n",
       "      <td>0.340505</td>\n",
       "      <td>0.368695</td>\n",
       "      <td>0.028878</td>\n",
       "      <td>0.471743</td>\n",
       "    </tr>\n",
       "    <tr>\n",
       "      <th>326</th>\n",
       "      <td>0.272256</td>\n",
       "      <td>0.352421</td>\n",
       "      <td>0.497207</td>\n",
       "      <td>0.904910</td>\n",
       "      <td>0.358230</td>\n",
       "    </tr>\n",
       "    <tr>\n",
       "      <th>325</th>\n",
       "      <td>0.561115</td>\n",
       "      <td>0.061401</td>\n",
       "      <td>0.410752</td>\n",
       "      <td>0.569647</td>\n",
       "      <td>0.643714</td>\n",
       "    </tr>\n",
       "    <tr>\n",
       "      <th>...</th>\n",
       "      <td>...</td>\n",
       "      <td>...</td>\n",
       "      <td>...</td>\n",
       "      <td>...</td>\n",
       "      <td>...</td>\n",
       "    </tr>\n",
       "    <tr>\n",
       "      <th>4</th>\n",
       "      <td>0.394894</td>\n",
       "      <td>0.372415</td>\n",
       "      <td>0.289047</td>\n",
       "      <td>0.398517</td>\n",
       "      <td>0.780231</td>\n",
       "    </tr>\n",
       "    <tr>\n",
       "      <th>3</th>\n",
       "      <td>0.156893</td>\n",
       "      <td>0.065059</td>\n",
       "      <td>0.388875</td>\n",
       "      <td>0.561804</td>\n",
       "      <td>0.068138</td>\n",
       "    </tr>\n",
       "    <tr>\n",
       "      <th>2</th>\n",
       "      <td>0.435884</td>\n",
       "      <td>0.330324</td>\n",
       "      <td>0.415753</td>\n",
       "      <td>0.783783</td>\n",
       "      <td>0.357882</td>\n",
       "    </tr>\n",
       "    <tr>\n",
       "      <th>1</th>\n",
       "      <td>0.38578</td>\n",
       "      <td>0.539862</td>\n",
       "      <td>0.215086</td>\n",
       "      <td>0.538730</td>\n",
       "      <td>0.177759</td>\n",
       "    </tr>\n",
       "    <tr>\n",
       "      <th>0</th>\n",
       "      <td>0.3</td>\n",
       "      <td>0.393429</td>\n",
       "      <td>0.513138</td>\n",
       "      <td>0.148071</td>\n",
       "      <td>0.882801</td>\n",
       "    </tr>\n",
       "  </tbody>\n",
       "</table>\n",
       "<p>330 rows × 5 columns</p>\n",
       "</div>"
      ],
      "text/plain": [
       "            0         1         2         3         4\n",
       "329  0.980621  0.393699  0.859683  0.158451  0.327353\n",
       "328  0.546821  0.310472  0.263364  0.248530  0.999155\n",
       "327   0.58762  0.340505  0.368695  0.028878  0.471743\n",
       "326  0.272256  0.352421  0.497207  0.904910  0.358230\n",
       "325  0.561115  0.061401  0.410752  0.569647  0.643714\n",
       "..        ...       ...       ...       ...       ...\n",
       "4    0.394894  0.372415  0.289047  0.398517  0.780231\n",
       "3    0.156893  0.065059  0.388875  0.561804  0.068138\n",
       "2    0.435884  0.330324  0.415753  0.783783  0.357882\n",
       "1     0.38578  0.539862  0.215086  0.538730  0.177759\n",
       "0         0.3  0.393429  0.513138  0.148071  0.882801\n",
       "\n",
       "[330 rows x 5 columns]"
      ]
     },
     "execution_count": 96,
     "metadata": {},
     "output_type": "execute_result"
    }
   ],
   "source": [
    "newDf.sort_index(axis=0, ascending=False)"
   ]
  },
  {
   "cell_type": "code",
   "execution_count": 97,
   "id": "e0d9a5c5",
   "metadata": {},
   "outputs": [
    {
     "data": {
      "text/html": [
       "<div>\n",
       "<style scoped>\n",
       "    .dataframe tbody tr th:only-of-type {\n",
       "        vertical-align: middle;\n",
       "    }\n",
       "\n",
       "    .dataframe tbody tr th {\n",
       "        vertical-align: top;\n",
       "    }\n",
       "\n",
       "    .dataframe thead th {\n",
       "        text-align: right;\n",
       "    }\n",
       "</style>\n",
       "<table border=\"1\" class=\"dataframe\">\n",
       "  <thead>\n",
       "    <tr style=\"text-align: right;\">\n",
       "      <th></th>\n",
       "      <th>0</th>\n",
       "      <th>1</th>\n",
       "      <th>2</th>\n",
       "      <th>3</th>\n",
       "      <th>4</th>\n",
       "    </tr>\n",
       "  </thead>\n",
       "  <tbody>\n",
       "    <tr>\n",
       "      <th>0</th>\n",
       "      <td>0.3</td>\n",
       "      <td>0.393429</td>\n",
       "      <td>0.513138</td>\n",
       "      <td>0.148071</td>\n",
       "      <td>0.882801</td>\n",
       "    </tr>\n",
       "    <tr>\n",
       "      <th>1</th>\n",
       "      <td>0.38578</td>\n",
       "      <td>0.539862</td>\n",
       "      <td>0.215086</td>\n",
       "      <td>0.538730</td>\n",
       "      <td>0.177759</td>\n",
       "    </tr>\n",
       "    <tr>\n",
       "      <th>2</th>\n",
       "      <td>0.435884</td>\n",
       "      <td>0.330324</td>\n",
       "      <td>0.415753</td>\n",
       "      <td>0.783783</td>\n",
       "      <td>0.357882</td>\n",
       "    </tr>\n",
       "    <tr>\n",
       "      <th>3</th>\n",
       "      <td>0.156893</td>\n",
       "      <td>0.065059</td>\n",
       "      <td>0.388875</td>\n",
       "      <td>0.561804</td>\n",
       "      <td>0.068138</td>\n",
       "    </tr>\n",
       "    <tr>\n",
       "      <th>4</th>\n",
       "      <td>0.394894</td>\n",
       "      <td>0.372415</td>\n",
       "      <td>0.289047</td>\n",
       "      <td>0.398517</td>\n",
       "      <td>0.780231</td>\n",
       "    </tr>\n",
       "    <tr>\n",
       "      <th>...</th>\n",
       "      <td>...</td>\n",
       "      <td>...</td>\n",
       "      <td>...</td>\n",
       "      <td>...</td>\n",
       "      <td>...</td>\n",
       "    </tr>\n",
       "    <tr>\n",
       "      <th>325</th>\n",
       "      <td>0.561115</td>\n",
       "      <td>0.061401</td>\n",
       "      <td>0.410752</td>\n",
       "      <td>0.569647</td>\n",
       "      <td>0.643714</td>\n",
       "    </tr>\n",
       "    <tr>\n",
       "      <th>326</th>\n",
       "      <td>0.272256</td>\n",
       "      <td>0.352421</td>\n",
       "      <td>0.497207</td>\n",
       "      <td>0.904910</td>\n",
       "      <td>0.358230</td>\n",
       "    </tr>\n",
       "    <tr>\n",
       "      <th>327</th>\n",
       "      <td>0.58762</td>\n",
       "      <td>0.340505</td>\n",
       "      <td>0.368695</td>\n",
       "      <td>0.028878</td>\n",
       "      <td>0.471743</td>\n",
       "    </tr>\n",
       "    <tr>\n",
       "      <th>328</th>\n",
       "      <td>0.546821</td>\n",
       "      <td>0.310472</td>\n",
       "      <td>0.263364</td>\n",
       "      <td>0.248530</td>\n",
       "      <td>0.999155</td>\n",
       "    </tr>\n",
       "    <tr>\n",
       "      <th>329</th>\n",
       "      <td>0.980621</td>\n",
       "      <td>0.393699</td>\n",
       "      <td>0.859683</td>\n",
       "      <td>0.158451</td>\n",
       "      <td>0.327353</td>\n",
       "    </tr>\n",
       "  </tbody>\n",
       "</table>\n",
       "<p>330 rows × 5 columns</p>\n",
       "</div>"
      ],
      "text/plain": [
       "            0         1         2         3         4\n",
       "0         0.3  0.393429  0.513138  0.148071  0.882801\n",
       "1     0.38578  0.539862  0.215086  0.538730  0.177759\n",
       "2    0.435884  0.330324  0.415753  0.783783  0.357882\n",
       "3    0.156893  0.065059  0.388875  0.561804  0.068138\n",
       "4    0.394894  0.372415  0.289047  0.398517  0.780231\n",
       "..        ...       ...       ...       ...       ...\n",
       "325  0.561115  0.061401  0.410752  0.569647  0.643714\n",
       "326  0.272256  0.352421  0.497207  0.904910  0.358230\n",
       "327   0.58762  0.340505  0.368695  0.028878  0.471743\n",
       "328  0.546821  0.310472  0.263364  0.248530  0.999155\n",
       "329  0.980621  0.393699  0.859683  0.158451  0.327353\n",
       "\n",
       "[330 rows x 5 columns]"
      ]
     },
     "execution_count": 97,
     "metadata": {},
     "output_type": "execute_result"
    }
   ],
   "source": [
    "newDf.sort_index(axis=1)"
   ]
  },
  {
   "cell_type": "code",
   "execution_count": 98,
   "id": "2b302bb5",
   "metadata": {},
   "outputs": [
    {
     "data": {
      "text/html": [
       "<div>\n",
       "<style scoped>\n",
       "    .dataframe tbody tr th:only-of-type {\n",
       "        vertical-align: middle;\n",
       "    }\n",
       "\n",
       "    .dataframe tbody tr th {\n",
       "        vertical-align: top;\n",
       "    }\n",
       "\n",
       "    .dataframe thead th {\n",
       "        text-align: right;\n",
       "    }\n",
       "</style>\n",
       "<table border=\"1\" class=\"dataframe\">\n",
       "  <thead>\n",
       "    <tr style=\"text-align: right;\">\n",
       "      <th></th>\n",
       "      <th>4</th>\n",
       "      <th>3</th>\n",
       "      <th>2</th>\n",
       "      <th>1</th>\n",
       "      <th>0</th>\n",
       "    </tr>\n",
       "  </thead>\n",
       "  <tbody>\n",
       "    <tr>\n",
       "      <th>0</th>\n",
       "      <td>0.882801</td>\n",
       "      <td>0.148071</td>\n",
       "      <td>0.513138</td>\n",
       "      <td>0.393429</td>\n",
       "      <td>0.3</td>\n",
       "    </tr>\n",
       "    <tr>\n",
       "      <th>1</th>\n",
       "      <td>0.177759</td>\n",
       "      <td>0.538730</td>\n",
       "      <td>0.215086</td>\n",
       "      <td>0.539862</td>\n",
       "      <td>0.38578</td>\n",
       "    </tr>\n",
       "    <tr>\n",
       "      <th>2</th>\n",
       "      <td>0.357882</td>\n",
       "      <td>0.783783</td>\n",
       "      <td>0.415753</td>\n",
       "      <td>0.330324</td>\n",
       "      <td>0.435884</td>\n",
       "    </tr>\n",
       "    <tr>\n",
       "      <th>3</th>\n",
       "      <td>0.068138</td>\n",
       "      <td>0.561804</td>\n",
       "      <td>0.388875</td>\n",
       "      <td>0.065059</td>\n",
       "      <td>0.156893</td>\n",
       "    </tr>\n",
       "    <tr>\n",
       "      <th>4</th>\n",
       "      <td>0.780231</td>\n",
       "      <td>0.398517</td>\n",
       "      <td>0.289047</td>\n",
       "      <td>0.372415</td>\n",
       "      <td>0.394894</td>\n",
       "    </tr>\n",
       "    <tr>\n",
       "      <th>...</th>\n",
       "      <td>...</td>\n",
       "      <td>...</td>\n",
       "      <td>...</td>\n",
       "      <td>...</td>\n",
       "      <td>...</td>\n",
       "    </tr>\n",
       "    <tr>\n",
       "      <th>325</th>\n",
       "      <td>0.643714</td>\n",
       "      <td>0.569647</td>\n",
       "      <td>0.410752</td>\n",
       "      <td>0.061401</td>\n",
       "      <td>0.561115</td>\n",
       "    </tr>\n",
       "    <tr>\n",
       "      <th>326</th>\n",
       "      <td>0.358230</td>\n",
       "      <td>0.904910</td>\n",
       "      <td>0.497207</td>\n",
       "      <td>0.352421</td>\n",
       "      <td>0.272256</td>\n",
       "    </tr>\n",
       "    <tr>\n",
       "      <th>327</th>\n",
       "      <td>0.471743</td>\n",
       "      <td>0.028878</td>\n",
       "      <td>0.368695</td>\n",
       "      <td>0.340505</td>\n",
       "      <td>0.58762</td>\n",
       "    </tr>\n",
       "    <tr>\n",
       "      <th>328</th>\n",
       "      <td>0.999155</td>\n",
       "      <td>0.248530</td>\n",
       "      <td>0.263364</td>\n",
       "      <td>0.310472</td>\n",
       "      <td>0.546821</td>\n",
       "    </tr>\n",
       "    <tr>\n",
       "      <th>329</th>\n",
       "      <td>0.327353</td>\n",
       "      <td>0.158451</td>\n",
       "      <td>0.859683</td>\n",
       "      <td>0.393699</td>\n",
       "      <td>0.980621</td>\n",
       "    </tr>\n",
       "  </tbody>\n",
       "</table>\n",
       "<p>330 rows × 5 columns</p>\n",
       "</div>"
      ],
      "text/plain": [
       "            4         3         2         1         0\n",
       "0    0.882801  0.148071  0.513138  0.393429       0.3\n",
       "1    0.177759  0.538730  0.215086  0.539862   0.38578\n",
       "2    0.357882  0.783783  0.415753  0.330324  0.435884\n",
       "3    0.068138  0.561804  0.388875  0.065059  0.156893\n",
       "4    0.780231  0.398517  0.289047  0.372415  0.394894\n",
       "..        ...       ...       ...       ...       ...\n",
       "325  0.643714  0.569647  0.410752  0.061401  0.561115\n",
       "326  0.358230  0.904910  0.497207  0.352421  0.272256\n",
       "327  0.471743  0.028878  0.368695  0.340505   0.58762\n",
       "328  0.999155  0.248530  0.263364  0.310472  0.546821\n",
       "329  0.327353  0.158451  0.859683  0.393699  0.980621\n",
       "\n",
       "[330 rows x 5 columns]"
      ]
     },
     "execution_count": 98,
     "metadata": {},
     "output_type": "execute_result"
    }
   ],
   "source": [
    "newDf.sort_index(axis=1, ascending=False)"
   ]
  },
  {
   "cell_type": "code",
   "execution_count": 99,
   "id": "e12a990f",
   "metadata": {},
   "outputs": [
    {
     "data": {
      "text/html": [
       "<div>\n",
       "<style scoped>\n",
       "    .dataframe tbody tr th:only-of-type {\n",
       "        vertical-align: middle;\n",
       "    }\n",
       "\n",
       "    .dataframe tbody tr th {\n",
       "        vertical-align: top;\n",
       "    }\n",
       "\n",
       "    .dataframe thead th {\n",
       "        text-align: right;\n",
       "    }\n",
       "</style>\n",
       "<table border=\"1\" class=\"dataframe\">\n",
       "  <thead>\n",
       "    <tr style=\"text-align: right;\">\n",
       "      <th></th>\n",
       "      <th>0</th>\n",
       "      <th>1</th>\n",
       "      <th>2</th>\n",
       "      <th>3</th>\n",
       "      <th>4</th>\n",
       "    </tr>\n",
       "  </thead>\n",
       "  <tbody>\n",
       "    <tr>\n",
       "      <th>0</th>\n",
       "      <td>0.3</td>\n",
       "      <td>0.393429</td>\n",
       "      <td>0.513138</td>\n",
       "      <td>0.148071</td>\n",
       "      <td>0.882801</td>\n",
       "    </tr>\n",
       "    <tr>\n",
       "      <th>1</th>\n",
       "      <td>0.38578</td>\n",
       "      <td>0.539862</td>\n",
       "      <td>0.215086</td>\n",
       "      <td>0.538730</td>\n",
       "      <td>0.177759</td>\n",
       "    </tr>\n",
       "    <tr>\n",
       "      <th>2</th>\n",
       "      <td>0.435884</td>\n",
       "      <td>0.330324</td>\n",
       "      <td>0.415753</td>\n",
       "      <td>0.783783</td>\n",
       "      <td>0.357882</td>\n",
       "    </tr>\n",
       "    <tr>\n",
       "      <th>3</th>\n",
       "      <td>0.156893</td>\n",
       "      <td>0.065059</td>\n",
       "      <td>0.388875</td>\n",
       "      <td>0.561804</td>\n",
       "      <td>0.068138</td>\n",
       "    </tr>\n",
       "    <tr>\n",
       "      <th>4</th>\n",
       "      <td>0.394894</td>\n",
       "      <td>0.372415</td>\n",
       "      <td>0.289047</td>\n",
       "      <td>0.398517</td>\n",
       "      <td>0.780231</td>\n",
       "    </tr>\n",
       "  </tbody>\n",
       "</table>\n",
       "</div>"
      ],
      "text/plain": [
       "          0         1         2         3         4\n",
       "0       0.3  0.393429  0.513138  0.148071  0.882801\n",
       "1   0.38578  0.539862  0.215086  0.538730  0.177759\n",
       "2  0.435884  0.330324  0.415753  0.783783  0.357882\n",
       "3  0.156893  0.065059  0.388875  0.561804  0.068138\n",
       "4  0.394894  0.372415  0.289047  0.398517  0.780231"
      ]
     },
     "execution_count": 99,
     "metadata": {},
     "output_type": "execute_result"
    }
   ],
   "source": [
    "newDf.head()"
   ]
  },
  {
   "cell_type": "code",
   "execution_count": 100,
   "id": "95d17814",
   "metadata": {},
   "outputs": [
    {
     "data": {
      "text/plain": [
       "0.38578012266851136"
      ]
     },
     "execution_count": 100,
     "metadata": {},
     "output_type": "execute_result"
    }
   ],
   "source": [
    "newDf[0][1]"
   ]
  },
  {
   "cell_type": "code",
   "execution_count": 101,
   "id": "b212755c",
   "metadata": {},
   "outputs": [
    {
     "data": {
      "text/plain": [
       "pandas.core.series.Series"
      ]
     },
     "execution_count": 101,
     "metadata": {},
     "output_type": "execute_result"
    }
   ],
   "source": [
    "type(newDf[0])"
   ]
  },
  {
   "cell_type": "code",
   "execution_count": 102,
   "id": "d3b1fb50",
   "metadata": {},
   "outputs": [
    {
     "data": {
      "text/html": [
       "<div>\n",
       "<style scoped>\n",
       "    .dataframe tbody tr th:only-of-type {\n",
       "        vertical-align: middle;\n",
       "    }\n",
       "\n",
       "    .dataframe tbody tr th {\n",
       "        vertical-align: top;\n",
       "    }\n",
       "\n",
       "    .dataframe thead th {\n",
       "        text-align: right;\n",
       "    }\n",
       "</style>\n",
       "<table border=\"1\" class=\"dataframe\">\n",
       "  <thead>\n",
       "    <tr style=\"text-align: right;\">\n",
       "      <th></th>\n",
       "      <th>0</th>\n",
       "      <th>1</th>\n",
       "      <th>2</th>\n",
       "      <th>3</th>\n",
       "      <th>4</th>\n",
       "    </tr>\n",
       "  </thead>\n",
       "  <tbody>\n",
       "    <tr>\n",
       "      <th>0</th>\n",
       "      <td>0.3</td>\n",
       "      <td>0.393429</td>\n",
       "      <td>0.513138</td>\n",
       "      <td>0.148071</td>\n",
       "      <td>0.882801</td>\n",
       "    </tr>\n",
       "    <tr>\n",
       "      <th>1</th>\n",
       "      <td>0.38578</td>\n",
       "      <td>0.539862</td>\n",
       "      <td>0.215086</td>\n",
       "      <td>0.538730</td>\n",
       "      <td>0.177759</td>\n",
       "    </tr>\n",
       "    <tr>\n",
       "      <th>2</th>\n",
       "      <td>0.435884</td>\n",
       "      <td>0.330324</td>\n",
       "      <td>0.415753</td>\n",
       "      <td>0.783783</td>\n",
       "      <td>0.357882</td>\n",
       "    </tr>\n",
       "    <tr>\n",
       "      <th>3</th>\n",
       "      <td>0.156893</td>\n",
       "      <td>0.065059</td>\n",
       "      <td>0.388875</td>\n",
       "      <td>0.561804</td>\n",
       "      <td>0.068138</td>\n",
       "    </tr>\n",
       "    <tr>\n",
       "      <th>4</th>\n",
       "      <td>0.394894</td>\n",
       "      <td>0.372415</td>\n",
       "      <td>0.289047</td>\n",
       "      <td>0.398517</td>\n",
       "      <td>0.780231</td>\n",
       "    </tr>\n",
       "    <tr>\n",
       "      <th>...</th>\n",
       "      <td>...</td>\n",
       "      <td>...</td>\n",
       "      <td>...</td>\n",
       "      <td>...</td>\n",
       "      <td>...</td>\n",
       "    </tr>\n",
       "    <tr>\n",
       "      <th>325</th>\n",
       "      <td>0.561115</td>\n",
       "      <td>0.061401</td>\n",
       "      <td>0.410752</td>\n",
       "      <td>0.569647</td>\n",
       "      <td>0.643714</td>\n",
       "    </tr>\n",
       "    <tr>\n",
       "      <th>326</th>\n",
       "      <td>0.272256</td>\n",
       "      <td>0.352421</td>\n",
       "      <td>0.497207</td>\n",
       "      <td>0.904910</td>\n",
       "      <td>0.358230</td>\n",
       "    </tr>\n",
       "    <tr>\n",
       "      <th>327</th>\n",
       "      <td>0.58762</td>\n",
       "      <td>0.340505</td>\n",
       "      <td>0.368695</td>\n",
       "      <td>0.028878</td>\n",
       "      <td>0.471743</td>\n",
       "    </tr>\n",
       "    <tr>\n",
       "      <th>328</th>\n",
       "      <td>0.546821</td>\n",
       "      <td>0.310472</td>\n",
       "      <td>0.263364</td>\n",
       "      <td>0.248530</td>\n",
       "      <td>0.999155</td>\n",
       "    </tr>\n",
       "    <tr>\n",
       "      <th>329</th>\n",
       "      <td>0.980621</td>\n",
       "      <td>0.393699</td>\n",
       "      <td>0.859683</td>\n",
       "      <td>0.158451</td>\n",
       "      <td>0.327353</td>\n",
       "    </tr>\n",
       "  </tbody>\n",
       "</table>\n",
       "<p>330 rows × 5 columns</p>\n",
       "</div>"
      ],
      "text/plain": [
       "            0         1         2         3         4\n",
       "0         0.3  0.393429  0.513138  0.148071  0.882801\n",
       "1     0.38578  0.539862  0.215086  0.538730  0.177759\n",
       "2    0.435884  0.330324  0.415753  0.783783  0.357882\n",
       "3    0.156893  0.065059  0.388875  0.561804  0.068138\n",
       "4    0.394894  0.372415  0.289047  0.398517  0.780231\n",
       "..        ...       ...       ...       ...       ...\n",
       "325  0.561115  0.061401  0.410752  0.569647  0.643714\n",
       "326  0.272256  0.352421  0.497207  0.904910  0.358230\n",
       "327   0.58762  0.340505  0.368695  0.028878  0.471743\n",
       "328  0.546821  0.310472  0.263364  0.248530  0.999155\n",
       "329  0.980621  0.393699  0.859683  0.158451  0.327353\n",
       "\n",
       "[330 rows x 5 columns]"
      ]
     },
     "execution_count": 102,
     "metadata": {},
     "output_type": "execute_result"
    }
   ],
   "source": [
    "newDf"
   ]
  },
  {
   "cell_type": "markdown",
   "id": "d3f3dc62",
   "metadata": {},
   "source": [
    "## view"
   ]
  },
  {
   "cell_type": "code",
   "execution_count": 103,
   "id": "c8a11492",
   "metadata": {},
   "outputs": [],
   "source": [
    "newDfView=newDf"
   ]
  },
  {
   "cell_type": "code",
   "execution_count": 104,
   "id": "afc8f72f",
   "metadata": {},
   "outputs": [
    {
     "data": {
      "text/html": [
       "<div>\n",
       "<style scoped>\n",
       "    .dataframe tbody tr th:only-of-type {\n",
       "        vertical-align: middle;\n",
       "    }\n",
       "\n",
       "    .dataframe tbody tr th {\n",
       "        vertical-align: top;\n",
       "    }\n",
       "\n",
       "    .dataframe thead th {\n",
       "        text-align: right;\n",
       "    }\n",
       "</style>\n",
       "<table border=\"1\" class=\"dataframe\">\n",
       "  <thead>\n",
       "    <tr style=\"text-align: right;\">\n",
       "      <th></th>\n",
       "      <th>0</th>\n",
       "      <th>1</th>\n",
       "      <th>2</th>\n",
       "      <th>3</th>\n",
       "      <th>4</th>\n",
       "    </tr>\n",
       "  </thead>\n",
       "  <tbody>\n",
       "    <tr>\n",
       "      <th>0</th>\n",
       "      <td>0.3</td>\n",
       "      <td>0.393429</td>\n",
       "      <td>0.513138</td>\n",
       "      <td>0.148071</td>\n",
       "      <td>0.882801</td>\n",
       "    </tr>\n",
       "    <tr>\n",
       "      <th>1</th>\n",
       "      <td>0.38578</td>\n",
       "      <td>0.539862</td>\n",
       "      <td>0.215086</td>\n",
       "      <td>0.538730</td>\n",
       "      <td>0.177759</td>\n",
       "    </tr>\n",
       "    <tr>\n",
       "      <th>2</th>\n",
       "      <td>0.435884</td>\n",
       "      <td>0.330324</td>\n",
       "      <td>0.415753</td>\n",
       "      <td>0.783783</td>\n",
       "      <td>0.357882</td>\n",
       "    </tr>\n",
       "    <tr>\n",
       "      <th>3</th>\n",
       "      <td>0.156893</td>\n",
       "      <td>0.065059</td>\n",
       "      <td>0.388875</td>\n",
       "      <td>0.561804</td>\n",
       "      <td>0.068138</td>\n",
       "    </tr>\n",
       "    <tr>\n",
       "      <th>4</th>\n",
       "      <td>0.394894</td>\n",
       "      <td>0.372415</td>\n",
       "      <td>0.289047</td>\n",
       "      <td>0.398517</td>\n",
       "      <td>0.780231</td>\n",
       "    </tr>\n",
       "    <tr>\n",
       "      <th>...</th>\n",
       "      <td>...</td>\n",
       "      <td>...</td>\n",
       "      <td>...</td>\n",
       "      <td>...</td>\n",
       "      <td>...</td>\n",
       "    </tr>\n",
       "    <tr>\n",
       "      <th>325</th>\n",
       "      <td>0.561115</td>\n",
       "      <td>0.061401</td>\n",
       "      <td>0.410752</td>\n",
       "      <td>0.569647</td>\n",
       "      <td>0.643714</td>\n",
       "    </tr>\n",
       "    <tr>\n",
       "      <th>326</th>\n",
       "      <td>0.272256</td>\n",
       "      <td>0.352421</td>\n",
       "      <td>0.497207</td>\n",
       "      <td>0.904910</td>\n",
       "      <td>0.358230</td>\n",
       "    </tr>\n",
       "    <tr>\n",
       "      <th>327</th>\n",
       "      <td>0.58762</td>\n",
       "      <td>0.340505</td>\n",
       "      <td>0.368695</td>\n",
       "      <td>0.028878</td>\n",
       "      <td>0.471743</td>\n",
       "    </tr>\n",
       "    <tr>\n",
       "      <th>328</th>\n",
       "      <td>0.546821</td>\n",
       "      <td>0.310472</td>\n",
       "      <td>0.263364</td>\n",
       "      <td>0.248530</td>\n",
       "      <td>0.999155</td>\n",
       "    </tr>\n",
       "    <tr>\n",
       "      <th>329</th>\n",
       "      <td>0.980621</td>\n",
       "      <td>0.393699</td>\n",
       "      <td>0.859683</td>\n",
       "      <td>0.158451</td>\n",
       "      <td>0.327353</td>\n",
       "    </tr>\n",
       "  </tbody>\n",
       "</table>\n",
       "<p>330 rows × 5 columns</p>\n",
       "</div>"
      ],
      "text/plain": [
       "            0         1         2         3         4\n",
       "0         0.3  0.393429  0.513138  0.148071  0.882801\n",
       "1     0.38578  0.539862  0.215086  0.538730  0.177759\n",
       "2    0.435884  0.330324  0.415753  0.783783  0.357882\n",
       "3    0.156893  0.065059  0.388875  0.561804  0.068138\n",
       "4    0.394894  0.372415  0.289047  0.398517  0.780231\n",
       "..        ...       ...       ...       ...       ...\n",
       "325  0.561115  0.061401  0.410752  0.569647  0.643714\n",
       "326  0.272256  0.352421  0.497207  0.904910  0.358230\n",
       "327   0.58762  0.340505  0.368695  0.028878  0.471743\n",
       "328  0.546821  0.310472  0.263364  0.248530  0.999155\n",
       "329  0.980621  0.393699  0.859683  0.158451  0.327353\n",
       "\n",
       "[330 rows x 5 columns]"
      ]
     },
     "execution_count": 104,
     "metadata": {},
     "output_type": "execute_result"
    }
   ],
   "source": [
    "newDfView"
   ]
  },
  {
   "cell_type": "code",
   "execution_count": 105,
   "id": "32a705a6",
   "metadata": {},
   "outputs": [
    {
     "name": "stderr",
     "output_type": "stream",
     "text": [
      "c:\\Users\\SHAHID\\16-Codes\\envs\\STLF\\lib\\site-packages\\ipykernel_launcher.py:1: SettingWithCopyWarning: \n",
      "A value is trying to be set on a copy of a slice from a DataFrame\n",
      "\n",
      "See the caveats in the documentation: https://pandas.pydata.org/pandas-docs/stable/user_guide/indexing.html#returning-a-view-versus-a-copy\n",
      "  \"\"\"Entry point for launching an IPython kernel.\n"
     ]
    }
   ],
   "source": [
    "newDfView[0][0]=765"
   ]
  },
  {
   "cell_type": "code",
   "execution_count": 106,
   "id": "984f3e06",
   "metadata": {},
   "outputs": [
    {
     "data": {
      "text/html": [
       "<div>\n",
       "<style scoped>\n",
       "    .dataframe tbody tr th:only-of-type {\n",
       "        vertical-align: middle;\n",
       "    }\n",
       "\n",
       "    .dataframe tbody tr th {\n",
       "        vertical-align: top;\n",
       "    }\n",
       "\n",
       "    .dataframe thead th {\n",
       "        text-align: right;\n",
       "    }\n",
       "</style>\n",
       "<table border=\"1\" class=\"dataframe\">\n",
       "  <thead>\n",
       "    <tr style=\"text-align: right;\">\n",
       "      <th></th>\n",
       "      <th>0</th>\n",
       "      <th>1</th>\n",
       "      <th>2</th>\n",
       "      <th>3</th>\n",
       "      <th>4</th>\n",
       "    </tr>\n",
       "  </thead>\n",
       "  <tbody>\n",
       "    <tr>\n",
       "      <th>0</th>\n",
       "      <td>765</td>\n",
       "      <td>0.393429</td>\n",
       "      <td>0.513138</td>\n",
       "      <td>0.148071</td>\n",
       "      <td>0.882801</td>\n",
       "    </tr>\n",
       "    <tr>\n",
       "      <th>1</th>\n",
       "      <td>0.38578</td>\n",
       "      <td>0.539862</td>\n",
       "      <td>0.215086</td>\n",
       "      <td>0.538730</td>\n",
       "      <td>0.177759</td>\n",
       "    </tr>\n",
       "    <tr>\n",
       "      <th>2</th>\n",
       "      <td>0.435884</td>\n",
       "      <td>0.330324</td>\n",
       "      <td>0.415753</td>\n",
       "      <td>0.783783</td>\n",
       "      <td>0.357882</td>\n",
       "    </tr>\n",
       "    <tr>\n",
       "      <th>3</th>\n",
       "      <td>0.156893</td>\n",
       "      <td>0.065059</td>\n",
       "      <td>0.388875</td>\n",
       "      <td>0.561804</td>\n",
       "      <td>0.068138</td>\n",
       "    </tr>\n",
       "    <tr>\n",
       "      <th>4</th>\n",
       "      <td>0.394894</td>\n",
       "      <td>0.372415</td>\n",
       "      <td>0.289047</td>\n",
       "      <td>0.398517</td>\n",
       "      <td>0.780231</td>\n",
       "    </tr>\n",
       "  </tbody>\n",
       "</table>\n",
       "</div>"
      ],
      "text/plain": [
       "          0         1         2         3         4\n",
       "0       765  0.393429  0.513138  0.148071  0.882801\n",
       "1   0.38578  0.539862  0.215086  0.538730  0.177759\n",
       "2  0.435884  0.330324  0.415753  0.783783  0.357882\n",
       "3  0.156893  0.065059  0.388875  0.561804  0.068138\n",
       "4  0.394894  0.372415  0.289047  0.398517  0.780231"
      ]
     },
     "execution_count": 106,
     "metadata": {},
     "output_type": "execute_result"
    }
   ],
   "source": [
    "newDf.head()"
   ]
  },
  {
   "cell_type": "code",
   "execution_count": 107,
   "id": "ed958ba1",
   "metadata": {},
   "outputs": [
    {
     "data": {
      "text/html": [
       "<div>\n",
       "<style scoped>\n",
       "    .dataframe tbody tr th:only-of-type {\n",
       "        vertical-align: middle;\n",
       "    }\n",
       "\n",
       "    .dataframe tbody tr th {\n",
       "        vertical-align: top;\n",
       "    }\n",
       "\n",
       "    .dataframe thead th {\n",
       "        text-align: right;\n",
       "    }\n",
       "</style>\n",
       "<table border=\"1\" class=\"dataframe\">\n",
       "  <thead>\n",
       "    <tr style=\"text-align: right;\">\n",
       "      <th></th>\n",
       "      <th>0</th>\n",
       "      <th>1</th>\n",
       "      <th>2</th>\n",
       "      <th>3</th>\n",
       "      <th>4</th>\n",
       "    </tr>\n",
       "  </thead>\n",
       "  <tbody>\n",
       "    <tr>\n",
       "      <th>0</th>\n",
       "      <td>765</td>\n",
       "      <td>0.393429</td>\n",
       "      <td>0.513138</td>\n",
       "      <td>0.148071</td>\n",
       "      <td>0.882801</td>\n",
       "    </tr>\n",
       "    <tr>\n",
       "      <th>1</th>\n",
       "      <td>0.38578</td>\n",
       "      <td>0.539862</td>\n",
       "      <td>0.215086</td>\n",
       "      <td>0.538730</td>\n",
       "      <td>0.177759</td>\n",
       "    </tr>\n",
       "    <tr>\n",
       "      <th>2</th>\n",
       "      <td>0.435884</td>\n",
       "      <td>0.330324</td>\n",
       "      <td>0.415753</td>\n",
       "      <td>0.783783</td>\n",
       "      <td>0.357882</td>\n",
       "    </tr>\n",
       "    <tr>\n",
       "      <th>3</th>\n",
       "      <td>0.156893</td>\n",
       "      <td>0.065059</td>\n",
       "      <td>0.388875</td>\n",
       "      <td>0.561804</td>\n",
       "      <td>0.068138</td>\n",
       "    </tr>\n",
       "    <tr>\n",
       "      <th>4</th>\n",
       "      <td>0.394894</td>\n",
       "      <td>0.372415</td>\n",
       "      <td>0.289047</td>\n",
       "      <td>0.398517</td>\n",
       "      <td>0.780231</td>\n",
       "    </tr>\n",
       "  </tbody>\n",
       "</table>\n",
       "</div>"
      ],
      "text/plain": [
       "          0         1         2         3         4\n",
       "0       765  0.393429  0.513138  0.148071  0.882801\n",
       "1   0.38578  0.539862  0.215086  0.538730  0.177759\n",
       "2  0.435884  0.330324  0.415753  0.783783  0.357882\n",
       "3  0.156893  0.065059  0.388875  0.561804  0.068138\n",
       "4  0.394894  0.372415  0.289047  0.398517  0.780231"
      ]
     },
     "execution_count": 107,
     "metadata": {},
     "output_type": "execute_result"
    }
   ],
   "source": [
    "newDfView.head()"
   ]
  },
  {
   "cell_type": "code",
   "execution_count": 108,
   "id": "8a4db7d6",
   "metadata": {},
   "outputs": [],
   "source": [
    "newDfCopy=newDf.copy()"
   ]
  },
  {
   "cell_type": "code",
   "execution_count": 109,
   "id": "3d02023a",
   "metadata": {},
   "outputs": [
    {
     "name": "stderr",
     "output_type": "stream",
     "text": [
      "c:\\Users\\SHAHID\\16-Codes\\envs\\STLF\\lib\\site-packages\\ipykernel_launcher.py:1: SettingWithCopyWarning: \n",
      "A value is trying to be set on a copy of a slice from a DataFrame\n",
      "\n",
      "See the caveats in the documentation: https://pandas.pydata.org/pandas-docs/stable/user_guide/indexing.html#returning-a-view-versus-a-copy\n",
      "  \"\"\"Entry point for launching an IPython kernel.\n"
     ]
    }
   ],
   "source": [
    "newDfCopy[0][0]=656"
   ]
  },
  {
   "cell_type": "code",
   "execution_count": 110,
   "id": "9f7309c6",
   "metadata": {},
   "outputs": [
    {
     "data": {
      "text/html": [
       "<div>\n",
       "<style scoped>\n",
       "    .dataframe tbody tr th:only-of-type {\n",
       "        vertical-align: middle;\n",
       "    }\n",
       "\n",
       "    .dataframe tbody tr th {\n",
       "        vertical-align: top;\n",
       "    }\n",
       "\n",
       "    .dataframe thead th {\n",
       "        text-align: right;\n",
       "    }\n",
       "</style>\n",
       "<table border=\"1\" class=\"dataframe\">\n",
       "  <thead>\n",
       "    <tr style=\"text-align: right;\">\n",
       "      <th></th>\n",
       "      <th>0</th>\n",
       "      <th>1</th>\n",
       "      <th>2</th>\n",
       "      <th>3</th>\n",
       "      <th>4</th>\n",
       "    </tr>\n",
       "  </thead>\n",
       "  <tbody>\n",
       "    <tr>\n",
       "      <th>0</th>\n",
       "      <td>765</td>\n",
       "      <td>0.393429</td>\n",
       "      <td>0.513138</td>\n",
       "      <td>0.148071</td>\n",
       "      <td>0.882801</td>\n",
       "    </tr>\n",
       "    <tr>\n",
       "      <th>1</th>\n",
       "      <td>0.38578</td>\n",
       "      <td>0.539862</td>\n",
       "      <td>0.215086</td>\n",
       "      <td>0.538730</td>\n",
       "      <td>0.177759</td>\n",
       "    </tr>\n",
       "    <tr>\n",
       "      <th>2</th>\n",
       "      <td>0.435884</td>\n",
       "      <td>0.330324</td>\n",
       "      <td>0.415753</td>\n",
       "      <td>0.783783</td>\n",
       "      <td>0.357882</td>\n",
       "    </tr>\n",
       "    <tr>\n",
       "      <th>3</th>\n",
       "      <td>0.156893</td>\n",
       "      <td>0.065059</td>\n",
       "      <td>0.388875</td>\n",
       "      <td>0.561804</td>\n",
       "      <td>0.068138</td>\n",
       "    </tr>\n",
       "    <tr>\n",
       "      <th>4</th>\n",
       "      <td>0.394894</td>\n",
       "      <td>0.372415</td>\n",
       "      <td>0.289047</td>\n",
       "      <td>0.398517</td>\n",
       "      <td>0.780231</td>\n",
       "    </tr>\n",
       "  </tbody>\n",
       "</table>\n",
       "</div>"
      ],
      "text/plain": [
       "          0         1         2         3         4\n",
       "0       765  0.393429  0.513138  0.148071  0.882801\n",
       "1   0.38578  0.539862  0.215086  0.538730  0.177759\n",
       "2  0.435884  0.330324  0.415753  0.783783  0.357882\n",
       "3  0.156893  0.065059  0.388875  0.561804  0.068138\n",
       "4  0.394894  0.372415  0.289047  0.398517  0.780231"
      ]
     },
     "execution_count": 110,
     "metadata": {},
     "output_type": "execute_result"
    }
   ],
   "source": [
    "newDf.head()"
   ]
  },
  {
   "cell_type": "code",
   "execution_count": 111,
   "id": "847240a3",
   "metadata": {},
   "outputs": [
    {
     "data": {
      "text/html": [
       "<div>\n",
       "<style scoped>\n",
       "    .dataframe tbody tr th:only-of-type {\n",
       "        vertical-align: middle;\n",
       "    }\n",
       "\n",
       "    .dataframe tbody tr th {\n",
       "        vertical-align: top;\n",
       "    }\n",
       "\n",
       "    .dataframe thead th {\n",
       "        text-align: right;\n",
       "    }\n",
       "</style>\n",
       "<table border=\"1\" class=\"dataframe\">\n",
       "  <thead>\n",
       "    <tr style=\"text-align: right;\">\n",
       "      <th></th>\n",
       "      <th>0</th>\n",
       "      <th>1</th>\n",
       "      <th>2</th>\n",
       "      <th>3</th>\n",
       "      <th>4</th>\n",
       "    </tr>\n",
       "  </thead>\n",
       "  <tbody>\n",
       "    <tr>\n",
       "      <th>0</th>\n",
       "      <td>656</td>\n",
       "      <td>0.393429</td>\n",
       "      <td>0.513138</td>\n",
       "      <td>0.148071</td>\n",
       "      <td>0.882801</td>\n",
       "    </tr>\n",
       "    <tr>\n",
       "      <th>1</th>\n",
       "      <td>0.38578</td>\n",
       "      <td>0.539862</td>\n",
       "      <td>0.215086</td>\n",
       "      <td>0.538730</td>\n",
       "      <td>0.177759</td>\n",
       "    </tr>\n",
       "    <tr>\n",
       "      <th>2</th>\n",
       "      <td>0.435884</td>\n",
       "      <td>0.330324</td>\n",
       "      <td>0.415753</td>\n",
       "      <td>0.783783</td>\n",
       "      <td>0.357882</td>\n",
       "    </tr>\n",
       "    <tr>\n",
       "      <th>3</th>\n",
       "      <td>0.156893</td>\n",
       "      <td>0.065059</td>\n",
       "      <td>0.388875</td>\n",
       "      <td>0.561804</td>\n",
       "      <td>0.068138</td>\n",
       "    </tr>\n",
       "    <tr>\n",
       "      <th>4</th>\n",
       "      <td>0.394894</td>\n",
       "      <td>0.372415</td>\n",
       "      <td>0.289047</td>\n",
       "      <td>0.398517</td>\n",
       "      <td>0.780231</td>\n",
       "    </tr>\n",
       "  </tbody>\n",
       "</table>\n",
       "</div>"
      ],
      "text/plain": [
       "          0         1         2         3         4\n",
       "0       656  0.393429  0.513138  0.148071  0.882801\n",
       "1   0.38578  0.539862  0.215086  0.538730  0.177759\n",
       "2  0.435884  0.330324  0.415753  0.783783  0.357882\n",
       "3  0.156893  0.065059  0.388875  0.561804  0.068138\n",
       "4  0.394894  0.372415  0.289047  0.398517  0.780231"
      ]
     },
     "execution_count": 111,
     "metadata": {},
     "output_type": "execute_result"
    }
   ],
   "source": [
    "newDfCopy.head()"
   ]
  },
  {
   "cell_type": "markdown",
   "id": "c4b27c61",
   "metadata": {},
   "source": [
    "## loc"
   ]
  },
  {
   "cell_type": "code",
   "execution_count": 112,
   "id": "d8e70dfb",
   "metadata": {},
   "outputs": [
    {
     "data": {
      "text/html": [
       "<div>\n",
       "<style scoped>\n",
       "    .dataframe tbody tr th:only-of-type {\n",
       "        vertical-align: middle;\n",
       "    }\n",
       "\n",
       "    .dataframe tbody tr th {\n",
       "        vertical-align: top;\n",
       "    }\n",
       "\n",
       "    .dataframe thead th {\n",
       "        text-align: right;\n",
       "    }\n",
       "</style>\n",
       "<table border=\"1\" class=\"dataframe\">\n",
       "  <thead>\n",
       "    <tr style=\"text-align: right;\">\n",
       "      <th></th>\n",
       "      <th>0</th>\n",
       "      <th>1</th>\n",
       "      <th>2</th>\n",
       "      <th>3</th>\n",
       "      <th>4</th>\n",
       "    </tr>\n",
       "  </thead>\n",
       "  <tbody>\n",
       "    <tr>\n",
       "      <th>0</th>\n",
       "      <td>765</td>\n",
       "      <td>0.393429</td>\n",
       "      <td>0.513138</td>\n",
       "      <td>0.148071</td>\n",
       "      <td>0.882801</td>\n",
       "    </tr>\n",
       "    <tr>\n",
       "      <th>1</th>\n",
       "      <td>0.38578</td>\n",
       "      <td>0.539862</td>\n",
       "      <td>0.215086</td>\n",
       "      <td>0.538730</td>\n",
       "      <td>0.177759</td>\n",
       "    </tr>\n",
       "  </tbody>\n",
       "</table>\n",
       "</div>"
      ],
      "text/plain": [
       "         0         1         2         3         4\n",
       "0      765  0.393429  0.513138  0.148071  0.882801\n",
       "1  0.38578  0.539862  0.215086  0.538730  0.177759"
      ]
     },
     "execution_count": 112,
     "metadata": {},
     "output_type": "execute_result"
    }
   ],
   "source": [
    "newDf.head(2)"
   ]
  },
  {
   "cell_type": "code",
   "execution_count": 113,
   "id": "d68dbaa6",
   "metadata": {},
   "outputs": [
    {
     "data": {
      "text/plain": [
       "765"
      ]
     },
     "execution_count": 113,
     "metadata": {},
     "output_type": "execute_result"
    }
   ],
   "source": [
    "newDf.loc[0,0]"
   ]
  },
  {
   "cell_type": "code",
   "execution_count": 114,
   "id": "ffdddeae",
   "metadata": {},
   "outputs": [],
   "source": [
    "newDf.loc[0,0]=5678"
   ]
  },
  {
   "cell_type": "code",
   "execution_count": 115,
   "id": "79abae20",
   "metadata": {},
   "outputs": [
    {
     "data": {
      "text/html": [
       "<div>\n",
       "<style scoped>\n",
       "    .dataframe tbody tr th:only-of-type {\n",
       "        vertical-align: middle;\n",
       "    }\n",
       "\n",
       "    .dataframe tbody tr th {\n",
       "        vertical-align: top;\n",
       "    }\n",
       "\n",
       "    .dataframe thead th {\n",
       "        text-align: right;\n",
       "    }\n",
       "</style>\n",
       "<table border=\"1\" class=\"dataframe\">\n",
       "  <thead>\n",
       "    <tr style=\"text-align: right;\">\n",
       "      <th></th>\n",
       "      <th>0</th>\n",
       "      <th>1</th>\n",
       "      <th>2</th>\n",
       "      <th>3</th>\n",
       "      <th>4</th>\n",
       "    </tr>\n",
       "  </thead>\n",
       "  <tbody>\n",
       "    <tr>\n",
       "      <th>0</th>\n",
       "      <td>5678</td>\n",
       "      <td>0.393429</td>\n",
       "      <td>0.513138</td>\n",
       "      <td>0.148071</td>\n",
       "      <td>0.882801</td>\n",
       "    </tr>\n",
       "    <tr>\n",
       "      <th>1</th>\n",
       "      <td>0.38578</td>\n",
       "      <td>0.539862</td>\n",
       "      <td>0.215086</td>\n",
       "      <td>0.538730</td>\n",
       "      <td>0.177759</td>\n",
       "    </tr>\n",
       "  </tbody>\n",
       "</table>\n",
       "</div>"
      ],
      "text/plain": [
       "         0         1         2         3         4\n",
       "0     5678  0.393429  0.513138  0.148071  0.882801\n",
       "1  0.38578  0.539862  0.215086  0.538730  0.177759"
      ]
     },
     "execution_count": 115,
     "metadata": {},
     "output_type": "execute_result"
    }
   ],
   "source": [
    "newDf.head(2)"
   ]
  },
  {
   "cell_type": "code",
   "execution_count": 116,
   "id": "365d11dd",
   "metadata": {},
   "outputs": [
    {
     "data": {
      "text/plain": [
       "0.8828014759713675"
      ]
     },
     "execution_count": 116,
     "metadata": {},
     "output_type": "execute_result"
    }
   ],
   "source": [
    "newDf.loc[0,4]"
   ]
  },
  {
   "cell_type": "code",
   "execution_count": 117,
   "id": "691e63fb",
   "metadata": {},
   "outputs": [
    {
     "data": {
      "text/plain": [
       "0.061400730924943026"
      ]
     },
     "execution_count": 117,
     "metadata": {},
     "output_type": "execute_result"
    }
   ],
   "source": [
    "newDf.loc[325,1]"
   ]
  },
  {
   "cell_type": "code",
   "execution_count": 118,
   "id": "59d5b12e",
   "metadata": {},
   "outputs": [],
   "source": [
    "newDf.loc[0,0]=9875"
   ]
  },
  {
   "cell_type": "code",
   "execution_count": 119,
   "id": "38793742",
   "metadata": {},
   "outputs": [
    {
     "data": {
      "text/html": [
       "<div>\n",
       "<style scoped>\n",
       "    .dataframe tbody tr th:only-of-type {\n",
       "        vertical-align: middle;\n",
       "    }\n",
       "\n",
       "    .dataframe tbody tr th {\n",
       "        vertical-align: top;\n",
       "    }\n",
       "\n",
       "    .dataframe thead th {\n",
       "        text-align: right;\n",
       "    }\n",
       "</style>\n",
       "<table border=\"1\" class=\"dataframe\">\n",
       "  <thead>\n",
       "    <tr style=\"text-align: right;\">\n",
       "      <th></th>\n",
       "      <th>0</th>\n",
       "      <th>1</th>\n",
       "      <th>2</th>\n",
       "      <th>3</th>\n",
       "      <th>4</th>\n",
       "    </tr>\n",
       "  </thead>\n",
       "  <tbody>\n",
       "    <tr>\n",
       "      <th>0</th>\n",
       "      <td>9875</td>\n",
       "      <td>0.393429</td>\n",
       "      <td>0.513138</td>\n",
       "      <td>0.148071</td>\n",
       "      <td>0.882801</td>\n",
       "    </tr>\n",
       "    <tr>\n",
       "      <th>1</th>\n",
       "      <td>0.38578</td>\n",
       "      <td>0.539862</td>\n",
       "      <td>0.215086</td>\n",
       "      <td>0.538730</td>\n",
       "      <td>0.177759</td>\n",
       "    </tr>\n",
       "  </tbody>\n",
       "</table>\n",
       "</div>"
      ],
      "text/plain": [
       "         0         1         2         3         4\n",
       "0     9875  0.393429  0.513138  0.148071  0.882801\n",
       "1  0.38578  0.539862  0.215086  0.538730  0.177759"
      ]
     },
     "execution_count": 119,
     "metadata": {},
     "output_type": "execute_result"
    }
   ],
   "source": [
    "newDf.head(2)"
   ]
  },
  {
   "cell_type": "code",
   "execution_count": 120,
   "id": "af9d496c",
   "metadata": {},
   "outputs": [],
   "source": [
    "newDf.columns=list(\"ABCDE\")"
   ]
  },
  {
   "cell_type": "code",
   "execution_count": 121,
   "id": "3108ef47",
   "metadata": {},
   "outputs": [
    {
     "data": {
      "text/html": [
       "<div>\n",
       "<style scoped>\n",
       "    .dataframe tbody tr th:only-of-type {\n",
       "        vertical-align: middle;\n",
       "    }\n",
       "\n",
       "    .dataframe tbody tr th {\n",
       "        vertical-align: top;\n",
       "    }\n",
       "\n",
       "    .dataframe thead th {\n",
       "        text-align: right;\n",
       "    }\n",
       "</style>\n",
       "<table border=\"1\" class=\"dataframe\">\n",
       "  <thead>\n",
       "    <tr style=\"text-align: right;\">\n",
       "      <th></th>\n",
       "      <th>A</th>\n",
       "      <th>B</th>\n",
       "      <th>C</th>\n",
       "      <th>D</th>\n",
       "      <th>E</th>\n",
       "    </tr>\n",
       "  </thead>\n",
       "  <tbody>\n",
       "    <tr>\n",
       "      <th>0</th>\n",
       "      <td>9875</td>\n",
       "      <td>0.393429</td>\n",
       "      <td>0.513138</td>\n",
       "      <td>0.148071</td>\n",
       "      <td>0.882801</td>\n",
       "    </tr>\n",
       "    <tr>\n",
       "      <th>1</th>\n",
       "      <td>0.38578</td>\n",
       "      <td>0.539862</td>\n",
       "      <td>0.215086</td>\n",
       "      <td>0.538730</td>\n",
       "      <td>0.177759</td>\n",
       "    </tr>\n",
       "    <tr>\n",
       "      <th>2</th>\n",
       "      <td>0.435884</td>\n",
       "      <td>0.330324</td>\n",
       "      <td>0.415753</td>\n",
       "      <td>0.783783</td>\n",
       "      <td>0.357882</td>\n",
       "    </tr>\n",
       "  </tbody>\n",
       "</table>\n",
       "</div>"
      ],
      "text/plain": [
       "          A         B         C         D         E\n",
       "0      9875  0.393429  0.513138  0.148071  0.882801\n",
       "1   0.38578  0.539862  0.215086  0.538730  0.177759\n",
       "2  0.435884  0.330324  0.415753  0.783783  0.357882"
      ]
     },
     "execution_count": 121,
     "metadata": {},
     "output_type": "execute_result"
    }
   ],
   "source": [
    "newDf.head(3)"
   ]
  },
  {
   "cell_type": "code",
   "execution_count": 122,
   "id": "e88d3c68",
   "metadata": {},
   "outputs": [
    {
     "data": {
      "text/plain": [
       "9875"
      ]
     },
     "execution_count": 122,
     "metadata": {},
     "output_type": "execute_result"
    }
   ],
   "source": [
    "newDf.loc[0, \"A\"]"
   ]
  },
  {
   "cell_type": "code",
   "execution_count": 123,
   "id": "b81116b9",
   "metadata": {},
   "outputs": [],
   "source": [
    "newDf.loc[0,\"A\"]=65"
   ]
  },
  {
   "cell_type": "code",
   "execution_count": 124,
   "id": "55f459c8",
   "metadata": {},
   "outputs": [
    {
     "data": {
      "text/html": [
       "<div>\n",
       "<style scoped>\n",
       "    .dataframe tbody tr th:only-of-type {\n",
       "        vertical-align: middle;\n",
       "    }\n",
       "\n",
       "    .dataframe tbody tr th {\n",
       "        vertical-align: top;\n",
       "    }\n",
       "\n",
       "    .dataframe thead th {\n",
       "        text-align: right;\n",
       "    }\n",
       "</style>\n",
       "<table border=\"1\" class=\"dataframe\">\n",
       "  <thead>\n",
       "    <tr style=\"text-align: right;\">\n",
       "      <th></th>\n",
       "      <th>A</th>\n",
       "      <th>B</th>\n",
       "      <th>C</th>\n",
       "      <th>D</th>\n",
       "      <th>E</th>\n",
       "    </tr>\n",
       "  </thead>\n",
       "  <tbody>\n",
       "    <tr>\n",
       "      <th>0</th>\n",
       "      <td>65</td>\n",
       "      <td>0.393429</td>\n",
       "      <td>0.513138</td>\n",
       "      <td>0.148071</td>\n",
       "      <td>0.882801</td>\n",
       "    </tr>\n",
       "    <tr>\n",
       "      <th>1</th>\n",
       "      <td>0.38578</td>\n",
       "      <td>0.539862</td>\n",
       "      <td>0.215086</td>\n",
       "      <td>0.538730</td>\n",
       "      <td>0.177759</td>\n",
       "    </tr>\n",
       "    <tr>\n",
       "      <th>2</th>\n",
       "      <td>0.435884</td>\n",
       "      <td>0.330324</td>\n",
       "      <td>0.415753</td>\n",
       "      <td>0.783783</td>\n",
       "      <td>0.357882</td>\n",
       "    </tr>\n",
       "  </tbody>\n",
       "</table>\n",
       "</div>"
      ],
      "text/plain": [
       "          A         B         C         D         E\n",
       "0        65  0.393429  0.513138  0.148071  0.882801\n",
       "1   0.38578  0.539862  0.215086  0.538730  0.177759\n",
       "2  0.435884  0.330324  0.415753  0.783783  0.357882"
      ]
     },
     "execution_count": 124,
     "metadata": {},
     "output_type": "execute_result"
    }
   ],
   "source": [
    "newDf.head(3)"
   ]
  },
  {
   "cell_type": "code",
   "execution_count": 125,
   "id": "ab8cb077",
   "metadata": {},
   "outputs": [
    {
     "data": {
      "text/plain": [
       "0.14337807556155235"
      ]
     },
     "execution_count": 125,
     "metadata": {},
     "output_type": "execute_result"
    }
   ],
   "source": [
    "newDf.loc[35,\"A\"]"
   ]
  },
  {
   "cell_type": "code",
   "execution_count": 126,
   "id": "2f5d394a",
   "metadata": {},
   "outputs": [
    {
     "data": {
      "text/html": [
       "<div>\n",
       "<style scoped>\n",
       "    .dataframe tbody tr th:only-of-type {\n",
       "        vertical-align: middle;\n",
       "    }\n",
       "\n",
       "    .dataframe tbody tr th {\n",
       "        vertical-align: top;\n",
       "    }\n",
       "\n",
       "    .dataframe thead th {\n",
       "        text-align: right;\n",
       "    }\n",
       "</style>\n",
       "<table border=\"1\" class=\"dataframe\">\n",
       "  <thead>\n",
       "    <tr style=\"text-align: right;\">\n",
       "      <th></th>\n",
       "      <th>A</th>\n",
       "      <th>B</th>\n",
       "      <th>C</th>\n",
       "      <th>D</th>\n",
       "      <th>E</th>\n",
       "    </tr>\n",
       "  </thead>\n",
       "  <tbody>\n",
       "    <tr>\n",
       "      <th>1</th>\n",
       "      <td>0.38578</td>\n",
       "      <td>0.539862</td>\n",
       "      <td>0.215086</td>\n",
       "      <td>0.538730</td>\n",
       "      <td>0.177759</td>\n",
       "    </tr>\n",
       "    <tr>\n",
       "      <th>2</th>\n",
       "      <td>0.435884</td>\n",
       "      <td>0.330324</td>\n",
       "      <td>0.415753</td>\n",
       "      <td>0.783783</td>\n",
       "      <td>0.357882</td>\n",
       "    </tr>\n",
       "    <tr>\n",
       "      <th>3</th>\n",
       "      <td>0.156893</td>\n",
       "      <td>0.065059</td>\n",
       "      <td>0.388875</td>\n",
       "      <td>0.561804</td>\n",
       "      <td>0.068138</td>\n",
       "    </tr>\n",
       "  </tbody>\n",
       "</table>\n",
       "</div>"
      ],
      "text/plain": [
       "          A         B         C         D         E\n",
       "1   0.38578  0.539862  0.215086  0.538730  0.177759\n",
       "2  0.435884  0.330324  0.415753  0.783783  0.357882\n",
       "3  0.156893  0.065059  0.388875  0.561804  0.068138"
      ]
     },
     "execution_count": 126,
     "metadata": {},
     "output_type": "execute_result"
    }
   ],
   "source": [
    "newDf.drop(0, axis=0).head(3)"
   ]
  },
  {
   "cell_type": "code",
   "execution_count": 127,
   "id": "70aaad33",
   "metadata": {},
   "outputs": [
    {
     "data": {
      "text/html": [
       "<div>\n",
       "<style scoped>\n",
       "    .dataframe tbody tr th:only-of-type {\n",
       "        vertical-align: middle;\n",
       "    }\n",
       "\n",
       "    .dataframe tbody tr th {\n",
       "        vertical-align: top;\n",
       "    }\n",
       "\n",
       "    .dataframe thead th {\n",
       "        text-align: right;\n",
       "    }\n",
       "</style>\n",
       "<table border=\"1\" class=\"dataframe\">\n",
       "  <thead>\n",
       "    <tr style=\"text-align: right;\">\n",
       "      <th></th>\n",
       "      <th>B</th>\n",
       "      <th>C</th>\n",
       "      <th>D</th>\n",
       "      <th>E</th>\n",
       "    </tr>\n",
       "  </thead>\n",
       "  <tbody>\n",
       "    <tr>\n",
       "      <th>0</th>\n",
       "      <td>0.393429</td>\n",
       "      <td>0.513138</td>\n",
       "      <td>0.148071</td>\n",
       "      <td>0.882801</td>\n",
       "    </tr>\n",
       "    <tr>\n",
       "      <th>1</th>\n",
       "      <td>0.539862</td>\n",
       "      <td>0.215086</td>\n",
       "      <td>0.538730</td>\n",
       "      <td>0.177759</td>\n",
       "    </tr>\n",
       "    <tr>\n",
       "      <th>2</th>\n",
       "      <td>0.330324</td>\n",
       "      <td>0.415753</td>\n",
       "      <td>0.783783</td>\n",
       "      <td>0.357882</td>\n",
       "    </tr>\n",
       "  </tbody>\n",
       "</table>\n",
       "</div>"
      ],
      "text/plain": [
       "          B         C         D         E\n",
       "0  0.393429  0.513138  0.148071  0.882801\n",
       "1  0.539862  0.215086  0.538730  0.177759\n",
       "2  0.330324  0.415753  0.783783  0.357882"
      ]
     },
     "execution_count": 127,
     "metadata": {},
     "output_type": "execute_result"
    }
   ],
   "source": [
    "newDf.drop(\"A\", axis=1).head(3)"
   ]
  },
  {
   "cell_type": "code",
   "execution_count": 128,
   "id": "32e550e5",
   "metadata": {},
   "outputs": [
    {
     "data": {
      "text/html": [
       "<div>\n",
       "<style scoped>\n",
       "    .dataframe tbody tr th:only-of-type {\n",
       "        vertical-align: middle;\n",
       "    }\n",
       "\n",
       "    .dataframe tbody tr th {\n",
       "        vertical-align: top;\n",
       "    }\n",
       "\n",
       "    .dataframe thead th {\n",
       "        text-align: right;\n",
       "    }\n",
       "</style>\n",
       "<table border=\"1\" class=\"dataframe\">\n",
       "  <thead>\n",
       "    <tr style=\"text-align: right;\">\n",
       "      <th></th>\n",
       "      <th>A</th>\n",
       "      <th>B</th>\n",
       "      <th>C</th>\n",
       "      <th>D</th>\n",
       "      <th>E</th>\n",
       "    </tr>\n",
       "  </thead>\n",
       "  <tbody>\n",
       "    <tr>\n",
       "      <th>0</th>\n",
       "      <td>65</td>\n",
       "      <td>0.393429</td>\n",
       "      <td>0.513138</td>\n",
       "      <td>0.148071</td>\n",
       "      <td>0.882801</td>\n",
       "    </tr>\n",
       "    <tr>\n",
       "      <th>1</th>\n",
       "      <td>0.38578</td>\n",
       "      <td>0.539862</td>\n",
       "      <td>0.215086</td>\n",
       "      <td>0.538730</td>\n",
       "      <td>0.177759</td>\n",
       "    </tr>\n",
       "    <tr>\n",
       "      <th>2</th>\n",
       "      <td>0.435884</td>\n",
       "      <td>0.330324</td>\n",
       "      <td>0.415753</td>\n",
       "      <td>0.783783</td>\n",
       "      <td>0.357882</td>\n",
       "    </tr>\n",
       "  </tbody>\n",
       "</table>\n",
       "</div>"
      ],
      "text/plain": [
       "          A         B         C         D         E\n",
       "0        65  0.393429  0.513138  0.148071  0.882801\n",
       "1   0.38578  0.539862  0.215086  0.538730  0.177759\n",
       "2  0.435884  0.330324  0.415753  0.783783  0.357882"
      ]
     },
     "execution_count": 128,
     "metadata": {},
     "output_type": "execute_result"
    }
   ],
   "source": [
    "newDf.head(3)"
   ]
  },
  {
   "cell_type": "code",
   "execution_count": 129,
   "id": "64c80c34",
   "metadata": {},
   "outputs": [],
   "source": [
    "newDf = newDf.drop(\"A\", axis=1)"
   ]
  },
  {
   "cell_type": "code",
   "execution_count": 130,
   "id": "a6da5d77",
   "metadata": {},
   "outputs": [
    {
     "data": {
      "text/html": [
       "<div>\n",
       "<style scoped>\n",
       "    .dataframe tbody tr th:only-of-type {\n",
       "        vertical-align: middle;\n",
       "    }\n",
       "\n",
       "    .dataframe tbody tr th {\n",
       "        vertical-align: top;\n",
       "    }\n",
       "\n",
       "    .dataframe thead th {\n",
       "        text-align: right;\n",
       "    }\n",
       "</style>\n",
       "<table border=\"1\" class=\"dataframe\">\n",
       "  <thead>\n",
       "    <tr style=\"text-align: right;\">\n",
       "      <th></th>\n",
       "      <th>B</th>\n",
       "      <th>C</th>\n",
       "      <th>D</th>\n",
       "      <th>E</th>\n",
       "    </tr>\n",
       "  </thead>\n",
       "  <tbody>\n",
       "    <tr>\n",
       "      <th>0</th>\n",
       "      <td>0.393429</td>\n",
       "      <td>0.513138</td>\n",
       "      <td>0.148071</td>\n",
       "      <td>0.882801</td>\n",
       "    </tr>\n",
       "    <tr>\n",
       "      <th>1</th>\n",
       "      <td>0.539862</td>\n",
       "      <td>0.215086</td>\n",
       "      <td>0.538730</td>\n",
       "      <td>0.177759</td>\n",
       "    </tr>\n",
       "    <tr>\n",
       "      <th>2</th>\n",
       "      <td>0.330324</td>\n",
       "      <td>0.415753</td>\n",
       "      <td>0.783783</td>\n",
       "      <td>0.357882</td>\n",
       "    </tr>\n",
       "  </tbody>\n",
       "</table>\n",
       "</div>"
      ],
      "text/plain": [
       "          B         C         D         E\n",
       "0  0.393429  0.513138  0.148071  0.882801\n",
       "1  0.539862  0.215086  0.538730  0.177759\n",
       "2  0.330324  0.415753  0.783783  0.357882"
      ]
     },
     "execution_count": 130,
     "metadata": {},
     "output_type": "execute_result"
    }
   ],
   "source": [
    "newDf.head(3)"
   ]
  },
  {
   "cell_type": "code",
   "execution_count": 131,
   "id": "c9e744c9",
   "metadata": {},
   "outputs": [
    {
     "data": {
      "text/html": [
       "<div>\n",
       "<style scoped>\n",
       "    .dataframe tbody tr th:only-of-type {\n",
       "        vertical-align: middle;\n",
       "    }\n",
       "\n",
       "    .dataframe tbody tr th {\n",
       "        vertical-align: top;\n",
       "    }\n",
       "\n",
       "    .dataframe thead th {\n",
       "        text-align: right;\n",
       "    }\n",
       "</style>\n",
       "<table border=\"1\" class=\"dataframe\">\n",
       "  <thead>\n",
       "    <tr style=\"text-align: right;\">\n",
       "      <th></th>\n",
       "      <th>C</th>\n",
       "      <th>D</th>\n",
       "    </tr>\n",
       "  </thead>\n",
       "  <tbody>\n",
       "    <tr>\n",
       "      <th>1</th>\n",
       "      <td>0.215086</td>\n",
       "      <td>0.538730</td>\n",
       "    </tr>\n",
       "    <tr>\n",
       "      <th>2</th>\n",
       "      <td>0.415753</td>\n",
       "      <td>0.783783</td>\n",
       "    </tr>\n",
       "  </tbody>\n",
       "</table>\n",
       "</div>"
      ],
      "text/plain": [
       "          C         D\n",
       "1  0.215086  0.538730\n",
       "2  0.415753  0.783783"
      ]
     },
     "execution_count": 131,
     "metadata": {},
     "output_type": "execute_result"
    }
   ],
   "source": [
    "newDf.loc[[1,2],[\"C\",\"D\"]]"
   ]
  },
  {
   "cell_type": "code",
   "execution_count": 132,
   "id": "271d2c5f",
   "metadata": {},
   "outputs": [
    {
     "data": {
      "text/html": [
       "<div>\n",
       "<style scoped>\n",
       "    .dataframe tbody tr th:only-of-type {\n",
       "        vertical-align: middle;\n",
       "    }\n",
       "\n",
       "    .dataframe tbody tr th {\n",
       "        vertical-align: top;\n",
       "    }\n",
       "\n",
       "    .dataframe thead th {\n",
       "        text-align: right;\n",
       "    }\n",
       "</style>\n",
       "<table border=\"1\" class=\"dataframe\">\n",
       "  <thead>\n",
       "    <tr style=\"text-align: right;\">\n",
       "      <th></th>\n",
       "      <th>B</th>\n",
       "      <th>C</th>\n",
       "      <th>D</th>\n",
       "      <th>E</th>\n",
       "    </tr>\n",
       "  </thead>\n",
       "  <tbody>\n",
       "    <tr>\n",
       "      <th>0</th>\n",
       "      <td>0.393429</td>\n",
       "      <td>0.513138</td>\n",
       "      <td>0.148071</td>\n",
       "      <td>0.882801</td>\n",
       "    </tr>\n",
       "    <tr>\n",
       "      <th>1</th>\n",
       "      <td>0.539862</td>\n",
       "      <td>0.215086</td>\n",
       "      <td>0.538730</td>\n",
       "      <td>0.177759</td>\n",
       "    </tr>\n",
       "    <tr>\n",
       "      <th>2</th>\n",
       "      <td>0.330324</td>\n",
       "      <td>0.415753</td>\n",
       "      <td>0.783783</td>\n",
       "      <td>0.357882</td>\n",
       "    </tr>\n",
       "  </tbody>\n",
       "</table>\n",
       "</div>"
      ],
      "text/plain": [
       "          B         C         D         E\n",
       "0  0.393429  0.513138  0.148071  0.882801\n",
       "1  0.539862  0.215086  0.538730  0.177759\n",
       "2  0.330324  0.415753  0.783783  0.357882"
      ]
     },
     "execution_count": 132,
     "metadata": {},
     "output_type": "execute_result"
    }
   ],
   "source": [
    "newDf.head(3)"
   ]
  },
  {
   "cell_type": "code",
   "execution_count": 133,
   "id": "a79acb5b",
   "metadata": {},
   "outputs": [
    {
     "data": {
      "text/html": [
       "<div>\n",
       "<style scoped>\n",
       "    .dataframe tbody tr th:only-of-type {\n",
       "        vertical-align: middle;\n",
       "    }\n",
       "\n",
       "    .dataframe tbody tr th {\n",
       "        vertical-align: top;\n",
       "    }\n",
       "\n",
       "    .dataframe thead th {\n",
       "        text-align: right;\n",
       "    }\n",
       "</style>\n",
       "<table border=\"1\" class=\"dataframe\">\n",
       "  <thead>\n",
       "    <tr style=\"text-align: right;\">\n",
       "      <th></th>\n",
       "      <th>C</th>\n",
       "      <th>D</th>\n",
       "    </tr>\n",
       "  </thead>\n",
       "  <tbody>\n",
       "    <tr>\n",
       "      <th>0</th>\n",
       "      <td>0.513138</td>\n",
       "      <td>0.148071</td>\n",
       "    </tr>\n",
       "    <tr>\n",
       "      <th>1</th>\n",
       "      <td>0.215086</td>\n",
       "      <td>0.538730</td>\n",
       "    </tr>\n",
       "    <tr>\n",
       "      <th>2</th>\n",
       "      <td>0.415753</td>\n",
       "      <td>0.783783</td>\n",
       "    </tr>\n",
       "    <tr>\n",
       "      <th>3</th>\n",
       "      <td>0.388875</td>\n",
       "      <td>0.561804</td>\n",
       "    </tr>\n",
       "    <tr>\n",
       "      <th>4</th>\n",
       "      <td>0.289047</td>\n",
       "      <td>0.398517</td>\n",
       "    </tr>\n",
       "    <tr>\n",
       "      <th>...</th>\n",
       "      <td>...</td>\n",
       "      <td>...</td>\n",
       "    </tr>\n",
       "    <tr>\n",
       "      <th>325</th>\n",
       "      <td>0.410752</td>\n",
       "      <td>0.569647</td>\n",
       "    </tr>\n",
       "    <tr>\n",
       "      <th>326</th>\n",
       "      <td>0.497207</td>\n",
       "      <td>0.904910</td>\n",
       "    </tr>\n",
       "    <tr>\n",
       "      <th>327</th>\n",
       "      <td>0.368695</td>\n",
       "      <td>0.028878</td>\n",
       "    </tr>\n",
       "    <tr>\n",
       "      <th>328</th>\n",
       "      <td>0.263364</td>\n",
       "      <td>0.248530</td>\n",
       "    </tr>\n",
       "    <tr>\n",
       "      <th>329</th>\n",
       "      <td>0.859683</td>\n",
       "      <td>0.158451</td>\n",
       "    </tr>\n",
       "  </tbody>\n",
       "</table>\n",
       "<p>330 rows × 2 columns</p>\n",
       "</div>"
      ],
      "text/plain": [
       "            C         D\n",
       "0    0.513138  0.148071\n",
       "1    0.215086  0.538730\n",
       "2    0.415753  0.783783\n",
       "3    0.388875  0.561804\n",
       "4    0.289047  0.398517\n",
       "..        ...       ...\n",
       "325  0.410752  0.569647\n",
       "326  0.497207  0.904910\n",
       "327  0.368695  0.028878\n",
       "328  0.263364  0.248530\n",
       "329  0.859683  0.158451\n",
       "\n",
       "[330 rows x 2 columns]"
      ]
     },
     "execution_count": 133,
     "metadata": {},
     "output_type": "execute_result"
    }
   ],
   "source": [
    "newDf.loc[:,[\"C\",\"D\"]]"
   ]
  },
  {
   "cell_type": "code",
   "execution_count": 134,
   "id": "c9ea4f63",
   "metadata": {},
   "outputs": [
    {
     "data": {
      "text/html": [
       "<div>\n",
       "<style scoped>\n",
       "    .dataframe tbody tr th:only-of-type {\n",
       "        vertical-align: middle;\n",
       "    }\n",
       "\n",
       "    .dataframe tbody tr th {\n",
       "        vertical-align: top;\n",
       "    }\n",
       "\n",
       "    .dataframe thead th {\n",
       "        text-align: right;\n",
       "    }\n",
       "</style>\n",
       "<table border=\"1\" class=\"dataframe\">\n",
       "  <thead>\n",
       "    <tr style=\"text-align: right;\">\n",
       "      <th></th>\n",
       "      <th>B</th>\n",
       "      <th>C</th>\n",
       "      <th>D</th>\n",
       "      <th>E</th>\n",
       "    </tr>\n",
       "  </thead>\n",
       "  <tbody>\n",
       "    <tr>\n",
       "      <th>1</th>\n",
       "      <td>0.539862</td>\n",
       "      <td>0.215086</td>\n",
       "      <td>0.538730</td>\n",
       "      <td>0.177759</td>\n",
       "    </tr>\n",
       "    <tr>\n",
       "      <th>2</th>\n",
       "      <td>0.330324</td>\n",
       "      <td>0.415753</td>\n",
       "      <td>0.783783</td>\n",
       "      <td>0.357882</td>\n",
       "    </tr>\n",
       "  </tbody>\n",
       "</table>\n",
       "</div>"
      ],
      "text/plain": [
       "          B         C         D         E\n",
       "1  0.539862  0.215086  0.538730  0.177759\n",
       "2  0.330324  0.415753  0.783783  0.357882"
      ]
     },
     "execution_count": 134,
     "metadata": {},
     "output_type": "execute_result"
    }
   ],
   "source": [
    "newDf.loc[[1,2],:]"
   ]
  },
  {
   "cell_type": "code",
   "execution_count": 135,
   "id": "bb39e71e",
   "metadata": {},
   "outputs": [
    {
     "data": {
      "text/html": [
       "<div>\n",
       "<style scoped>\n",
       "    .dataframe tbody tr th:only-of-type {\n",
       "        vertical-align: middle;\n",
       "    }\n",
       "\n",
       "    .dataframe tbody tr th {\n",
       "        vertical-align: top;\n",
       "    }\n",
       "\n",
       "    .dataframe thead th {\n",
       "        text-align: right;\n",
       "    }\n",
       "</style>\n",
       "<table border=\"1\" class=\"dataframe\">\n",
       "  <thead>\n",
       "    <tr style=\"text-align: right;\">\n",
       "      <th></th>\n",
       "      <th>C</th>\n",
       "      <th>D</th>\n",
       "    </tr>\n",
       "  </thead>\n",
       "  <tbody>\n",
       "    <tr>\n",
       "      <th>0</th>\n",
       "      <td>0.513138</td>\n",
       "      <td>0.148071</td>\n",
       "    </tr>\n",
       "    <tr>\n",
       "      <th>1</th>\n",
       "      <td>0.215086</td>\n",
       "      <td>0.538730</td>\n",
       "    </tr>\n",
       "    <tr>\n",
       "      <th>2</th>\n",
       "      <td>0.415753</td>\n",
       "      <td>0.783783</td>\n",
       "    </tr>\n",
       "    <tr>\n",
       "      <th>3</th>\n",
       "      <td>0.388875</td>\n",
       "      <td>0.561804</td>\n",
       "    </tr>\n",
       "    <tr>\n",
       "      <th>4</th>\n",
       "      <td>0.289047</td>\n",
       "      <td>0.398517</td>\n",
       "    </tr>\n",
       "    <tr>\n",
       "      <th>5</th>\n",
       "      <td>0.117506</td>\n",
       "      <td>0.860179</td>\n",
       "    </tr>\n",
       "  </tbody>\n",
       "</table>\n",
       "</div>"
      ],
      "text/plain": [
       "          C         D\n",
       "0  0.513138  0.148071\n",
       "1  0.215086  0.538730\n",
       "2  0.415753  0.783783\n",
       "3  0.388875  0.561804\n",
       "4  0.289047  0.398517\n",
       "5  0.117506  0.860179"
      ]
     },
     "execution_count": 135,
     "metadata": {},
     "output_type": "execute_result"
    }
   ],
   "source": [
    "newDf.loc[:5,[\"C\",\"D\"]]"
   ]
  },
  {
   "cell_type": "code",
   "execution_count": 136,
   "id": "d9d9ff21",
   "metadata": {},
   "outputs": [
    {
     "data": {
      "text/html": [
       "<div>\n",
       "<style scoped>\n",
       "    .dataframe tbody tr th:only-of-type {\n",
       "        vertical-align: middle;\n",
       "    }\n",
       "\n",
       "    .dataframe tbody tr th {\n",
       "        vertical-align: top;\n",
       "    }\n",
       "\n",
       "    .dataframe thead th {\n",
       "        text-align: right;\n",
       "    }\n",
       "</style>\n",
       "<table border=\"1\" class=\"dataframe\">\n",
       "  <thead>\n",
       "    <tr style=\"text-align: right;\">\n",
       "      <th></th>\n",
       "      <th>B</th>\n",
       "      <th>C</th>\n",
       "      <th>D</th>\n",
       "    </tr>\n",
       "  </thead>\n",
       "  <tbody>\n",
       "    <tr>\n",
       "      <th>1</th>\n",
       "      <td>0.539862</td>\n",
       "      <td>0.215086</td>\n",
       "      <td>0.538730</td>\n",
       "    </tr>\n",
       "    <tr>\n",
       "      <th>2</th>\n",
       "      <td>0.330324</td>\n",
       "      <td>0.415753</td>\n",
       "      <td>0.783783</td>\n",
       "    </tr>\n",
       "  </tbody>\n",
       "</table>\n",
       "</div>"
      ],
      "text/plain": [
       "          B         C         D\n",
       "1  0.539862  0.215086  0.538730\n",
       "2  0.330324  0.415753  0.783783"
      ]
     },
     "execution_count": 136,
     "metadata": {},
     "output_type": "execute_result"
    }
   ],
   "source": [
    "newDf.loc[[1,2],:\"D\"]"
   ]
  },
  {
   "cell_type": "code",
   "execution_count": 137,
   "id": "54ca80c5",
   "metadata": {},
   "outputs": [
    {
     "data": {
      "text/html": [
       "<div>\n",
       "<style scoped>\n",
       "    .dataframe tbody tr th:only-of-type {\n",
       "        vertical-align: middle;\n",
       "    }\n",
       "\n",
       "    .dataframe tbody tr th {\n",
       "        vertical-align: top;\n",
       "    }\n",
       "\n",
       "    .dataframe thead th {\n",
       "        text-align: right;\n",
       "    }\n",
       "</style>\n",
       "<table border=\"1\" class=\"dataframe\">\n",
       "  <thead>\n",
       "    <tr style=\"text-align: right;\">\n",
       "      <th></th>\n",
       "      <th>B</th>\n",
       "      <th>C</th>\n",
       "      <th>D</th>\n",
       "      <th>E</th>\n",
       "    </tr>\n",
       "  </thead>\n",
       "  <tbody>\n",
       "    <tr>\n",
       "      <th>3</th>\n",
       "      <td>0.065059</td>\n",
       "      <td>0.388875</td>\n",
       "      <td>0.561804</td>\n",
       "      <td>0.068138</td>\n",
       "    </tr>\n",
       "    <tr>\n",
       "      <th>7</th>\n",
       "      <td>0.124671</td>\n",
       "      <td>0.883203</td>\n",
       "      <td>0.561909</td>\n",
       "      <td>0.886499</td>\n",
       "    </tr>\n",
       "    <tr>\n",
       "      <th>8</th>\n",
       "      <td>0.232240</td>\n",
       "      <td>0.618255</td>\n",
       "      <td>0.833570</td>\n",
       "      <td>0.408989</td>\n",
       "    </tr>\n",
       "    <tr>\n",
       "      <th>11</th>\n",
       "      <td>0.285975</td>\n",
       "      <td>0.519820</td>\n",
       "      <td>0.327085</td>\n",
       "      <td>0.612840</td>\n",
       "    </tr>\n",
       "    <tr>\n",
       "      <th>12</th>\n",
       "      <td>0.203710</td>\n",
       "      <td>0.226138</td>\n",
       "      <td>0.744284</td>\n",
       "      <td>0.442727</td>\n",
       "    </tr>\n",
       "    <tr>\n",
       "      <th>...</th>\n",
       "      <td>...</td>\n",
       "      <td>...</td>\n",
       "      <td>...</td>\n",
       "      <td>...</td>\n",
       "    </tr>\n",
       "    <tr>\n",
       "      <th>310</th>\n",
       "      <td>0.265005</td>\n",
       "      <td>0.055712</td>\n",
       "      <td>0.205965</td>\n",
       "      <td>0.449134</td>\n",
       "    </tr>\n",
       "    <tr>\n",
       "      <th>315</th>\n",
       "      <td>0.022077</td>\n",
       "      <td>0.434281</td>\n",
       "      <td>0.613802</td>\n",
       "      <td>0.110653</td>\n",
       "    </tr>\n",
       "    <tr>\n",
       "      <th>321</th>\n",
       "      <td>0.021569</td>\n",
       "      <td>0.808297</td>\n",
       "      <td>0.445422</td>\n",
       "      <td>0.409608</td>\n",
       "    </tr>\n",
       "    <tr>\n",
       "      <th>322</th>\n",
       "      <td>0.127006</td>\n",
       "      <td>0.675940</td>\n",
       "      <td>0.023145</td>\n",
       "      <td>0.984816</td>\n",
       "    </tr>\n",
       "    <tr>\n",
       "      <th>325</th>\n",
       "      <td>0.061401</td>\n",
       "      <td>0.410752</td>\n",
       "      <td>0.569647</td>\n",
       "      <td>0.643714</td>\n",
       "    </tr>\n",
       "  </tbody>\n",
       "</table>\n",
       "<p>105 rows × 4 columns</p>\n",
       "</div>"
      ],
      "text/plain": [
       "            B         C         D         E\n",
       "3    0.065059  0.388875  0.561804  0.068138\n",
       "7    0.124671  0.883203  0.561909  0.886499\n",
       "8    0.232240  0.618255  0.833570  0.408989\n",
       "11   0.285975  0.519820  0.327085  0.612840\n",
       "12   0.203710  0.226138  0.744284  0.442727\n",
       "..        ...       ...       ...       ...\n",
       "310  0.265005  0.055712  0.205965  0.449134\n",
       "315  0.022077  0.434281  0.613802  0.110653\n",
       "321  0.021569  0.808297  0.445422  0.409608\n",
       "322  0.127006  0.675940  0.023145  0.984816\n",
       "325  0.061401  0.410752  0.569647  0.643714\n",
       "\n",
       "[105 rows x 4 columns]"
      ]
     },
     "execution_count": 137,
     "metadata": {},
     "output_type": "execute_result"
    }
   ],
   "source": [
    "newDf.loc[(newDf[\"B\"]<0.3)]"
   ]
  },
  {
   "cell_type": "code",
   "execution_count": 138,
   "id": "df74d10b",
   "metadata": {},
   "outputs": [
    {
     "data": {
      "text/html": [
       "<div>\n",
       "<style scoped>\n",
       "    .dataframe tbody tr th:only-of-type {\n",
       "        vertical-align: middle;\n",
       "    }\n",
       "\n",
       "    .dataframe tbody tr th {\n",
       "        vertical-align: top;\n",
       "    }\n",
       "\n",
       "    .dataframe thead th {\n",
       "        text-align: right;\n",
       "    }\n",
       "</style>\n",
       "<table border=\"1\" class=\"dataframe\">\n",
       "  <thead>\n",
       "    <tr style=\"text-align: right;\">\n",
       "      <th></th>\n",
       "      <th>B</th>\n",
       "      <th>C</th>\n",
       "      <th>D</th>\n",
       "      <th>E</th>\n",
       "    </tr>\n",
       "  </thead>\n",
       "  <tbody>\n",
       "    <tr>\n",
       "      <th>3</th>\n",
       "      <td>0.065059</td>\n",
       "      <td>0.388875</td>\n",
       "      <td>0.561804</td>\n",
       "      <td>0.068138</td>\n",
       "    </tr>\n",
       "    <tr>\n",
       "      <th>7</th>\n",
       "      <td>0.124671</td>\n",
       "      <td>0.883203</td>\n",
       "      <td>0.561909</td>\n",
       "      <td>0.886499</td>\n",
       "    </tr>\n",
       "    <tr>\n",
       "      <th>8</th>\n",
       "      <td>0.232240</td>\n",
       "      <td>0.618255</td>\n",
       "      <td>0.833570</td>\n",
       "      <td>0.408989</td>\n",
       "    </tr>\n",
       "    <tr>\n",
       "      <th>11</th>\n",
       "      <td>0.285975</td>\n",
       "      <td>0.519820</td>\n",
       "      <td>0.327085</td>\n",
       "      <td>0.612840</td>\n",
       "    </tr>\n",
       "    <tr>\n",
       "      <th>12</th>\n",
       "      <td>0.203710</td>\n",
       "      <td>0.226138</td>\n",
       "      <td>0.744284</td>\n",
       "      <td>0.442727</td>\n",
       "    </tr>\n",
       "    <tr>\n",
       "      <th>...</th>\n",
       "      <td>...</td>\n",
       "      <td>...</td>\n",
       "      <td>...</td>\n",
       "      <td>...</td>\n",
       "    </tr>\n",
       "    <tr>\n",
       "      <th>308</th>\n",
       "      <td>0.046598</td>\n",
       "      <td>0.898518</td>\n",
       "      <td>0.783574</td>\n",
       "      <td>0.279464</td>\n",
       "    </tr>\n",
       "    <tr>\n",
       "      <th>310</th>\n",
       "      <td>0.265005</td>\n",
       "      <td>0.055712</td>\n",
       "      <td>0.205965</td>\n",
       "      <td>0.449134</td>\n",
       "    </tr>\n",
       "    <tr>\n",
       "      <th>315</th>\n",
       "      <td>0.022077</td>\n",
       "      <td>0.434281</td>\n",
       "      <td>0.613802</td>\n",
       "      <td>0.110653</td>\n",
       "    </tr>\n",
       "    <tr>\n",
       "      <th>321</th>\n",
       "      <td>0.021569</td>\n",
       "      <td>0.808297</td>\n",
       "      <td>0.445422</td>\n",
       "      <td>0.409608</td>\n",
       "    </tr>\n",
       "    <tr>\n",
       "      <th>325</th>\n",
       "      <td>0.061401</td>\n",
       "      <td>0.410752</td>\n",
       "      <td>0.569647</td>\n",
       "      <td>0.643714</td>\n",
       "    </tr>\n",
       "  </tbody>\n",
       "</table>\n",
       "<p>88 rows × 4 columns</p>\n",
       "</div>"
      ],
      "text/plain": [
       "            B         C         D         E\n",
       "3    0.065059  0.388875  0.561804  0.068138\n",
       "7    0.124671  0.883203  0.561909  0.886499\n",
       "8    0.232240  0.618255  0.833570  0.408989\n",
       "11   0.285975  0.519820  0.327085  0.612840\n",
       "12   0.203710  0.226138  0.744284  0.442727\n",
       "..        ...       ...       ...       ...\n",
       "308  0.046598  0.898518  0.783574  0.279464\n",
       "310  0.265005  0.055712  0.205965  0.449134\n",
       "315  0.022077  0.434281  0.613802  0.110653\n",
       "321  0.021569  0.808297  0.445422  0.409608\n",
       "325  0.061401  0.410752  0.569647  0.643714\n",
       "\n",
       "[88 rows x 4 columns]"
      ]
     },
     "execution_count": 138,
     "metadata": {},
     "output_type": "execute_result"
    }
   ],
   "source": [
    "newDf.loc[(newDf[\"B\"]<0.3) & (newDf[\"D\"]>0.2)]"
   ]
  },
  {
   "cell_type": "code",
   "execution_count": 139,
   "id": "641f8296",
   "metadata": {},
   "outputs": [
    {
     "data": {
      "text/html": [
       "<div>\n",
       "<style scoped>\n",
       "    .dataframe tbody tr th:only-of-type {\n",
       "        vertical-align: middle;\n",
       "    }\n",
       "\n",
       "    .dataframe tbody tr th {\n",
       "        vertical-align: top;\n",
       "    }\n",
       "\n",
       "    .dataframe thead th {\n",
       "        text-align: right;\n",
       "    }\n",
       "</style>\n",
       "<table border=\"1\" class=\"dataframe\">\n",
       "  <thead>\n",
       "    <tr style=\"text-align: right;\">\n",
       "      <th></th>\n",
       "      <th>B</th>\n",
       "      <th>C</th>\n",
       "      <th>D</th>\n",
       "      <th>E</th>\n",
       "    </tr>\n",
       "  </thead>\n",
       "  <tbody>\n",
       "    <tr>\n",
       "      <th>0</th>\n",
       "      <td>0.393429</td>\n",
       "      <td>0.513138</td>\n",
       "      <td>0.148071</td>\n",
       "      <td>0.882801</td>\n",
       "    </tr>\n",
       "    <tr>\n",
       "      <th>1</th>\n",
       "      <td>0.539862</td>\n",
       "      <td>0.215086</td>\n",
       "      <td>0.538730</td>\n",
       "      <td>0.177759</td>\n",
       "    </tr>\n",
       "    <tr>\n",
       "      <th>2</th>\n",
       "      <td>0.330324</td>\n",
       "      <td>0.415753</td>\n",
       "      <td>0.783783</td>\n",
       "      <td>0.357882</td>\n",
       "    </tr>\n",
       "  </tbody>\n",
       "</table>\n",
       "</div>"
      ],
      "text/plain": [
       "          B         C         D         E\n",
       "0  0.393429  0.513138  0.148071  0.882801\n",
       "1  0.539862  0.215086  0.538730  0.177759\n",
       "2  0.330324  0.415753  0.783783  0.357882"
      ]
     },
     "execution_count": 139,
     "metadata": {},
     "output_type": "execute_result"
    }
   ],
   "source": [
    "newDf.head(3)"
   ]
  },
  {
   "cell_type": "markdown",
   "id": "ff624342",
   "metadata": {},
   "source": [
    "## iloc"
   ]
  },
  {
   "cell_type": "code",
   "execution_count": 140,
   "id": "7576255c",
   "metadata": {},
   "outputs": [
    {
     "data": {
      "text/plain": [
       "0.39342898454052944"
      ]
     },
     "execution_count": 140,
     "metadata": {},
     "output_type": "execute_result"
    }
   ],
   "source": [
    "newDf.iloc[0,0]"
   ]
  },
  {
   "cell_type": "code",
   "execution_count": 141,
   "id": "7480b0eb",
   "metadata": {},
   "outputs": [],
   "source": [
    "newDf.iloc[0,0]=555"
   ]
  },
  {
   "cell_type": "code",
   "execution_count": 142,
   "id": "88f438c5",
   "metadata": {},
   "outputs": [
    {
     "data": {
      "text/html": [
       "<div>\n",
       "<style scoped>\n",
       "    .dataframe tbody tr th:only-of-type {\n",
       "        vertical-align: middle;\n",
       "    }\n",
       "\n",
       "    .dataframe tbody tr th {\n",
       "        vertical-align: top;\n",
       "    }\n",
       "\n",
       "    .dataframe thead th {\n",
       "        text-align: right;\n",
       "    }\n",
       "</style>\n",
       "<table border=\"1\" class=\"dataframe\">\n",
       "  <thead>\n",
       "    <tr style=\"text-align: right;\">\n",
       "      <th></th>\n",
       "      <th>B</th>\n",
       "      <th>C</th>\n",
       "      <th>D</th>\n",
       "      <th>E</th>\n",
       "    </tr>\n",
       "  </thead>\n",
       "  <tbody>\n",
       "    <tr>\n",
       "      <th>0</th>\n",
       "      <td>555.000000</td>\n",
       "      <td>0.513138</td>\n",
       "      <td>0.148071</td>\n",
       "      <td>0.882801</td>\n",
       "    </tr>\n",
       "    <tr>\n",
       "      <th>1</th>\n",
       "      <td>0.539862</td>\n",
       "      <td>0.215086</td>\n",
       "      <td>0.538730</td>\n",
       "      <td>0.177759</td>\n",
       "    </tr>\n",
       "    <tr>\n",
       "      <th>2</th>\n",
       "      <td>0.330324</td>\n",
       "      <td>0.415753</td>\n",
       "      <td>0.783783</td>\n",
       "      <td>0.357882</td>\n",
       "    </tr>\n",
       "    <tr>\n",
       "      <th>3</th>\n",
       "      <td>0.065059</td>\n",
       "      <td>0.388875</td>\n",
       "      <td>0.561804</td>\n",
       "      <td>0.068138</td>\n",
       "    </tr>\n",
       "    <tr>\n",
       "      <th>4</th>\n",
       "      <td>0.372415</td>\n",
       "      <td>0.289047</td>\n",
       "      <td>0.398517</td>\n",
       "      <td>0.780231</td>\n",
       "    </tr>\n",
       "  </tbody>\n",
       "</table>\n",
       "</div>"
      ],
      "text/plain": [
       "            B         C         D         E\n",
       "0  555.000000  0.513138  0.148071  0.882801\n",
       "1    0.539862  0.215086  0.538730  0.177759\n",
       "2    0.330324  0.415753  0.783783  0.357882\n",
       "3    0.065059  0.388875  0.561804  0.068138\n",
       "4    0.372415  0.289047  0.398517  0.780231"
      ]
     },
     "execution_count": 142,
     "metadata": {},
     "output_type": "execute_result"
    }
   ],
   "source": [
    "newDf.head()"
   ]
  },
  {
   "cell_type": "code",
   "execution_count": 143,
   "id": "eb0e9ae2",
   "metadata": {},
   "outputs": [
    {
     "data": {
      "text/html": [
       "<div>\n",
       "<style scoped>\n",
       "    .dataframe tbody tr th:only-of-type {\n",
       "        vertical-align: middle;\n",
       "    }\n",
       "\n",
       "    .dataframe tbody tr th {\n",
       "        vertical-align: top;\n",
       "    }\n",
       "\n",
       "    .dataframe thead th {\n",
       "        text-align: right;\n",
       "    }\n",
       "</style>\n",
       "<table border=\"1\" class=\"dataframe\">\n",
       "  <thead>\n",
       "    <tr style=\"text-align: right;\">\n",
       "      <th></th>\n",
       "      <th>C</th>\n",
       "      <th>E</th>\n",
       "    </tr>\n",
       "  </thead>\n",
       "  <tbody>\n",
       "    <tr>\n",
       "      <th>0</th>\n",
       "      <td>0.513138</td>\n",
       "      <td>0.882801</td>\n",
       "    </tr>\n",
       "    <tr>\n",
       "      <th>4</th>\n",
       "      <td>0.289047</td>\n",
       "      <td>0.780231</td>\n",
       "    </tr>\n",
       "  </tbody>\n",
       "</table>\n",
       "</div>"
      ],
      "text/plain": [
       "          C         E\n",
       "0  0.513138  0.882801\n",
       "4  0.289047  0.780231"
      ]
     },
     "execution_count": 143,
     "metadata": {},
     "output_type": "execute_result"
    }
   ],
   "source": [
    "newDf.iloc[[0,4],[1,3]]"
   ]
  },
  {
   "cell_type": "code",
   "execution_count": 144,
   "id": "118e433d",
   "metadata": {},
   "outputs": [
    {
     "data": {
      "text/html": [
       "<div>\n",
       "<style scoped>\n",
       "    .dataframe tbody tr th:only-of-type {\n",
       "        vertical-align: middle;\n",
       "    }\n",
       "\n",
       "    .dataframe tbody tr th {\n",
       "        vertical-align: top;\n",
       "    }\n",
       "\n",
       "    .dataframe thead th {\n",
       "        text-align: right;\n",
       "    }\n",
       "</style>\n",
       "<table border=\"1\" class=\"dataframe\">\n",
       "  <thead>\n",
       "    <tr style=\"text-align: right;\">\n",
       "      <th></th>\n",
       "      <th>B</th>\n",
       "      <th>C</th>\n",
       "      <th>D</th>\n",
       "      <th>E</th>\n",
       "    </tr>\n",
       "  </thead>\n",
       "  <tbody>\n",
       "    <tr>\n",
       "      <th>0</th>\n",
       "      <td>555.000000</td>\n",
       "      <td>0.513138</td>\n",
       "      <td>0.148071</td>\n",
       "      <td>0.882801</td>\n",
       "    </tr>\n",
       "    <tr>\n",
       "      <th>1</th>\n",
       "      <td>0.539862</td>\n",
       "      <td>0.215086</td>\n",
       "      <td>0.538730</td>\n",
       "      <td>0.177759</td>\n",
       "    </tr>\n",
       "    <tr>\n",
       "      <th>2</th>\n",
       "      <td>0.330324</td>\n",
       "      <td>0.415753</td>\n",
       "      <td>0.783783</td>\n",
       "      <td>0.357882</td>\n",
       "    </tr>\n",
       "    <tr>\n",
       "      <th>3</th>\n",
       "      <td>0.065059</td>\n",
       "      <td>0.388875</td>\n",
       "      <td>0.561804</td>\n",
       "      <td>0.068138</td>\n",
       "    </tr>\n",
       "  </tbody>\n",
       "</table>\n",
       "</div>"
      ],
      "text/plain": [
       "            B         C         D         E\n",
       "0  555.000000  0.513138  0.148071  0.882801\n",
       "1    0.539862  0.215086  0.538730  0.177759\n",
       "2    0.330324  0.415753  0.783783  0.357882\n",
       "3    0.065059  0.388875  0.561804  0.068138"
      ]
     },
     "execution_count": 144,
     "metadata": {},
     "output_type": "execute_result"
    }
   ],
   "source": [
    "newDf.head(4)"
   ]
  },
  {
   "cell_type": "code",
   "execution_count": 145,
   "id": "71ed9437",
   "metadata": {},
   "outputs": [
    {
     "data": {
      "text/html": [
       "<div>\n",
       "<style scoped>\n",
       "    .dataframe tbody tr th:only-of-type {\n",
       "        vertical-align: middle;\n",
       "    }\n",
       "\n",
       "    .dataframe tbody tr th {\n",
       "        vertical-align: top;\n",
       "    }\n",
       "\n",
       "    .dataframe thead th {\n",
       "        text-align: right;\n",
       "    }\n",
       "</style>\n",
       "<table border=\"1\" class=\"dataframe\">\n",
       "  <thead>\n",
       "    <tr style=\"text-align: right;\">\n",
       "      <th></th>\n",
       "      <th>B</th>\n",
       "      <th>C</th>\n",
       "      <th>D</th>\n",
       "      <th>E</th>\n",
       "    </tr>\n",
       "  </thead>\n",
       "  <tbody>\n",
       "    <tr>\n",
       "      <th>1</th>\n",
       "      <td>0.539862</td>\n",
       "      <td>0.215086</td>\n",
       "      <td>0.538730</td>\n",
       "      <td>0.177759</td>\n",
       "    </tr>\n",
       "    <tr>\n",
       "      <th>2</th>\n",
       "      <td>0.330324</td>\n",
       "      <td>0.415753</td>\n",
       "      <td>0.783783</td>\n",
       "      <td>0.357882</td>\n",
       "    </tr>\n",
       "    <tr>\n",
       "      <th>3</th>\n",
       "      <td>0.065059</td>\n",
       "      <td>0.388875</td>\n",
       "      <td>0.561804</td>\n",
       "      <td>0.068138</td>\n",
       "    </tr>\n",
       "    <tr>\n",
       "      <th>4</th>\n",
       "      <td>0.372415</td>\n",
       "      <td>0.289047</td>\n",
       "      <td>0.398517</td>\n",
       "      <td>0.780231</td>\n",
       "    </tr>\n",
       "    <tr>\n",
       "      <th>5</th>\n",
       "      <td>0.932747</td>\n",
       "      <td>0.117506</td>\n",
       "      <td>0.860179</td>\n",
       "      <td>0.608819</td>\n",
       "    </tr>\n",
       "  </tbody>\n",
       "</table>\n",
       "</div>"
      ],
      "text/plain": [
       "          B         C         D         E\n",
       "1  0.539862  0.215086  0.538730  0.177759\n",
       "2  0.330324  0.415753  0.783783  0.357882\n",
       "3  0.065059  0.388875  0.561804  0.068138\n",
       "4  0.372415  0.289047  0.398517  0.780231\n",
       "5  0.932747  0.117506  0.860179  0.608819"
      ]
     },
     "execution_count": 145,
     "metadata": {},
     "output_type": "execute_result"
    }
   ],
   "source": [
    "newDf.drop(0).head()"
   ]
  },
  {
   "cell_type": "code",
   "execution_count": 146,
   "id": "005bba18",
   "metadata": {},
   "outputs": [],
   "source": [
    "# newDf.drop(0, axis=1)"
   ]
  },
  {
   "cell_type": "code",
   "execution_count": 147,
   "id": "01ee438f",
   "metadata": {},
   "outputs": [],
   "source": [
    "# newDf.drop(\"B\", axis=1).head()"
   ]
  },
  {
   "cell_type": "code",
   "execution_count": 148,
   "id": "8970efaf",
   "metadata": {},
   "outputs": [
    {
     "data": {
      "text/html": [
       "<div>\n",
       "<style scoped>\n",
       "    .dataframe tbody tr th:only-of-type {\n",
       "        vertical-align: middle;\n",
       "    }\n",
       "\n",
       "    .dataframe tbody tr th {\n",
       "        vertical-align: top;\n",
       "    }\n",
       "\n",
       "    .dataframe thead th {\n",
       "        text-align: right;\n",
       "    }\n",
       "</style>\n",
       "<table border=\"1\" class=\"dataframe\">\n",
       "  <thead>\n",
       "    <tr style=\"text-align: right;\">\n",
       "      <th></th>\n",
       "      <th>B</th>\n",
       "      <th>E</th>\n",
       "    </tr>\n",
       "  </thead>\n",
       "  <tbody>\n",
       "    <tr>\n",
       "      <th>0</th>\n",
       "      <td>555.000000</td>\n",
       "      <td>0.882801</td>\n",
       "    </tr>\n",
       "    <tr>\n",
       "      <th>1</th>\n",
       "      <td>0.539862</td>\n",
       "      <td>0.177759</td>\n",
       "    </tr>\n",
       "    <tr>\n",
       "      <th>2</th>\n",
       "      <td>0.330324</td>\n",
       "      <td>0.357882</td>\n",
       "    </tr>\n",
       "    <tr>\n",
       "      <th>3</th>\n",
       "      <td>0.065059</td>\n",
       "      <td>0.068138</td>\n",
       "    </tr>\n",
       "    <tr>\n",
       "      <th>4</th>\n",
       "      <td>0.372415</td>\n",
       "      <td>0.780231</td>\n",
       "    </tr>\n",
       "  </tbody>\n",
       "</table>\n",
       "</div>"
      ],
      "text/plain": [
       "            B         E\n",
       "0  555.000000  0.882801\n",
       "1    0.539862  0.177759\n",
       "2    0.330324  0.357882\n",
       "3    0.065059  0.068138\n",
       "4    0.372415  0.780231"
      ]
     },
     "execution_count": 148,
     "metadata": {},
     "output_type": "execute_result"
    }
   ],
   "source": [
    "newDf.drop([\"C\", \"D\"], axis=1).head()"
   ]
  },
  {
   "cell_type": "code",
   "execution_count": 149,
   "id": "6f8ebaec",
   "metadata": {},
   "outputs": [
    {
     "data": {
      "text/html": [
       "<div>\n",
       "<style scoped>\n",
       "    .dataframe tbody tr th:only-of-type {\n",
       "        vertical-align: middle;\n",
       "    }\n",
       "\n",
       "    .dataframe tbody tr th {\n",
       "        vertical-align: top;\n",
       "    }\n",
       "\n",
       "    .dataframe thead th {\n",
       "        text-align: right;\n",
       "    }\n",
       "</style>\n",
       "<table border=\"1\" class=\"dataframe\">\n",
       "  <thead>\n",
       "    <tr style=\"text-align: right;\">\n",
       "      <th></th>\n",
       "      <th>B</th>\n",
       "      <th>C</th>\n",
       "      <th>D</th>\n",
       "      <th>E</th>\n",
       "    </tr>\n",
       "  </thead>\n",
       "  <tbody>\n",
       "    <tr>\n",
       "      <th>0</th>\n",
       "      <td>555.000000</td>\n",
       "      <td>0.513138</td>\n",
       "      <td>0.148071</td>\n",
       "      <td>0.882801</td>\n",
       "    </tr>\n",
       "    <tr>\n",
       "      <th>1</th>\n",
       "      <td>0.539862</td>\n",
       "      <td>0.215086</td>\n",
       "      <td>0.538730</td>\n",
       "      <td>0.177759</td>\n",
       "    </tr>\n",
       "    <tr>\n",
       "      <th>2</th>\n",
       "      <td>0.330324</td>\n",
       "      <td>0.415753</td>\n",
       "      <td>0.783783</td>\n",
       "      <td>0.357882</td>\n",
       "    </tr>\n",
       "    <tr>\n",
       "      <th>3</th>\n",
       "      <td>0.065059</td>\n",
       "      <td>0.388875</td>\n",
       "      <td>0.561804</td>\n",
       "      <td>0.068138</td>\n",
       "    </tr>\n",
       "    <tr>\n",
       "      <th>4</th>\n",
       "      <td>0.372415</td>\n",
       "      <td>0.289047</td>\n",
       "      <td>0.398517</td>\n",
       "      <td>0.780231</td>\n",
       "    </tr>\n",
       "  </tbody>\n",
       "</table>\n",
       "</div>"
      ],
      "text/plain": [
       "            B         C         D         E\n",
       "0  555.000000  0.513138  0.148071  0.882801\n",
       "1    0.539862  0.215086  0.538730  0.177759\n",
       "2    0.330324  0.415753  0.783783  0.357882\n",
       "3    0.065059  0.388875  0.561804  0.068138\n",
       "4    0.372415  0.289047  0.398517  0.780231"
      ]
     },
     "execution_count": 149,
     "metadata": {},
     "output_type": "execute_result"
    }
   ],
   "source": [
    "newDf.head()"
   ]
  },
  {
   "cell_type": "code",
   "execution_count": 150,
   "id": "499f3c14",
   "metadata": {},
   "outputs": [],
   "source": [
    "newDf.drop(['B', 'D'], axis=1, inplace=True)"
   ]
  },
  {
   "cell_type": "code",
   "execution_count": 151,
   "id": "d244b30c",
   "metadata": {},
   "outputs": [
    {
     "data": {
      "text/html": [
       "<div>\n",
       "<style scoped>\n",
       "    .dataframe tbody tr th:only-of-type {\n",
       "        vertical-align: middle;\n",
       "    }\n",
       "\n",
       "    .dataframe tbody tr th {\n",
       "        vertical-align: top;\n",
       "    }\n",
       "\n",
       "    .dataframe thead th {\n",
       "        text-align: right;\n",
       "    }\n",
       "</style>\n",
       "<table border=\"1\" class=\"dataframe\">\n",
       "  <thead>\n",
       "    <tr style=\"text-align: right;\">\n",
       "      <th></th>\n",
       "      <th>C</th>\n",
       "      <th>E</th>\n",
       "    </tr>\n",
       "  </thead>\n",
       "  <tbody>\n",
       "    <tr>\n",
       "      <th>0</th>\n",
       "      <td>0.513138</td>\n",
       "      <td>0.882801</td>\n",
       "    </tr>\n",
       "    <tr>\n",
       "      <th>1</th>\n",
       "      <td>0.215086</td>\n",
       "      <td>0.177759</td>\n",
       "    </tr>\n",
       "    <tr>\n",
       "      <th>2</th>\n",
       "      <td>0.415753</td>\n",
       "      <td>0.357882</td>\n",
       "    </tr>\n",
       "    <tr>\n",
       "      <th>3</th>\n",
       "      <td>0.388875</td>\n",
       "      <td>0.068138</td>\n",
       "    </tr>\n",
       "    <tr>\n",
       "      <th>4</th>\n",
       "      <td>0.289047</td>\n",
       "      <td>0.780231</td>\n",
       "    </tr>\n",
       "  </tbody>\n",
       "</table>\n",
       "</div>"
      ],
      "text/plain": [
       "          C         E\n",
       "0  0.513138  0.882801\n",
       "1  0.215086  0.177759\n",
       "2  0.415753  0.357882\n",
       "3  0.388875  0.068138\n",
       "4  0.289047  0.780231"
      ]
     },
     "execution_count": 151,
     "metadata": {},
     "output_type": "execute_result"
    }
   ],
   "source": [
    "newDf.head()"
   ]
  },
  {
   "cell_type": "code",
   "execution_count": 152,
   "id": "19724ab8",
   "metadata": {},
   "outputs": [
    {
     "data": {
      "text/html": [
       "<div>\n",
       "<style scoped>\n",
       "    .dataframe tbody tr th:only-of-type {\n",
       "        vertical-align: middle;\n",
       "    }\n",
       "\n",
       "    .dataframe tbody tr th {\n",
       "        vertical-align: top;\n",
       "    }\n",
       "\n",
       "    .dataframe thead th {\n",
       "        text-align: right;\n",
       "    }\n",
       "</style>\n",
       "<table border=\"1\" class=\"dataframe\">\n",
       "  <thead>\n",
       "    <tr style=\"text-align: right;\">\n",
       "      <th></th>\n",
       "      <th>index</th>\n",
       "      <th>C</th>\n",
       "      <th>E</th>\n",
       "    </tr>\n",
       "  </thead>\n",
       "  <tbody>\n",
       "    <tr>\n",
       "      <th>0</th>\n",
       "      <td>0</td>\n",
       "      <td>0.513138</td>\n",
       "      <td>0.882801</td>\n",
       "    </tr>\n",
       "    <tr>\n",
       "      <th>1</th>\n",
       "      <td>1</td>\n",
       "      <td>0.215086</td>\n",
       "      <td>0.177759</td>\n",
       "    </tr>\n",
       "    <tr>\n",
       "      <th>2</th>\n",
       "      <td>2</td>\n",
       "      <td>0.415753</td>\n",
       "      <td>0.357882</td>\n",
       "    </tr>\n",
       "    <tr>\n",
       "      <th>3</th>\n",
       "      <td>3</td>\n",
       "      <td>0.388875</td>\n",
       "      <td>0.068138</td>\n",
       "    </tr>\n",
       "    <tr>\n",
       "      <th>4</th>\n",
       "      <td>4</td>\n",
       "      <td>0.289047</td>\n",
       "      <td>0.780231</td>\n",
       "    </tr>\n",
       "  </tbody>\n",
       "</table>\n",
       "</div>"
      ],
      "text/plain": [
       "   index         C         E\n",
       "0      0  0.513138  0.882801\n",
       "1      1  0.215086  0.177759\n",
       "2      2  0.415753  0.357882\n",
       "3      3  0.388875  0.068138\n",
       "4      4  0.289047  0.780231"
      ]
     },
     "execution_count": 152,
     "metadata": {},
     "output_type": "execute_result"
    }
   ],
   "source": [
    "newDf.reset_index().head()"
   ]
  },
  {
   "cell_type": "code",
   "execution_count": 153,
   "id": "d3f8806e",
   "metadata": {},
   "outputs": [
    {
     "data": {
      "text/html": [
       "<div>\n",
       "<style scoped>\n",
       "    .dataframe tbody tr th:only-of-type {\n",
       "        vertical-align: middle;\n",
       "    }\n",
       "\n",
       "    .dataframe tbody tr th {\n",
       "        vertical-align: top;\n",
       "    }\n",
       "\n",
       "    .dataframe thead th {\n",
       "        text-align: right;\n",
       "    }\n",
       "</style>\n",
       "<table border=\"1\" class=\"dataframe\">\n",
       "  <thead>\n",
       "    <tr style=\"text-align: right;\">\n",
       "      <th></th>\n",
       "      <th>C</th>\n",
       "      <th>E</th>\n",
       "    </tr>\n",
       "  </thead>\n",
       "  <tbody>\n",
       "    <tr>\n",
       "      <th>0</th>\n",
       "      <td>0.513138</td>\n",
       "      <td>0.882801</td>\n",
       "    </tr>\n",
       "    <tr>\n",
       "      <th>1</th>\n",
       "      <td>0.215086</td>\n",
       "      <td>0.177759</td>\n",
       "    </tr>\n",
       "    <tr>\n",
       "      <th>2</th>\n",
       "      <td>0.415753</td>\n",
       "      <td>0.357882</td>\n",
       "    </tr>\n",
       "    <tr>\n",
       "      <th>3</th>\n",
       "      <td>0.388875</td>\n",
       "      <td>0.068138</td>\n",
       "    </tr>\n",
       "    <tr>\n",
       "      <th>4</th>\n",
       "      <td>0.289047</td>\n",
       "      <td>0.780231</td>\n",
       "    </tr>\n",
       "  </tbody>\n",
       "</table>\n",
       "</div>"
      ],
      "text/plain": [
       "          C         E\n",
       "0  0.513138  0.882801\n",
       "1  0.215086  0.177759\n",
       "2  0.415753  0.357882\n",
       "3  0.388875  0.068138\n",
       "4  0.289047  0.780231"
      ]
     },
     "execution_count": 153,
     "metadata": {},
     "output_type": "execute_result"
    }
   ],
   "source": [
    "newDf.reset_index(drop=True).head()"
   ]
  },
  {
   "cell_type": "code",
   "execution_count": 154,
   "id": "1eb2fb2c",
   "metadata": {},
   "outputs": [
    {
     "data": {
      "text/html": [
       "<div>\n",
       "<style scoped>\n",
       "    .dataframe tbody tr th:only-of-type {\n",
       "        vertical-align: middle;\n",
       "    }\n",
       "\n",
       "    .dataframe tbody tr th {\n",
       "        vertical-align: top;\n",
       "    }\n",
       "\n",
       "    .dataframe thead th {\n",
       "        text-align: right;\n",
       "    }\n",
       "</style>\n",
       "<table border=\"1\" class=\"dataframe\">\n",
       "  <thead>\n",
       "    <tr style=\"text-align: right;\">\n",
       "      <th></th>\n",
       "      <th>C</th>\n",
       "      <th>E</th>\n",
       "    </tr>\n",
       "  </thead>\n",
       "  <tbody>\n",
       "    <tr>\n",
       "      <th>0</th>\n",
       "      <td>0.513138</td>\n",
       "      <td>0.882801</td>\n",
       "    </tr>\n",
       "    <tr>\n",
       "      <th>1</th>\n",
       "      <td>0.215086</td>\n",
       "      <td>0.177759</td>\n",
       "    </tr>\n",
       "    <tr>\n",
       "      <th>2</th>\n",
       "      <td>0.415753</td>\n",
       "      <td>0.357882</td>\n",
       "    </tr>\n",
       "    <tr>\n",
       "      <th>3</th>\n",
       "      <td>0.388875</td>\n",
       "      <td>0.068138</td>\n",
       "    </tr>\n",
       "    <tr>\n",
       "      <th>4</th>\n",
       "      <td>0.289047</td>\n",
       "      <td>0.780231</td>\n",
       "    </tr>\n",
       "  </tbody>\n",
       "</table>\n",
       "</div>"
      ],
      "text/plain": [
       "          C         E\n",
       "0  0.513138  0.882801\n",
       "1  0.215086  0.177759\n",
       "2  0.415753  0.357882\n",
       "3  0.388875  0.068138\n",
       "4  0.289047  0.780231"
      ]
     },
     "execution_count": 154,
     "metadata": {},
     "output_type": "execute_result"
    }
   ],
   "source": [
    "newDf.head()"
   ]
  },
  {
   "cell_type": "code",
   "execution_count": 155,
   "id": "426b76d6",
   "metadata": {},
   "outputs": [],
   "source": [
    "newDf.reset_index(drop=True, inplace=True)"
   ]
  },
  {
   "cell_type": "code",
   "execution_count": 156,
   "id": "478ae7d5",
   "metadata": {},
   "outputs": [
    {
     "data": {
      "text/html": [
       "<div>\n",
       "<style scoped>\n",
       "    .dataframe tbody tr th:only-of-type {\n",
       "        vertical-align: middle;\n",
       "    }\n",
       "\n",
       "    .dataframe tbody tr th {\n",
       "        vertical-align: top;\n",
       "    }\n",
       "\n",
       "    .dataframe thead th {\n",
       "        text-align: right;\n",
       "    }\n",
       "</style>\n",
       "<table border=\"1\" class=\"dataframe\">\n",
       "  <thead>\n",
       "    <tr style=\"text-align: right;\">\n",
       "      <th></th>\n",
       "      <th>C</th>\n",
       "      <th>E</th>\n",
       "    </tr>\n",
       "  </thead>\n",
       "  <tbody>\n",
       "    <tr>\n",
       "      <th>0</th>\n",
       "      <td>0.513138</td>\n",
       "      <td>0.882801</td>\n",
       "    </tr>\n",
       "    <tr>\n",
       "      <th>1</th>\n",
       "      <td>0.215086</td>\n",
       "      <td>0.177759</td>\n",
       "    </tr>\n",
       "    <tr>\n",
       "      <th>2</th>\n",
       "      <td>0.415753</td>\n",
       "      <td>0.357882</td>\n",
       "    </tr>\n",
       "    <tr>\n",
       "      <th>3</th>\n",
       "      <td>0.388875</td>\n",
       "      <td>0.068138</td>\n",
       "    </tr>\n",
       "    <tr>\n",
       "      <th>4</th>\n",
       "      <td>0.289047</td>\n",
       "      <td>0.780231</td>\n",
       "    </tr>\n",
       "  </tbody>\n",
       "</table>\n",
       "</div>"
      ],
      "text/plain": [
       "          C         E\n",
       "0  0.513138  0.882801\n",
       "1  0.215086  0.177759\n",
       "2  0.415753  0.357882\n",
       "3  0.388875  0.068138\n",
       "4  0.289047  0.780231"
      ]
     },
     "execution_count": 156,
     "metadata": {},
     "output_type": "execute_result"
    }
   ],
   "source": [
    "newDf.head()"
   ]
  },
  {
   "cell_type": "markdown",
   "id": "45d17cd2-5567-4474-a2ec-ceb2984670ff",
   "metadata": {},
   "source": [
    "# Groupby\n",
    "The groupby method allows you to group rows of data together and call aggregate functions\n",
    "\n",
    "​\n",
    "​"
   ]
  },
  {
   "cell_type": "code",
   "execution_count": 157,
   "id": "321a8e7b",
   "metadata": {},
   "outputs": [],
   "source": [
    "data = {'Company':['GOOG','GOOG','MSFT','MSFT','FB','FB'],\n",
    "       'Person':['Sam','Charlie','Amy','Vanessa','Carl','Sarah'],\n",
    "       'Sales':[200,120,340,124,243,350]}"
   ]
  },
  {
   "cell_type": "code",
   "execution_count": 158,
   "id": "29c08d6a-6192-425e-b9a3-83801a5fa519",
   "metadata": {},
   "outputs": [],
   "source": [
    "df = pd.DataFrame(data)"
   ]
  },
  {
   "cell_type": "code",
   "execution_count": 159,
   "id": "afa78917-5b28-4d6d-b6f7-d782bce047b7",
   "metadata": {},
   "outputs": [
    {
     "data": {
      "text/html": [
       "<div>\n",
       "<style scoped>\n",
       "    .dataframe tbody tr th:only-of-type {\n",
       "        vertical-align: middle;\n",
       "    }\n",
       "\n",
       "    .dataframe tbody tr th {\n",
       "        vertical-align: top;\n",
       "    }\n",
       "\n",
       "    .dataframe thead th {\n",
       "        text-align: right;\n",
       "    }\n",
       "</style>\n",
       "<table border=\"1\" class=\"dataframe\">\n",
       "  <thead>\n",
       "    <tr style=\"text-align: right;\">\n",
       "      <th></th>\n",
       "      <th>Company</th>\n",
       "      <th>Person</th>\n",
       "      <th>Sales</th>\n",
       "    </tr>\n",
       "  </thead>\n",
       "  <tbody>\n",
       "    <tr>\n",
       "      <th>0</th>\n",
       "      <td>GOOG</td>\n",
       "      <td>Sam</td>\n",
       "      <td>200</td>\n",
       "    </tr>\n",
       "    <tr>\n",
       "      <th>1</th>\n",
       "      <td>GOOG</td>\n",
       "      <td>Charlie</td>\n",
       "      <td>120</td>\n",
       "    </tr>\n",
       "    <tr>\n",
       "      <th>2</th>\n",
       "      <td>MSFT</td>\n",
       "      <td>Amy</td>\n",
       "      <td>340</td>\n",
       "    </tr>\n",
       "    <tr>\n",
       "      <th>3</th>\n",
       "      <td>MSFT</td>\n",
       "      <td>Vanessa</td>\n",
       "      <td>124</td>\n",
       "    </tr>\n",
       "    <tr>\n",
       "      <th>4</th>\n",
       "      <td>FB</td>\n",
       "      <td>Carl</td>\n",
       "      <td>243</td>\n",
       "    </tr>\n",
       "    <tr>\n",
       "      <th>5</th>\n",
       "      <td>FB</td>\n",
       "      <td>Sarah</td>\n",
       "      <td>350</td>\n",
       "    </tr>\n",
       "  </tbody>\n",
       "</table>\n",
       "</div>"
      ],
      "text/plain": [
       "  Company   Person  Sales\n",
       "0    GOOG      Sam    200\n",
       "1    GOOG  Charlie    120\n",
       "2    MSFT      Amy    340\n",
       "3    MSFT  Vanessa    124\n",
       "4      FB     Carl    243\n",
       "5      FB    Sarah    350"
      ]
     },
     "execution_count": 159,
     "metadata": {},
     "output_type": "execute_result"
    }
   ],
   "source": [
    "df"
   ]
  },
  {
   "cell_type": "markdown",
   "id": "c9fa6ecd-3687-49c0-92cc-260f6fa64c8b",
   "metadata": {},
   "source": [
    "### Now you can use the .groupby() method to group rows together based off of a column name.\n",
    "For instance let's group based off of Company. This will create a DataFrameGroupBy object:"
   ]
  },
  {
   "cell_type": "code",
   "execution_count": 160,
   "id": "82a87de3-6f8c-4e78-a337-067df0eacadb",
   "metadata": {},
   "outputs": [
    {
     "data": {
      "text/plain": [
       "<pandas.core.groupby.generic.DataFrameGroupBy object at 0x0000024E49AFB668>"
      ]
     },
     "execution_count": 160,
     "metadata": {},
     "output_type": "execute_result"
    }
   ],
   "source": [
    "df.groupby('Company')"
   ]
  },
  {
   "cell_type": "markdown",
   "id": "79e87860-497b-4421-b073-57f8c635f9e2",
   "metadata": {},
   "source": [
    "##### You can save this object as a new variable:"
   ]
  },
  {
   "cell_type": "code",
   "execution_count": 161,
   "id": "bc653e03-6843-40cc-9ef7-ada128e011f2",
   "metadata": {},
   "outputs": [
    {
     "data": {
      "text/plain": [
       "pandas.core.groupby.generic.DataFrameGroupBy"
      ]
     },
     "execution_count": 161,
     "metadata": {},
     "output_type": "execute_result"
    }
   ],
   "source": [
    "by_comp = df.groupby(\"Company\")\n",
    "type(by_comp)"
   ]
  },
  {
   "cell_type": "markdown",
   "id": "6722c7d4-1fcb-47bd-a82d-5f417aa06668",
   "metadata": {},
   "source": [
    "#### And then call aggregate methods of the object:"
   ]
  },
  {
   "cell_type": "code",
   "execution_count": null,
   "id": "f82b5e22-49fb-41ff-a9f9-a47d81490804",
   "metadata": {},
   "outputs": [],
   "source": []
  },
  {
   "cell_type": "code",
   "execution_count": 162,
   "id": "f9542a6e-71fd-458c-8c35-56255b20a4f8",
   "metadata": {},
   "outputs": [
    {
     "data": {
      "text/html": [
       "<div>\n",
       "<style scoped>\n",
       "    .dataframe tbody tr th:only-of-type {\n",
       "        vertical-align: middle;\n",
       "    }\n",
       "\n",
       "    .dataframe tbody tr th {\n",
       "        vertical-align: top;\n",
       "    }\n",
       "\n",
       "    .dataframe thead th {\n",
       "        text-align: right;\n",
       "    }\n",
       "</style>\n",
       "<table border=\"1\" class=\"dataframe\">\n",
       "  <thead>\n",
       "    <tr style=\"text-align: right;\">\n",
       "      <th></th>\n",
       "      <th>Sales</th>\n",
       "    </tr>\n",
       "    <tr>\n",
       "      <th>Company</th>\n",
       "      <th></th>\n",
       "    </tr>\n",
       "  </thead>\n",
       "  <tbody>\n",
       "    <tr>\n",
       "      <th>FB</th>\n",
       "      <td>296.5</td>\n",
       "    </tr>\n",
       "    <tr>\n",
       "      <th>GOOG</th>\n",
       "      <td>160.0</td>\n",
       "    </tr>\n",
       "    <tr>\n",
       "      <th>MSFT</th>\n",
       "      <td>232.0</td>\n",
       "    </tr>\n",
       "  </tbody>\n",
       "</table>\n",
       "</div>"
      ],
      "text/plain": [
       "         Sales\n",
       "Company       \n",
       "FB       296.5\n",
       "GOOG     160.0\n",
       "MSFT     232.0"
      ]
     },
     "execution_count": 162,
     "metadata": {},
     "output_type": "execute_result"
    }
   ],
   "source": [
    "by_comp.mean()"
   ]
  },
  {
   "cell_type": "code",
   "execution_count": 163,
   "id": "43a7e580-2f64-4f58-8dcf-226b9008f9fd",
   "metadata": {},
   "outputs": [
    {
     "data": {
      "text/html": [
       "<div>\n",
       "<style scoped>\n",
       "    .dataframe tbody tr th:only-of-type {\n",
       "        vertical-align: middle;\n",
       "    }\n",
       "\n",
       "    .dataframe tbody tr th {\n",
       "        vertical-align: top;\n",
       "    }\n",
       "\n",
       "    .dataframe thead th {\n",
       "        text-align: right;\n",
       "    }\n",
       "</style>\n",
       "<table border=\"1\" class=\"dataframe\">\n",
       "  <thead>\n",
       "    <tr style=\"text-align: right;\">\n",
       "      <th></th>\n",
       "      <th>Sales</th>\n",
       "    </tr>\n",
       "    <tr>\n",
       "      <th>Company</th>\n",
       "      <th></th>\n",
       "    </tr>\n",
       "  </thead>\n",
       "  <tbody>\n",
       "    <tr>\n",
       "      <th>FB</th>\n",
       "      <td>296.5</td>\n",
       "    </tr>\n",
       "    <tr>\n",
       "      <th>GOOG</th>\n",
       "      <td>160.0</td>\n",
       "    </tr>\n",
       "    <tr>\n",
       "      <th>MSFT</th>\n",
       "      <td>232.0</td>\n",
       "    </tr>\n",
       "  </tbody>\n",
       "</table>\n",
       "</div>"
      ],
      "text/plain": [
       "         Sales\n",
       "Company       \n",
       "FB       296.5\n",
       "GOOG     160.0\n",
       "MSFT     232.0"
      ]
     },
     "execution_count": 163,
     "metadata": {},
     "output_type": "execute_result"
    }
   ],
   "source": [
    "df.groupby('Company').mean()"
   ]
  },
  {
   "cell_type": "code",
   "execution_count": 164,
   "id": "83b303f9-625c-4829-abc8-6e320b414fda",
   "metadata": {},
   "outputs": [
    {
     "data": {
      "text/html": [
       "<div>\n",
       "<style scoped>\n",
       "    .dataframe tbody tr th:only-of-type {\n",
       "        vertical-align: middle;\n",
       "    }\n",
       "\n",
       "    .dataframe tbody tr th {\n",
       "        vertical-align: top;\n",
       "    }\n",
       "\n",
       "    .dataframe thead th {\n",
       "        text-align: right;\n",
       "    }\n",
       "</style>\n",
       "<table border=\"1\" class=\"dataframe\">\n",
       "  <thead>\n",
       "    <tr style=\"text-align: right;\">\n",
       "      <th></th>\n",
       "      <th>Sales</th>\n",
       "    </tr>\n",
       "    <tr>\n",
       "      <th>Company</th>\n",
       "      <th></th>\n",
       "    </tr>\n",
       "  </thead>\n",
       "  <tbody>\n",
       "    <tr>\n",
       "      <th>FB</th>\n",
       "      <td>75.660426</td>\n",
       "    </tr>\n",
       "    <tr>\n",
       "      <th>GOOG</th>\n",
       "      <td>56.568542</td>\n",
       "    </tr>\n",
       "    <tr>\n",
       "      <th>MSFT</th>\n",
       "      <td>152.735065</td>\n",
       "    </tr>\n",
       "  </tbody>\n",
       "</table>\n",
       "</div>"
      ],
      "text/plain": [
       "              Sales\n",
       "Company            \n",
       "FB        75.660426\n",
       "GOOG      56.568542\n",
       "MSFT     152.735065"
      ]
     },
     "execution_count": 164,
     "metadata": {},
     "output_type": "execute_result"
    }
   ],
   "source": [
    "by_comp.std()"
   ]
  },
  {
   "cell_type": "code",
   "execution_count": 165,
   "id": "099a0ec6-2d70-4c7b-b6d3-78408d22b86d",
   "metadata": {},
   "outputs": [
    {
     "data": {
      "text/html": [
       "<div>\n",
       "<style scoped>\n",
       "    .dataframe tbody tr th:only-of-type {\n",
       "        vertical-align: middle;\n",
       "    }\n",
       "\n",
       "    .dataframe tbody tr th {\n",
       "        vertical-align: top;\n",
       "    }\n",
       "\n",
       "    .dataframe thead th {\n",
       "        text-align: right;\n",
       "    }\n",
       "</style>\n",
       "<table border=\"1\" class=\"dataframe\">\n",
       "  <thead>\n",
       "    <tr style=\"text-align: right;\">\n",
       "      <th></th>\n",
       "      <th>Person</th>\n",
       "      <th>Sales</th>\n",
       "    </tr>\n",
       "    <tr>\n",
       "      <th>Company</th>\n",
       "      <th></th>\n",
       "      <th></th>\n",
       "    </tr>\n",
       "  </thead>\n",
       "  <tbody>\n",
       "    <tr>\n",
       "      <th>FB</th>\n",
       "      <td>Carl</td>\n",
       "      <td>243</td>\n",
       "    </tr>\n",
       "    <tr>\n",
       "      <th>GOOG</th>\n",
       "      <td>Charlie</td>\n",
       "      <td>120</td>\n",
       "    </tr>\n",
       "    <tr>\n",
       "      <th>MSFT</th>\n",
       "      <td>Amy</td>\n",
       "      <td>124</td>\n",
       "    </tr>\n",
       "  </tbody>\n",
       "</table>\n",
       "</div>"
      ],
      "text/plain": [
       "          Person  Sales\n",
       "Company                \n",
       "FB          Carl    243\n",
       "GOOG     Charlie    120\n",
       "MSFT         Amy    124"
      ]
     },
     "execution_count": 165,
     "metadata": {},
     "output_type": "execute_result"
    }
   ],
   "source": [
    "by_comp.min()"
   ]
  },
  {
   "cell_type": "code",
   "execution_count": 166,
   "id": "de064240-1551-44b2-a5e2-6aa59b59cfed",
   "metadata": {},
   "outputs": [
    {
     "data": {
      "text/html": [
       "<div>\n",
       "<style scoped>\n",
       "    .dataframe tbody tr th:only-of-type {\n",
       "        vertical-align: middle;\n",
       "    }\n",
       "\n",
       "    .dataframe tbody tr th {\n",
       "        vertical-align: top;\n",
       "    }\n",
       "\n",
       "    .dataframe thead th {\n",
       "        text-align: right;\n",
       "    }\n",
       "</style>\n",
       "<table border=\"1\" class=\"dataframe\">\n",
       "  <thead>\n",
       "    <tr style=\"text-align: right;\">\n",
       "      <th></th>\n",
       "      <th>Person</th>\n",
       "      <th>Sales</th>\n",
       "    </tr>\n",
       "    <tr>\n",
       "      <th>Company</th>\n",
       "      <th></th>\n",
       "      <th></th>\n",
       "    </tr>\n",
       "  </thead>\n",
       "  <tbody>\n",
       "    <tr>\n",
       "      <th>FB</th>\n",
       "      <td>Sarah</td>\n",
       "      <td>350</td>\n",
       "    </tr>\n",
       "    <tr>\n",
       "      <th>GOOG</th>\n",
       "      <td>Sam</td>\n",
       "      <td>200</td>\n",
       "    </tr>\n",
       "    <tr>\n",
       "      <th>MSFT</th>\n",
       "      <td>Vanessa</td>\n",
       "      <td>340</td>\n",
       "    </tr>\n",
       "  </tbody>\n",
       "</table>\n",
       "</div>"
      ],
      "text/plain": [
       "          Person  Sales\n",
       "Company                \n",
       "FB         Sarah    350\n",
       "GOOG         Sam    200\n",
       "MSFT     Vanessa    340"
      ]
     },
     "execution_count": 166,
     "metadata": {},
     "output_type": "execute_result"
    }
   ],
   "source": [
    "by_comp.max()"
   ]
  },
  {
   "cell_type": "code",
   "execution_count": 167,
   "id": "0f2eaad7-ee3b-4664-80cf-3cdbd81a2d94",
   "metadata": {},
   "outputs": [
    {
     "data": {
      "text/html": [
       "<div>\n",
       "<style scoped>\n",
       "    .dataframe tbody tr th:only-of-type {\n",
       "        vertical-align: middle;\n",
       "    }\n",
       "\n",
       "    .dataframe tbody tr th {\n",
       "        vertical-align: top;\n",
       "    }\n",
       "\n",
       "    .dataframe thead th {\n",
       "        text-align: right;\n",
       "    }\n",
       "</style>\n",
       "<table border=\"1\" class=\"dataframe\">\n",
       "  <thead>\n",
       "    <tr style=\"text-align: right;\">\n",
       "      <th></th>\n",
       "      <th>Person</th>\n",
       "      <th>Sales</th>\n",
       "    </tr>\n",
       "    <tr>\n",
       "      <th>Company</th>\n",
       "      <th></th>\n",
       "      <th></th>\n",
       "    </tr>\n",
       "  </thead>\n",
       "  <tbody>\n",
       "    <tr>\n",
       "      <th>FB</th>\n",
       "      <td>2</td>\n",
       "      <td>2</td>\n",
       "    </tr>\n",
       "    <tr>\n",
       "      <th>GOOG</th>\n",
       "      <td>2</td>\n",
       "      <td>2</td>\n",
       "    </tr>\n",
       "    <tr>\n",
       "      <th>MSFT</th>\n",
       "      <td>2</td>\n",
       "      <td>2</td>\n",
       "    </tr>\n",
       "  </tbody>\n",
       "</table>\n",
       "</div>"
      ],
      "text/plain": [
       "         Person  Sales\n",
       "Company               \n",
       "FB            2      2\n",
       "GOOG          2      2\n",
       "MSFT          2      2"
      ]
     },
     "execution_count": 167,
     "metadata": {},
     "output_type": "execute_result"
    }
   ],
   "source": [
    "by_comp.count()"
   ]
  },
  {
   "cell_type": "code",
   "execution_count": 168,
   "id": "67f5bea3-09bd-45d4-8d41-7a5f1a4c18e8",
   "metadata": {},
   "outputs": [
    {
     "data": {
      "text/html": [
       "<div>\n",
       "<style scoped>\n",
       "    .dataframe tbody tr th:only-of-type {\n",
       "        vertical-align: middle;\n",
       "    }\n",
       "\n",
       "    .dataframe tbody tr th {\n",
       "        vertical-align: top;\n",
       "    }\n",
       "\n",
       "    .dataframe thead tr th {\n",
       "        text-align: left;\n",
       "    }\n",
       "\n",
       "    .dataframe thead tr:last-of-type th {\n",
       "        text-align: right;\n",
       "    }\n",
       "</style>\n",
       "<table border=\"1\" class=\"dataframe\">\n",
       "  <thead>\n",
       "    <tr>\n",
       "      <th></th>\n",
       "      <th colspan=\"8\" halign=\"left\">Sales</th>\n",
       "    </tr>\n",
       "    <tr>\n",
       "      <th></th>\n",
       "      <th>count</th>\n",
       "      <th>mean</th>\n",
       "      <th>std</th>\n",
       "      <th>min</th>\n",
       "      <th>25%</th>\n",
       "      <th>50%</th>\n",
       "      <th>75%</th>\n",
       "      <th>max</th>\n",
       "    </tr>\n",
       "    <tr>\n",
       "      <th>Company</th>\n",
       "      <th></th>\n",
       "      <th></th>\n",
       "      <th></th>\n",
       "      <th></th>\n",
       "      <th></th>\n",
       "      <th></th>\n",
       "      <th></th>\n",
       "      <th></th>\n",
       "    </tr>\n",
       "  </thead>\n",
       "  <tbody>\n",
       "    <tr>\n",
       "      <th>FB</th>\n",
       "      <td>2.0</td>\n",
       "      <td>296.5</td>\n",
       "      <td>75.660426</td>\n",
       "      <td>243.0</td>\n",
       "      <td>269.75</td>\n",
       "      <td>296.5</td>\n",
       "      <td>323.25</td>\n",
       "      <td>350.0</td>\n",
       "    </tr>\n",
       "    <tr>\n",
       "      <th>GOOG</th>\n",
       "      <td>2.0</td>\n",
       "      <td>160.0</td>\n",
       "      <td>56.568542</td>\n",
       "      <td>120.0</td>\n",
       "      <td>140.00</td>\n",
       "      <td>160.0</td>\n",
       "      <td>180.00</td>\n",
       "      <td>200.0</td>\n",
       "    </tr>\n",
       "    <tr>\n",
       "      <th>MSFT</th>\n",
       "      <td>2.0</td>\n",
       "      <td>232.0</td>\n",
       "      <td>152.735065</td>\n",
       "      <td>124.0</td>\n",
       "      <td>178.00</td>\n",
       "      <td>232.0</td>\n",
       "      <td>286.00</td>\n",
       "      <td>340.0</td>\n",
       "    </tr>\n",
       "  </tbody>\n",
       "</table>\n",
       "</div>"
      ],
      "text/plain": [
       "        Sales                                                        \n",
       "        count   mean         std    min     25%    50%     75%    max\n",
       "Company                                                              \n",
       "FB        2.0  296.5   75.660426  243.0  269.75  296.5  323.25  350.0\n",
       "GOOG      2.0  160.0   56.568542  120.0  140.00  160.0  180.00  200.0\n",
       "MSFT      2.0  232.0  152.735065  124.0  178.00  232.0  286.00  340.0"
      ]
     },
     "execution_count": 168,
     "metadata": {},
     "output_type": "execute_result"
    }
   ],
   "source": [
    "by_comp.describe()"
   ]
  },
  {
   "cell_type": "code",
   "execution_count": null,
   "id": "a0b84fbe-c58a-48e5-a8fd-833a4c7695e4",
   "metadata": {},
   "outputs": [],
   "source": []
  }
 ],
 "metadata": {
  "kernelspec": {
   "display_name": "STLF",
   "language": "python",
   "name": "python3"
  },
  "language_info": {
   "codemirror_mode": {
    "name": "ipython",
    "version": 3
   },
   "file_extension": ".py",
   "mimetype": "text/x-python",
   "name": "python",
   "nbconvert_exporter": "python",
   "pygments_lexer": "ipython3",
   "version": "3.7.0"
  }
 },
 "nbformat": 4,
 "nbformat_minor": 5
}
