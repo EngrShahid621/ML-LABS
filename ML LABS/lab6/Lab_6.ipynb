{
 "cells": [
  {
   "cell_type": "code",
   "execution_count": 1,
   "id": "817c3a29",
   "metadata": {},
   "outputs": [
    {
     "name": "stdout",
     "output_type": "stream",
     "text": [
      "['C:\\\\Users\\\\SHAHID\\\\ML COURSE', 'C:\\\\Users\\\\SHAHID\\\\16-Codes\\\\envs\\\\STLF\\\\python37.zip', 'C:\\\\Users\\\\SHAHID\\\\16-Codes\\\\envs\\\\STLF\\\\DLLs', 'C:\\\\Users\\\\SHAHID\\\\16-Codes\\\\envs\\\\STLF\\\\lib', 'C:\\\\Users\\\\SHAHID\\\\16-Codes\\\\envs\\\\STLF', '', 'C:\\\\Users\\\\SHAHID\\\\16-Codes\\\\envs\\\\STLF\\\\lib\\\\site-packages', 'C:\\\\Users\\\\SHAHID\\\\16-Codes\\\\envs\\\\STLF\\\\lib\\\\site-packages\\\\portpicker-1.3.1-py3.7.egg', 'C:\\\\Users\\\\SHAHID\\\\16-Codes\\\\envs\\\\STLF\\\\lib\\\\site-packages\\\\win32', 'C:\\\\Users\\\\SHAHID\\\\16-Codes\\\\envs\\\\STLF\\\\lib\\\\site-packages\\\\win32\\\\lib', 'C:\\\\Users\\\\SHAHID\\\\16-Codes\\\\envs\\\\STLF\\\\lib\\\\site-packages\\\\Pythonwin', 'C:\\\\Users\\\\SHAHID\\\\16-Codes\\\\envs\\\\STLF\\\\lib\\\\site-packages\\\\IPython\\\\extensions', 'C:\\\\Users\\\\SHAHID\\\\.ipython', 'C:\\\\Users\\\\SHAHID\\\\timeseires']\n"
     ]
    }
   ],
   "source": [
    "import sys\n",
    "sys.path.append(r'C:\\Users\\SHAHID\\timeseires')\n",
    "\n"
   ]
  },
  {
   "cell_type": "code",
   "execution_count": 3,
   "id": "95736b33",
   "metadata": {
    "scrolled": true
   },
   "outputs": [],
   "source": [
    "import numpy as np\n",
    "import pandas as pd\n",
    "from pandas import read_csv\n",
    "import pickle\n",
    "from sklearn.preprocessing import MinMaxScaler, StandardScaler\n",
    "from sklearn.preprocessing import OneHotEncoder\n",
    "from timeseires.utils import t_v_t_split as sp"
   ]
  },
  {
   "cell_type": "code",
   "execution_count": 4,
   "id": "42f46f67",
   "metadata": {},
   "outputs": [
    {
     "data": {
      "text/html": [
       "<div>\n",
       "<style scoped>\n",
       "    .dataframe tbody tr th:only-of-type {\n",
       "        vertical-align: middle;\n",
       "    }\n",
       "\n",
       "    .dataframe tbody tr th {\n",
       "        vertical-align: top;\n",
       "    }\n",
       "\n",
       "    .dataframe thead th {\n",
       "        text-align: right;\n",
       "    }\n",
       "</style>\n",
       "<table border=\"1\" class=\"dataframe\">\n",
       "  <thead>\n",
       "    <tr style=\"text-align: right;\">\n",
       "      <th></th>\n",
       "      <th>aep</th>\n",
       "      <th>year_day</th>\n",
       "      <th>holiday</th>\n",
       "      <th>weekend</th>\n",
       "      <th>winter</th>\n",
       "      <th>spring</th>\n",
       "      <th>summer</th>\n",
       "      <th>fall</th>\n",
       "      <th>hour</th>\n",
       "      <th>month</th>\n",
       "      <th>day_of_week</th>\n",
       "    </tr>\n",
       "    <tr>\n",
       "      <th>Datetime</th>\n",
       "      <th></th>\n",
       "      <th></th>\n",
       "      <th></th>\n",
       "      <th></th>\n",
       "      <th></th>\n",
       "      <th></th>\n",
       "      <th></th>\n",
       "      <th></th>\n",
       "      <th></th>\n",
       "      <th></th>\n",
       "      <th></th>\n",
       "    </tr>\n",
       "  </thead>\n",
       "  <tbody>\n",
       "    <tr>\n",
       "      <th>2004-10-01 01:00:00</th>\n",
       "      <td>12379.0</td>\n",
       "      <td>275</td>\n",
       "      <td>0</td>\n",
       "      <td>0</td>\n",
       "      <td>0</td>\n",
       "      <td>0</td>\n",
       "      <td>0</td>\n",
       "      <td>1</td>\n",
       "      <td>1</td>\n",
       "      <td>10</td>\n",
       "      <td>4</td>\n",
       "    </tr>\n",
       "    <tr>\n",
       "      <th>2004-10-01 02:00:00</th>\n",
       "      <td>11935.0</td>\n",
       "      <td>275</td>\n",
       "      <td>0</td>\n",
       "      <td>0</td>\n",
       "      <td>0</td>\n",
       "      <td>0</td>\n",
       "      <td>0</td>\n",
       "      <td>1</td>\n",
       "      <td>2</td>\n",
       "      <td>10</td>\n",
       "      <td>4</td>\n",
       "    </tr>\n",
       "    <tr>\n",
       "      <th>2004-10-01 03:00:00</th>\n",
       "      <td>11692.0</td>\n",
       "      <td>275</td>\n",
       "      <td>0</td>\n",
       "      <td>0</td>\n",
       "      <td>0</td>\n",
       "      <td>0</td>\n",
       "      <td>0</td>\n",
       "      <td>1</td>\n",
       "      <td>3</td>\n",
       "      <td>10</td>\n",
       "      <td>4</td>\n",
       "    </tr>\n",
       "    <tr>\n",
       "      <th>2004-10-01 04:00:00</th>\n",
       "      <td>11597.0</td>\n",
       "      <td>275</td>\n",
       "      <td>0</td>\n",
       "      <td>0</td>\n",
       "      <td>0</td>\n",
       "      <td>0</td>\n",
       "      <td>0</td>\n",
       "      <td>1</td>\n",
       "      <td>4</td>\n",
       "      <td>10</td>\n",
       "      <td>4</td>\n",
       "    </tr>\n",
       "    <tr>\n",
       "      <th>2004-10-01 05:00:00</th>\n",
       "      <td>11681.0</td>\n",
       "      <td>275</td>\n",
       "      <td>0</td>\n",
       "      <td>0</td>\n",
       "      <td>0</td>\n",
       "      <td>0</td>\n",
       "      <td>0</td>\n",
       "      <td>1</td>\n",
       "      <td>5</td>\n",
       "      <td>10</td>\n",
       "      <td>4</td>\n",
       "    </tr>\n",
       "  </tbody>\n",
       "</table>\n",
       "</div>"
      ],
      "text/plain": [
       "                         aep  year_day  holiday  weekend  winter  spring  \\\n",
       "Datetime                                                                   \n",
       "2004-10-01 01:00:00  12379.0       275        0        0       0       0   \n",
       "2004-10-01 02:00:00  11935.0       275        0        0       0       0   \n",
       "2004-10-01 03:00:00  11692.0       275        0        0       0       0   \n",
       "2004-10-01 04:00:00  11597.0       275        0        0       0       0   \n",
       "2004-10-01 05:00:00  11681.0       275        0        0       0       0   \n",
       "\n",
       "                     summer  fall  hour  month  day_of_week  \n",
       "Datetime                                                     \n",
       "2004-10-01 01:00:00       0     1     1     10            4  \n",
       "2004-10-01 02:00:00       0     1     2     10            4  \n",
       "2004-10-01 03:00:00       0     1     3     10            4  \n",
       "2004-10-01 04:00:00       0     1     4     10            4  \n",
       "2004-10-01 05:00:00       0     1     5     10            4  "
      ]
     },
     "execution_count": 4,
     "metadata": {},
     "output_type": "execute_result"
    }
   ],
   "source": [
    "df=pd.read_csv(r'E:\\ELECTRICAL ENGINEERIGH(COMNICATN)\\Semester-8th\\ML Lab\\5_features_extracted.csv', index_col=['Datetime'], parse_dates=['Datetime'])\n",
    "df.head()"
   ]
  },
  {
   "cell_type": "code",
   "execution_count": 5,
   "id": "dae82f0e",
   "metadata": {},
   "outputs": [
    {
     "name": "stdout",
     "output_type": "stream",
     "text": [
      "<class 'pandas.core.frame.DataFrame'>\n",
      "DatetimeIndex: 121269 entries, 2004-10-01 01:00:00 to 2018-08-03 00:00:00\n",
      "Data columns (total 11 columns):\n",
      " #   Column       Non-Null Count   Dtype  \n",
      "---  ------       --------------   -----  \n",
      " 0   aep          121269 non-null  float64\n",
      " 1   year_day     121269 non-null  int64  \n",
      " 2   holiday      121269 non-null  int64  \n",
      " 3   weekend      121269 non-null  int64  \n",
      " 4   winter       121269 non-null  int64  \n",
      " 5   spring       121269 non-null  int64  \n",
      " 6   summer       121269 non-null  int64  \n",
      " 7   fall         121269 non-null  int64  \n",
      " 8   hour         121269 non-null  int64  \n",
      " 9   month        121269 non-null  int64  \n",
      " 10  day_of_week  121269 non-null  int64  \n",
      "dtypes: float64(1), int64(10)\n",
      "memory usage: 11.1 MB\n"
     ]
    }
   ],
   "source": [
    "df.info()"
   ]
  },
  {
   "cell_type": "markdown",
   "id": "7e090ece",
   "metadata": {},
   "source": [
    "# Function to split data For Training, Validation & Test"
   ]
  },
  {
   "cell_type": "markdown",
   "id": "42f61242",
   "metadata": {},
   "source": [
    "# tarin, test &  validation split"
   ]
  },
  {
   "cell_type": "code",
   "execution_count": 6,
   "id": "553440d0",
   "metadata": {},
   "outputs": [],
   "source": [
    "train_set, validation_set, test_set = sp.t_v_t(df, 70, 20, 10)"
   ]
  },
  {
   "cell_type": "code",
   "execution_count": 7,
   "id": "9bfcd07c",
   "metadata": {},
   "outputs": [
    {
     "name": "stdout",
     "output_type": "stream",
     "text": [
      "(84888, 11)\n",
      "(24254, 11)\n",
      "(12127, 11)\n"
     ]
    }
   ],
   "source": [
    "print(train_set.shape)\n",
    "print(validation_set.shape)\n",
    "print(test_set.shape)"
   ]
  },
  {
   "cell_type": "code",
   "execution_count": 8,
   "id": "8f04ebaa",
   "metadata": {},
   "outputs": [
    {
     "data": {
      "text/plain": [
       "0"
      ]
     },
     "execution_count": 8,
     "metadata": {},
     "output_type": "execute_result"
    }
   ],
   "source": [
    "(84907+24259+12130)-121296"
   ]
  },
  {
   "cell_type": "code",
   "execution_count": 9,
   "id": "7cd8b3c9",
   "metadata": {},
   "outputs": [
    {
     "data": {
      "text/html": [
       "<div>\n",
       "<style scoped>\n",
       "    .dataframe tbody tr th:only-of-type {\n",
       "        vertical-align: middle;\n",
       "    }\n",
       "\n",
       "    .dataframe tbody tr th {\n",
       "        vertical-align: top;\n",
       "    }\n",
       "\n",
       "    .dataframe thead th {\n",
       "        text-align: right;\n",
       "    }\n",
       "</style>\n",
       "<table border=\"1\" class=\"dataframe\">\n",
       "  <thead>\n",
       "    <tr style=\"text-align: right;\">\n",
       "      <th></th>\n",
       "      <th>aep</th>\n",
       "      <th>year_day</th>\n",
       "      <th>holiday</th>\n",
       "      <th>weekend</th>\n",
       "      <th>winter</th>\n",
       "      <th>spring</th>\n",
       "      <th>summer</th>\n",
       "      <th>fall</th>\n",
       "      <th>hour</th>\n",
       "      <th>month</th>\n",
       "      <th>day_of_week</th>\n",
       "    </tr>\n",
       "    <tr>\n",
       "      <th>Datetime</th>\n",
       "      <th></th>\n",
       "      <th></th>\n",
       "      <th></th>\n",
       "      <th></th>\n",
       "      <th></th>\n",
       "      <th></th>\n",
       "      <th></th>\n",
       "      <th></th>\n",
       "      <th></th>\n",
       "      <th></th>\n",
       "      <th></th>\n",
       "    </tr>\n",
       "  </thead>\n",
       "  <tbody>\n",
       "    <tr>\n",
       "      <th>2017-03-15 17:00:00</th>\n",
       "      <td>17445.0</td>\n",
       "      <td>74</td>\n",
       "      <td>0</td>\n",
       "      <td>0</td>\n",
       "      <td>0</td>\n",
       "      <td>1</td>\n",
       "      <td>0</td>\n",
       "      <td>0</td>\n",
       "      <td>17</td>\n",
       "      <td>3</td>\n",
       "      <td>2</td>\n",
       "    </tr>\n",
       "    <tr>\n",
       "      <th>2017-03-15 18:00:00</th>\n",
       "      <td>17545.0</td>\n",
       "      <td>74</td>\n",
       "      <td>0</td>\n",
       "      <td>0</td>\n",
       "      <td>0</td>\n",
       "      <td>1</td>\n",
       "      <td>0</td>\n",
       "      <td>0</td>\n",
       "      <td>18</td>\n",
       "      <td>3</td>\n",
       "      <td>2</td>\n",
       "    </tr>\n",
       "    <tr>\n",
       "      <th>2017-03-15 19:00:00</th>\n",
       "      <td>17713.0</td>\n",
       "      <td>74</td>\n",
       "      <td>0</td>\n",
       "      <td>0</td>\n",
       "      <td>0</td>\n",
       "      <td>1</td>\n",
       "      <td>0</td>\n",
       "      <td>0</td>\n",
       "      <td>19</td>\n",
       "      <td>3</td>\n",
       "      <td>2</td>\n",
       "    </tr>\n",
       "    <tr>\n",
       "      <th>2017-03-15 20:00:00</th>\n",
       "      <td>18332.0</td>\n",
       "      <td>74</td>\n",
       "      <td>0</td>\n",
       "      <td>0</td>\n",
       "      <td>0</td>\n",
       "      <td>1</td>\n",
       "      <td>0</td>\n",
       "      <td>0</td>\n",
       "      <td>20</td>\n",
       "      <td>3</td>\n",
       "      <td>2</td>\n",
       "    </tr>\n",
       "    <tr>\n",
       "      <th>2017-03-15 21:00:00</th>\n",
       "      <td>18883.0</td>\n",
       "      <td>74</td>\n",
       "      <td>0</td>\n",
       "      <td>0</td>\n",
       "      <td>0</td>\n",
       "      <td>1</td>\n",
       "      <td>0</td>\n",
       "      <td>0</td>\n",
       "      <td>21</td>\n",
       "      <td>3</td>\n",
       "      <td>2</td>\n",
       "    </tr>\n",
       "    <tr>\n",
       "      <th>...</th>\n",
       "      <td>...</td>\n",
       "      <td>...</td>\n",
       "      <td>...</td>\n",
       "      <td>...</td>\n",
       "      <td>...</td>\n",
       "      <td>...</td>\n",
       "      <td>...</td>\n",
       "      <td>...</td>\n",
       "      <td>...</td>\n",
       "      <td>...</td>\n",
       "      <td>...</td>\n",
       "    </tr>\n",
       "    <tr>\n",
       "      <th>2018-08-02 20:00:00</th>\n",
       "      <td>17673.0</td>\n",
       "      <td>214</td>\n",
       "      <td>0</td>\n",
       "      <td>0</td>\n",
       "      <td>0</td>\n",
       "      <td>0</td>\n",
       "      <td>1</td>\n",
       "      <td>0</td>\n",
       "      <td>20</td>\n",
       "      <td>8</td>\n",
       "      <td>3</td>\n",
       "    </tr>\n",
       "    <tr>\n",
       "      <th>2018-08-02 21:00:00</th>\n",
       "      <td>17303.0</td>\n",
       "      <td>214</td>\n",
       "      <td>0</td>\n",
       "      <td>0</td>\n",
       "      <td>0</td>\n",
       "      <td>0</td>\n",
       "      <td>1</td>\n",
       "      <td>0</td>\n",
       "      <td>21</td>\n",
       "      <td>8</td>\n",
       "      <td>3</td>\n",
       "    </tr>\n",
       "    <tr>\n",
       "      <th>2018-08-02 22:00:00</th>\n",
       "      <td>17001.0</td>\n",
       "      <td>214</td>\n",
       "      <td>0</td>\n",
       "      <td>0</td>\n",
       "      <td>0</td>\n",
       "      <td>0</td>\n",
       "      <td>1</td>\n",
       "      <td>0</td>\n",
       "      <td>22</td>\n",
       "      <td>8</td>\n",
       "      <td>3</td>\n",
       "    </tr>\n",
       "    <tr>\n",
       "      <th>2018-08-02 23:00:00</th>\n",
       "      <td>15964.0</td>\n",
       "      <td>214</td>\n",
       "      <td>0</td>\n",
       "      <td>0</td>\n",
       "      <td>0</td>\n",
       "      <td>0</td>\n",
       "      <td>1</td>\n",
       "      <td>0</td>\n",
       "      <td>23</td>\n",
       "      <td>8</td>\n",
       "      <td>3</td>\n",
       "    </tr>\n",
       "    <tr>\n",
       "      <th>2018-08-03 00:00:00</th>\n",
       "      <td>14809.0</td>\n",
       "      <td>215</td>\n",
       "      <td>0</td>\n",
       "      <td>0</td>\n",
       "      <td>0</td>\n",
       "      <td>0</td>\n",
       "      <td>1</td>\n",
       "      <td>0</td>\n",
       "      <td>0</td>\n",
       "      <td>8</td>\n",
       "      <td>4</td>\n",
       "    </tr>\n",
       "  </tbody>\n",
       "</table>\n",
       "<p>12127 rows × 11 columns</p>\n",
       "</div>"
      ],
      "text/plain": [
       "                         aep  year_day  holiday  weekend  winter  spring  \\\n",
       "Datetime                                                                   \n",
       "2017-03-15 17:00:00  17445.0        74        0        0       0       1   \n",
       "2017-03-15 18:00:00  17545.0        74        0        0       0       1   \n",
       "2017-03-15 19:00:00  17713.0        74        0        0       0       1   \n",
       "2017-03-15 20:00:00  18332.0        74        0        0       0       1   \n",
       "2017-03-15 21:00:00  18883.0        74        0        0       0       1   \n",
       "...                      ...       ...      ...      ...     ...     ...   \n",
       "2018-08-02 20:00:00  17673.0       214        0        0       0       0   \n",
       "2018-08-02 21:00:00  17303.0       214        0        0       0       0   \n",
       "2018-08-02 22:00:00  17001.0       214        0        0       0       0   \n",
       "2018-08-02 23:00:00  15964.0       214        0        0       0       0   \n",
       "2018-08-03 00:00:00  14809.0       215        0        0       0       0   \n",
       "\n",
       "                     summer  fall  hour  month  day_of_week  \n",
       "Datetime                                                     \n",
       "2017-03-15 17:00:00       0     0    17      3            2  \n",
       "2017-03-15 18:00:00       0     0    18      3            2  \n",
       "2017-03-15 19:00:00       0     0    19      3            2  \n",
       "2017-03-15 20:00:00       0     0    20      3            2  \n",
       "2017-03-15 21:00:00       0     0    21      3            2  \n",
       "...                     ...   ...   ...    ...          ...  \n",
       "2018-08-02 20:00:00       1     0    20      8            3  \n",
       "2018-08-02 21:00:00       1     0    21      8            3  \n",
       "2018-08-02 22:00:00       1     0    22      8            3  \n",
       "2018-08-02 23:00:00       1     0    23      8            3  \n",
       "2018-08-03 00:00:00       1     0     0      8            4  \n",
       "\n",
       "[12127 rows x 11 columns]"
      ]
     },
     "execution_count": 9,
     "metadata": {},
     "output_type": "execute_result"
    }
   ],
   "source": [
    "test_set"
   ]
  },
  {
   "cell_type": "markdown",
   "id": "b8decf43",
   "metadata": {},
   "source": [
    "# Train"
   ]
  },
  {
   "cell_type": "markdown",
   "id": "5e182447",
   "metadata": {},
   "source": [
    "##### MinMax"
   ]
  },
  {
   "cell_type": "code",
   "execution_count": 10,
   "id": "e6703880",
   "metadata": {},
   "outputs": [
    {
     "data": {
      "text/plain": [
       "(84888, 1)"
      ]
     },
     "execution_count": 10,
     "metadata": {},
     "output_type": "execute_result"
    }
   ],
   "source": [
    "train_set_load             = train_set['aep'].values.reshape(-1, 1)              \n",
    "validation_set_load        = validation_set['aep'].values.reshape(-1, 1)\n",
    "test_set_load              = test_set['aep'].values.reshape(-1, 1)\n",
    "#.........................................................................\n",
    "scaler = MinMaxScaler(feature_range=(0, 1))\n",
    "scaler.fit(train_set_load)\n",
    "#scaler = StandardScaler()\n",
    "#scaler.fit(train_set_load)\n",
    "#.........................................................................\n",
    "scaled_train_set_load      = scaler.transform(train_set_load)\n",
    "scaled_validation_set_load = scaler.transform(validation_set_load)\n",
    "scaled_test_set_load       = scaler.transform(test_set_load)\n",
    "pickle.dump(scaler, open (\"AEPscaler.pkl\",'wb') )\n",
    "scaled_train_set_load.shape"
   ]
  },
  {
   "cell_type": "code",
   "execution_count": 11,
   "id": "9b7607dd",
   "metadata": {},
   "outputs": [
    {
     "data": {
      "text/plain": [
       "(84888, 1)"
      ]
     },
     "execution_count": 11,
     "metadata": {},
     "output_type": "execute_result"
    }
   ],
   "source": [
    "train_numerical = scaled_train_set_load\n",
    "train_numerical.shape"
   ]
  },
  {
   "cell_type": "code",
   "execution_count": 12,
   "id": "13b8d788",
   "metadata": {},
   "outputs": [
    {
     "data": {
      "text/html": [
       "<div>\n",
       "<style scoped>\n",
       "    .dataframe tbody tr th:only-of-type {\n",
       "        vertical-align: middle;\n",
       "    }\n",
       "\n",
       "    .dataframe tbody tr th {\n",
       "        vertical-align: top;\n",
       "    }\n",
       "\n",
       "    .dataframe thead th {\n",
       "        text-align: right;\n",
       "    }\n",
       "</style>\n",
       "<table border=\"1\" class=\"dataframe\">\n",
       "  <thead>\n",
       "    <tr style=\"text-align: right;\">\n",
       "      <th></th>\n",
       "      <th>aep</th>\n",
       "      <th>year_day</th>\n",
       "      <th>holiday</th>\n",
       "      <th>weekend</th>\n",
       "      <th>winter</th>\n",
       "      <th>spring</th>\n",
       "      <th>summer</th>\n",
       "      <th>fall</th>\n",
       "      <th>hour</th>\n",
       "      <th>month</th>\n",
       "      <th>day_of_week</th>\n",
       "    </tr>\n",
       "  </thead>\n",
       "  <tbody>\n",
       "    <tr>\n",
       "      <th>count</th>\n",
       "      <td>84888.000000</td>\n",
       "      <td>84888.000000</td>\n",
       "      <td>84888.000000</td>\n",
       "      <td>84888.000000</td>\n",
       "      <td>84888.000000</td>\n",
       "      <td>84888.000000</td>\n",
       "      <td>84888.000000</td>\n",
       "      <td>84888.000000</td>\n",
       "      <td>84888.000000</td>\n",
       "      <td>84888.000000</td>\n",
       "      <td>84888.000000</td>\n",
       "    </tr>\n",
       "    <tr>\n",
       "      <th>mean</th>\n",
       "      <td>15787.015132</td>\n",
       "      <td>182.044470</td>\n",
       "      <td>0.051173</td>\n",
       "      <td>0.285883</td>\n",
       "      <td>0.254995</td>\n",
       "      <td>0.259978</td>\n",
       "      <td>0.236358</td>\n",
       "      <td>0.248669</td>\n",
       "      <td>11.502450</td>\n",
       "      <td>6.488455</td>\n",
       "      <td>3.000990</td>\n",
       "    </tr>\n",
       "    <tr>\n",
       "      <th>std</th>\n",
       "      <td>2555.346554</td>\n",
       "      <td>106.802831</td>\n",
       "      <td>0.220352</td>\n",
       "      <td>0.451836</td>\n",
       "      <td>0.435861</td>\n",
       "      <td>0.438625</td>\n",
       "      <td>0.424847</td>\n",
       "      <td>0.432244</td>\n",
       "      <td>6.921544</td>\n",
       "      <td>3.492670</td>\n",
       "      <td>1.999888</td>\n",
       "    </tr>\n",
       "    <tr>\n",
       "      <th>min</th>\n",
       "      <td>9669.000000</td>\n",
       "      <td>1.000000</td>\n",
       "      <td>0.000000</td>\n",
       "      <td>0.000000</td>\n",
       "      <td>0.000000</td>\n",
       "      <td>0.000000</td>\n",
       "      <td>0.000000</td>\n",
       "      <td>0.000000</td>\n",
       "      <td>0.000000</td>\n",
       "      <td>1.000000</td>\n",
       "      <td>0.000000</td>\n",
       "    </tr>\n",
       "    <tr>\n",
       "      <th>25%</th>\n",
       "      <td>13949.000000</td>\n",
       "      <td>89.000000</td>\n",
       "      <td>0.000000</td>\n",
       "      <td>0.000000</td>\n",
       "      <td>0.000000</td>\n",
       "      <td>0.000000</td>\n",
       "      <td>0.000000</td>\n",
       "      <td>0.000000</td>\n",
       "      <td>6.000000</td>\n",
       "      <td>3.000000</td>\n",
       "      <td>1.000000</td>\n",
       "    </tr>\n",
       "    <tr>\n",
       "      <th>50%</th>\n",
       "      <td>15616.000000</td>\n",
       "      <td>179.000000</td>\n",
       "      <td>0.000000</td>\n",
       "      <td>0.000000</td>\n",
       "      <td>0.000000</td>\n",
       "      <td>0.000000</td>\n",
       "      <td>0.000000</td>\n",
       "      <td>0.000000</td>\n",
       "      <td>12.000000</td>\n",
       "      <td>6.000000</td>\n",
       "      <td>3.000000</td>\n",
       "    </tr>\n",
       "    <tr>\n",
       "      <th>75%</th>\n",
       "      <td>17464.000000</td>\n",
       "      <td>277.000000</td>\n",
       "      <td>0.000000</td>\n",
       "      <td>1.000000</td>\n",
       "      <td>1.000000</td>\n",
       "      <td>1.000000</td>\n",
       "      <td>0.000000</td>\n",
       "      <td>0.000000</td>\n",
       "      <td>18.000000</td>\n",
       "      <td>10.000000</td>\n",
       "      <td>5.000000</td>\n",
       "    </tr>\n",
       "    <tr>\n",
       "      <th>max</th>\n",
       "      <td>22554.000000</td>\n",
       "      <td>366.000000</td>\n",
       "      <td>1.000000</td>\n",
       "      <td>1.000000</td>\n",
       "      <td>1.000000</td>\n",
       "      <td>1.000000</td>\n",
       "      <td>1.000000</td>\n",
       "      <td>1.000000</td>\n",
       "      <td>23.000000</td>\n",
       "      <td>12.000000</td>\n",
       "      <td>6.000000</td>\n",
       "    </tr>\n",
       "  </tbody>\n",
       "</table>\n",
       "</div>"
      ],
      "text/plain": [
       "                aep      year_day       holiday       weekend        winter  \\\n",
       "count  84888.000000  84888.000000  84888.000000  84888.000000  84888.000000   \n",
       "mean   15787.015132    182.044470      0.051173      0.285883      0.254995   \n",
       "std     2555.346554    106.802831      0.220352      0.451836      0.435861   \n",
       "min     9669.000000      1.000000      0.000000      0.000000      0.000000   \n",
       "25%    13949.000000     89.000000      0.000000      0.000000      0.000000   \n",
       "50%    15616.000000    179.000000      0.000000      0.000000      0.000000   \n",
       "75%    17464.000000    277.000000      0.000000      1.000000      1.000000   \n",
       "max    22554.000000    366.000000      1.000000      1.000000      1.000000   \n",
       "\n",
       "             spring        summer          fall          hour         month  \\\n",
       "count  84888.000000  84888.000000  84888.000000  84888.000000  84888.000000   \n",
       "mean       0.259978      0.236358      0.248669     11.502450      6.488455   \n",
       "std        0.438625      0.424847      0.432244      6.921544      3.492670   \n",
       "min        0.000000      0.000000      0.000000      0.000000      1.000000   \n",
       "25%        0.000000      0.000000      0.000000      6.000000      3.000000   \n",
       "50%        0.000000      0.000000      0.000000     12.000000      6.000000   \n",
       "75%        1.000000      0.000000      0.000000     18.000000     10.000000   \n",
       "max        1.000000      1.000000      1.000000     23.000000     12.000000   \n",
       "\n",
       "        day_of_week  \n",
       "count  84888.000000  \n",
       "mean       3.000990  \n",
       "std        1.999888  \n",
       "min        0.000000  \n",
       "25%        1.000000  \n",
       "50%        3.000000  \n",
       "75%        5.000000  \n",
       "max        6.000000  "
      ]
     },
     "execution_count": 12,
     "metadata": {},
     "output_type": "execute_result"
    }
   ],
   "source": [
    "train_set.describe()"
   ]
  },
  {
   "cell_type": "code",
   "execution_count": 13,
   "id": "ff839042",
   "metadata": {},
   "outputs": [
    {
     "data": {
      "text/plain": [
       "0.21028943896950414"
      ]
     },
     "execution_count": 13,
     "metadata": {},
     "output_type": "execute_result"
    }
   ],
   "source": [
    "(12379.-9669.)/(22556.0-9669)"
   ]
  },
  {
   "cell_type": "code",
   "execution_count": 14,
   "id": "72e5b88f",
   "metadata": {},
   "outputs": [
    {
     "data": {
      "text/plain": [
       "array([[0.21032208],\n",
       "       [0.17586341],\n",
       "       [0.15700427],\n",
       "       ...,\n",
       "       [0.33783469],\n",
       "       [0.34326737],\n",
       "       [0.29545984]], shape=(84888, 1))"
      ]
     },
     "execution_count": 14,
     "metadata": {},
     "output_type": "execute_result"
    }
   ],
   "source": [
    "train_numerical"
   ]
  },
  {
   "cell_type": "markdown",
   "id": "a0903023",
   "metadata": {},
   "source": [
    "##### OneHot Encoding"
   ]
  },
  {
   "cell_type": "code",
   "execution_count": 15,
   "id": "6b70ef73",
   "metadata": {},
   "outputs": [
    {
     "data": {
      "text/plain": [
       "Index(['aep', 'year_day', 'holiday', 'weekend', 'winter', 'spring', 'summer',\n",
       "       'fall', 'hour', 'month', 'day_of_week'],\n",
       "      dtype='object')"
      ]
     },
     "execution_count": 15,
     "metadata": {},
     "output_type": "execute_result"
    }
   ],
   "source": [
    "df.columns"
   ]
  },
  {
   "cell_type": "code",
   "execution_count": 16,
   "id": "21eae331",
   "metadata": {},
   "outputs": [
    {
     "data": {
      "text/plain": [
       "('holiday', 'weekend')"
      ]
     },
     "execution_count": 16,
     "metadata": {},
     "output_type": "execute_result"
    }
   ],
   "source": [
    "_=df.columns\n",
    "_[2],_[3]"
   ]
  },
  {
   "cell_type": "code",
   "execution_count": 17,
   "id": "349bf87b",
   "metadata": {},
   "outputs": [
    {
     "data": {
      "text/html": [
       "<div>\n",
       "<style scoped>\n",
       "    .dataframe tbody tr th:only-of-type {\n",
       "        vertical-align: middle;\n",
       "    }\n",
       "\n",
       "    .dataframe tbody tr th {\n",
       "        vertical-align: top;\n",
       "    }\n",
       "\n",
       "    .dataframe thead th {\n",
       "        text-align: right;\n",
       "    }\n",
       "</style>\n",
       "<table border=\"1\" class=\"dataframe\">\n",
       "  <thead>\n",
       "    <tr style=\"text-align: right;\">\n",
       "      <th></th>\n",
       "      <th>aep</th>\n",
       "      <th>year_day</th>\n",
       "      <th>holiday</th>\n",
       "      <th>weekend</th>\n",
       "      <th>winter</th>\n",
       "      <th>spring</th>\n",
       "      <th>summer</th>\n",
       "      <th>fall</th>\n",
       "      <th>hour</th>\n",
       "      <th>month</th>\n",
       "      <th>day_of_week</th>\n",
       "    </tr>\n",
       "    <tr>\n",
       "      <th>Datetime</th>\n",
       "      <th></th>\n",
       "      <th></th>\n",
       "      <th></th>\n",
       "      <th></th>\n",
       "      <th></th>\n",
       "      <th></th>\n",
       "      <th></th>\n",
       "      <th></th>\n",
       "      <th></th>\n",
       "      <th></th>\n",
       "      <th></th>\n",
       "    </tr>\n",
       "  </thead>\n",
       "  <tbody>\n",
       "    <tr>\n",
       "      <th>2004-10-01 01:00:00</th>\n",
       "      <td>12379.0</td>\n",
       "      <td>275</td>\n",
       "      <td>0</td>\n",
       "      <td>0</td>\n",
       "      <td>0</td>\n",
       "      <td>0</td>\n",
       "      <td>0</td>\n",
       "      <td>1</td>\n",
       "      <td>1</td>\n",
       "      <td>10</td>\n",
       "      <td>4</td>\n",
       "    </tr>\n",
       "    <tr>\n",
       "      <th>2004-10-01 02:00:00</th>\n",
       "      <td>11935.0</td>\n",
       "      <td>275</td>\n",
       "      <td>0</td>\n",
       "      <td>0</td>\n",
       "      <td>0</td>\n",
       "      <td>0</td>\n",
       "      <td>0</td>\n",
       "      <td>1</td>\n",
       "      <td>2</td>\n",
       "      <td>10</td>\n",
       "      <td>4</td>\n",
       "    </tr>\n",
       "    <tr>\n",
       "      <th>2004-10-01 03:00:00</th>\n",
       "      <td>11692.0</td>\n",
       "      <td>275</td>\n",
       "      <td>0</td>\n",
       "      <td>0</td>\n",
       "      <td>0</td>\n",
       "      <td>0</td>\n",
       "      <td>0</td>\n",
       "      <td>1</td>\n",
       "      <td>3</td>\n",
       "      <td>10</td>\n",
       "      <td>4</td>\n",
       "    </tr>\n",
       "    <tr>\n",
       "      <th>2004-10-01 04:00:00</th>\n",
       "      <td>11597.0</td>\n",
       "      <td>275</td>\n",
       "      <td>0</td>\n",
       "      <td>0</td>\n",
       "      <td>0</td>\n",
       "      <td>0</td>\n",
       "      <td>0</td>\n",
       "      <td>1</td>\n",
       "      <td>4</td>\n",
       "      <td>10</td>\n",
       "      <td>4</td>\n",
       "    </tr>\n",
       "    <tr>\n",
       "      <th>2004-10-01 05:00:00</th>\n",
       "      <td>11681.0</td>\n",
       "      <td>275</td>\n",
       "      <td>0</td>\n",
       "      <td>0</td>\n",
       "      <td>0</td>\n",
       "      <td>0</td>\n",
       "      <td>0</td>\n",
       "      <td>1</td>\n",
       "      <td>5</td>\n",
       "      <td>10</td>\n",
       "      <td>4</td>\n",
       "    </tr>\n",
       "    <tr>\n",
       "      <th>...</th>\n",
       "      <td>...</td>\n",
       "      <td>...</td>\n",
       "      <td>...</td>\n",
       "      <td>...</td>\n",
       "      <td>...</td>\n",
       "      <td>...</td>\n",
       "      <td>...</td>\n",
       "      <td>...</td>\n",
       "      <td>...</td>\n",
       "      <td>...</td>\n",
       "      <td>...</td>\n",
       "    </tr>\n",
       "    <tr>\n",
       "      <th>2014-06-08 19:00:00</th>\n",
       "      <td>14390.0</td>\n",
       "      <td>159</td>\n",
       "      <td>0</td>\n",
       "      <td>1</td>\n",
       "      <td>0</td>\n",
       "      <td>0</td>\n",
       "      <td>1</td>\n",
       "      <td>0</td>\n",
       "      <td>19</td>\n",
       "      <td>6</td>\n",
       "      <td>6</td>\n",
       "    </tr>\n",
       "    <tr>\n",
       "      <th>2014-06-08 20:00:00</th>\n",
       "      <td>14193.0</td>\n",
       "      <td>159</td>\n",
       "      <td>0</td>\n",
       "      <td>1</td>\n",
       "      <td>0</td>\n",
       "      <td>0</td>\n",
       "      <td>1</td>\n",
       "      <td>0</td>\n",
       "      <td>20</td>\n",
       "      <td>6</td>\n",
       "      <td>6</td>\n",
       "    </tr>\n",
       "    <tr>\n",
       "      <th>2014-06-08 21:00:00</th>\n",
       "      <td>14022.0</td>\n",
       "      <td>159</td>\n",
       "      <td>0</td>\n",
       "      <td>1</td>\n",
       "      <td>0</td>\n",
       "      <td>0</td>\n",
       "      <td>1</td>\n",
       "      <td>0</td>\n",
       "      <td>21</td>\n",
       "      <td>6</td>\n",
       "      <td>6</td>\n",
       "    </tr>\n",
       "    <tr>\n",
       "      <th>2014-06-08 22:00:00</th>\n",
       "      <td>14092.0</td>\n",
       "      <td>159</td>\n",
       "      <td>0</td>\n",
       "      <td>1</td>\n",
       "      <td>0</td>\n",
       "      <td>0</td>\n",
       "      <td>1</td>\n",
       "      <td>0</td>\n",
       "      <td>22</td>\n",
       "      <td>6</td>\n",
       "      <td>6</td>\n",
       "    </tr>\n",
       "    <tr>\n",
       "      <th>2014-06-08 23:00:00</th>\n",
       "      <td>13476.0</td>\n",
       "      <td>159</td>\n",
       "      <td>0</td>\n",
       "      <td>1</td>\n",
       "      <td>0</td>\n",
       "      <td>0</td>\n",
       "      <td>1</td>\n",
       "      <td>0</td>\n",
       "      <td>23</td>\n",
       "      <td>6</td>\n",
       "      <td>6</td>\n",
       "    </tr>\n",
       "  </tbody>\n",
       "</table>\n",
       "<p>84888 rows × 11 columns</p>\n",
       "</div>"
      ],
      "text/plain": [
       "                         aep  year_day  holiday  weekend  winter  spring  \\\n",
       "Datetime                                                                   \n",
       "2004-10-01 01:00:00  12379.0       275        0        0       0       0   \n",
       "2004-10-01 02:00:00  11935.0       275        0        0       0       0   \n",
       "2004-10-01 03:00:00  11692.0       275        0        0       0       0   \n",
       "2004-10-01 04:00:00  11597.0       275        0        0       0       0   \n",
       "2004-10-01 05:00:00  11681.0       275        0        0       0       0   \n",
       "...                      ...       ...      ...      ...     ...     ...   \n",
       "2014-06-08 19:00:00  14390.0       159        0        1       0       0   \n",
       "2014-06-08 20:00:00  14193.0       159        0        1       0       0   \n",
       "2014-06-08 21:00:00  14022.0       159        0        1       0       0   \n",
       "2014-06-08 22:00:00  14092.0       159        0        1       0       0   \n",
       "2014-06-08 23:00:00  13476.0       159        0        1       0       0   \n",
       "\n",
       "                     summer  fall  hour  month  day_of_week  \n",
       "Datetime                                                     \n",
       "2004-10-01 01:00:00       0     1     1     10            4  \n",
       "2004-10-01 02:00:00       0     1     2     10            4  \n",
       "2004-10-01 03:00:00       0     1     3     10            4  \n",
       "2004-10-01 04:00:00       0     1     4     10            4  \n",
       "2004-10-01 05:00:00       0     1     5     10            4  \n",
       "...                     ...   ...   ...    ...          ...  \n",
       "2014-06-08 19:00:00       1     0    19      6            6  \n",
       "2014-06-08 20:00:00       1     0    20      6            6  \n",
       "2014-06-08 21:00:00       1     0    21      6            6  \n",
       "2014-06-08 22:00:00       1     0    22      6            6  \n",
       "2014-06-08 23:00:00       1     0    23      6            6  \n",
       "\n",
       "[84888 rows x 11 columns]"
      ]
     },
     "execution_count": 17,
     "metadata": {},
     "output_type": "execute_result"
    }
   ],
   "source": [
    "train_set"
   ]
  },
  {
   "cell_type": "code",
   "execution_count": 18,
   "id": "29aca0f0",
   "metadata": {},
   "outputs": [
    {
     "data": {
      "text/plain": [
       "(84888, 4)"
      ]
     },
     "execution_count": 18,
     "metadata": {},
     "output_type": "execute_result"
    }
   ],
   "source": [
    "train_setO     = train_set[:].values\n",
    "\n",
    "holiday        = train_setO[:,2:3]\n",
    "weekend        = train_setO[:,3:4]\n",
    "\n",
    "\n",
    "en_holiday     = OneHotEncoder(handle_unknown='ignore')\n",
    "en_weekend    = OneHotEncoder(handle_unknown='ignore')\n",
    "\n",
    "\n",
    "holidayf       = en_holiday.fit(holiday)             #2\n",
    "holidayt       = holidayf.transform(holiday).toarray() \n",
    "\n",
    "weekendf       = en_weekend.fit(weekend)             #2\n",
    "weekendt       = weekendf.transform(weekend).toarray()\n",
    "\n",
    "\n",
    "\n",
    "\n",
    "train_categorical = np.concatenate((holidayt,weekendt), axis=1)\n",
    "train_categorical.shape"
   ]
  },
  {
   "cell_type": "markdown",
   "id": "23278e94",
   "metadata": {},
   "source": [
    "##### Cyclic"
   ]
  },
  {
   "cell_type": "code",
   "execution_count": 19,
   "id": "c70ffc53",
   "metadata": {},
   "outputs": [
    {
     "data": {
      "text/plain": [
       "Index(['aep', 'year_day', 'holiday', 'weekend', 'winter', 'spring', 'summer',\n",
       "       'fall', 'hour', 'month', 'day_of_week'],\n",
       "      dtype='object')"
      ]
     },
     "execution_count": 19,
     "metadata": {},
     "output_type": "execute_result"
    }
   ],
   "source": [
    "df.columns"
   ]
  },
  {
   "cell_type": "code",
   "execution_count": 20,
   "id": "ab7ae888",
   "metadata": {},
   "outputs": [],
   "source": [
    "cyclic_train = train_set[['month','day_of_week','hour','winter', 'spring', 'summer','fall','year_day']]\n",
    "cyclic_train = cyclic_train[:].values\n",
    "\n",
    "\n",
    "sin_montht   = np.sin(2*np.pi*cyclic_train[:,0:1]/12)\n",
    "cos_montht   = np.cos(2*np.pi*cyclic_train[:,0:1]/12)\n",
    "\n",
    "sin_weekt    = np.sin(2*np.pi*cyclic_train[:,1:2]/6)\n",
    "cos_weekt    = np.cos(2*np.pi*cyclic_train[:,1:2]/6)\n",
    "  \n",
    "sin_hourt    = np.sin(2*np.pi*cyclic_train[:,2:3]/24)\n",
    "cos_hourt    = np.cos(2*np.pi*cyclic_train[:,2:3]/24)\n",
    "\n",
    "sin_wintert    = np.sin(2*np.pi*cyclic_train[:,3:4]/4)\n",
    "cos_wintert    = np.cos(2*np.pi*cyclic_train[:,3:4]/4)\n",
    "\n",
    "sin_springt    = np.sin(2*np.pi*cyclic_train[:,4:5]/4)\n",
    "cos_springt    = np.cos(2*np.pi*cyclic_train[:,4:5]/4)\n",
    "\n",
    "sin_summert    = np.sin(2*np.pi*cyclic_train[:,5:6]/4)\n",
    "cos_summert    = np.cos(2*np.pi*cyclic_train[:,5:6]/4)\n",
    "\n",
    "sin_fallt    = np.sin(2*np.pi*cyclic_train[:,6:7]/4)\n",
    "cos_fallt    = np.cos(2*np.pi*cyclic_train[:,6:7]/4)\n",
    "\n",
    "sin_year_dayt    = np.sin(2*np.pi*cyclic_train[:,7:8]/365)\n",
    "cos_year_dayt    = np.cos(2*np.pi*cyclic_train[:,7:8]/365)\n",
    "\n",
    "train_cyclic = np.concatenate((sin_montht, cos_montht, \n",
    "                               sin_weekt, cos_weekt, \n",
    "                               sin_hourt,cos_hourt,\n",
    "                               sin_wintert,cos_wintert,\n",
    "                               sin_springt,cos_springt,\n",
    "                               sin_summert ,cos_summert,\n",
    "                               sin_fallt,cos_fallt,\n",
    "                              sin_year_dayt ,cos_year_dayt ), axis=1) "
   ]
  },
  {
   "cell_type": "code",
   "execution_count": 21,
   "id": "f914f310",
   "metadata": {},
   "outputs": [
    {
     "data": {
      "text/plain": [
       "(84888, 21)"
      ]
     },
     "execution_count": 21,
     "metadata": {},
     "output_type": "execute_result"
    }
   ],
   "source": [
    "train = np.concatenate((train_numerical,train_categorical, train_cyclic), axis=1)\n",
    "train.shape"
   ]
  },
  {
   "cell_type": "code",
   "execution_count": 22,
   "id": "c3e4c1e0",
   "metadata": {},
   "outputs": [],
   "source": [
    "train_df = pd.DataFrame(data = train.transpose(), index = ['aep',\n",
    "                                                           'Is_holiday1','Is_holiday2',\n",
    "                                                           'Is_Weekend1','Is_Weekend2',\n",
    "                                                           'sin_month', 'cos_month',\n",
    "                                                           'sin_week','cos_week',\n",
    "                                                           'sin_hour', 'cos_hour',\n",
    "                                                         'sin_wintert','cos_wintert',\n",
    "                                                          'sin_springt','cos_springt',\n",
    "                                                          'sin_summert' ,'cos_summert',\n",
    "                                                          'sin_fallt','cos_fallt',\n",
    "                                                          'sin_year_dayt ','cos_year_dayt ']).transpose()"
   ]
  },
  {
   "cell_type": "code",
   "execution_count": 23,
   "id": "ee9800e2",
   "metadata": {},
   "outputs": [],
   "source": [
    "train_df.to_csv(r'E:\\ELECTRICAL ENGINEERIGH(COMNICATN)\\Semester-8th\\ML Lab\\7_AEP_train.csv', index=False)"
   ]
  },
  {
   "cell_type": "markdown",
   "id": "125c1edc",
   "metadata": {},
   "source": [
    "# validation"
   ]
  },
  {
   "cell_type": "markdown",
   "id": "20cf4182",
   "metadata": {},
   "source": [
    "##### MinMax"
   ]
  },
  {
   "cell_type": "code",
   "execution_count": 24,
   "id": "ebf15ef0",
   "metadata": {},
   "outputs": [
    {
     "data": {
      "text/plain": [
       "(24254, 1)"
      ]
     },
     "execution_count": 24,
     "metadata": {},
     "output_type": "execute_result"
    }
   ],
   "source": [
    "validation_numerical = scaled_validation_set_load\n",
    "validation_numerical.shape"
   ]
  },
  {
   "cell_type": "markdown",
   "id": "d3129ea8",
   "metadata": {},
   "source": [
    "#### OneHot"
   ]
  },
  {
   "cell_type": "code",
   "execution_count": 25,
   "id": "f53c28f0",
   "metadata": {},
   "outputs": [
    {
     "data": {
      "text/plain": [
       "(24254, 4)"
      ]
     },
     "execution_count": 25,
     "metadata": {},
     "output_type": "execute_result"
    }
   ],
   "source": [
    "\n",
    "validation_setO = validation_set[:].values\n",
    "\n",
    "holiday        = validation_setO[:,2:3]\n",
    "weekend        = validation_setO[:,3:4]\n",
    "\n",
    "\n",
    "\n",
    "holidayt       = holidayf.transform(holiday).toarray() \n",
    "\n",
    "weekendt       = weekendf.transform(weekend).toarray()\n",
    "            \n",
    "                                                        \n",
    "            \n",
    "validation_categorical = np.concatenate((holidayt,weekendt), axis=1)\n",
    "validation_categorical.shape"
   ]
  },
  {
   "cell_type": "markdown",
   "id": "b7f010da",
   "metadata": {},
   "source": [
    "#### cyclic"
   ]
  },
  {
   "cell_type": "code",
   "execution_count": 26,
   "id": "761e347c",
   "metadata": {},
   "outputs": [
    {
     "data": {
      "text/plain": [
       "(24254, 16)"
      ]
     },
     "execution_count": 26,
     "metadata": {},
     "output_type": "execute_result"
    }
   ],
   "source": [
    "cyclic_validation = validation_set[['month','day_of_week','hour','winter', 'spring', 'summer','fall','year_day']]\n",
    "cyclic_validation = cyclic_validation[:].values\n",
    "\n",
    "sin_montht   = np.sin(2*np.pi*cyclic_validation[:,0:1]/12)\n",
    "cos_montht   = np.cos(2*np.pi*cyclic_validation[:,0:1]/12)\n",
    "\n",
    "sin_weekt    = np.sin(2*np.pi*cyclic_validation[:,1:2]/6)\n",
    "cos_weekt    = np.cos(2*np.pi*cyclic_validation[:,1:2]/6)\n",
    "  \n",
    "sin_hourt    = np.sin(2*np.pi*cyclic_validation[:,2:3]/24)\n",
    "cos_hourt    = np.cos(2*np.pi*cyclic_validation[:,2:3]/24)\n",
    "\n",
    "sin_wintert    = np.sin(2*np.pi*cyclic_validation[:,3:4]/4)\n",
    "cos_wintert    = np.cos(2*np.pi*cyclic_validation[:,3:4]/4)\n",
    "\n",
    "sin_springt    = np.sin(2*np.pi*cyclic_validation[:,4:5]/4)\n",
    "cos_springt    = np.cos(2*np.pi*cyclic_validation[:,4:5]/4)\n",
    "\n",
    "sin_summert    = np.sin(2*np.pi*cyclic_validation[:,5:6]/4)\n",
    "cos_summert    = np.cos(2*np.pi*cyclic_validation[:,5:6]/4)\n",
    "\n",
    "sin_fallt    = np.sin(2*np.pi*cyclic_validation[:,6:7]/4)\n",
    "cos_fallt    = np.cos(2*np.pi*cyclic_validation[:,6:7]/4)\n",
    "\n",
    "sin_year_dayt    = np.sin(2*np.pi*cyclic_validation[:,7:8]/365)\n",
    "cos_year_dayt    = np.cos(2*np.pi*cyclic_validation[:,7:8]/365)\n",
    "\n",
    "validation_cyclic = np.concatenate((sin_montht, cos_montht, \n",
    "                               sin_weekt, cos_weekt, \n",
    "                               sin_hourt,cos_hourt,\n",
    "                               sin_wintert,cos_wintert,\n",
    "                               sin_springt,cos_springt,\n",
    "                               sin_summert ,cos_summert,\n",
    "                               sin_fallt,cos_fallt,sin_year_dayt,cos_year_dayt), axis=1) \n",
    "\n",
    "validation_cyclic.shape "
   ]
  },
  {
   "cell_type": "code",
   "execution_count": 27,
   "id": "150340a2",
   "metadata": {},
   "outputs": [
    {
     "data": {
      "text/plain": [
       "(24254, 21)"
      ]
     },
     "execution_count": 27,
     "metadata": {},
     "output_type": "execute_result"
    }
   ],
   "source": [
    "validation = np.concatenate((validation_numerical,validation_categorical, validation_cyclic), axis=1)\n",
    "validation.shape\n"
   ]
  },
  {
   "cell_type": "code",
   "execution_count": 28,
   "id": "33169444",
   "metadata": {},
   "outputs": [],
   "source": [
    "validation_df = pd.DataFrame(data = validation.transpose(), index = ['aep',\n",
    "                                                           'Is_holiday1','Is_holiday2',\n",
    "                                                           'Is_Weekend1','Is_Weekend2',\n",
    "                                                           'sin_month', 'cos_month',\n",
    "                                                           'sin_week','cos_week',\n",
    "                                                           'sin_hour', 'cos_hour',\n",
    "                                                         'sin_wintert','cos_wintert',\n",
    "                                                          'sin_springt','cos_springt',\n",
    "                                                          'sin_summert' ,'cos_summert',\n",
    "                                                          'sin_fallt','cos_fallt',\n",
    "                                                                     'sin_year_dayt','cos_year_dayt']).transpose()"
   ]
  },
  {
   "cell_type": "code",
   "execution_count": 29,
   "id": "51f32777",
   "metadata": {},
   "outputs": [],
   "source": [
    "validation_df.to_csv(r'E:\\ELECTRICAL ENGINEERIGH(COMNICATN)\\Semester-8th\\ML Lab\\8_AEP_validation.csv', index=False)"
   ]
  },
  {
   "cell_type": "code",
   "execution_count": 30,
   "id": "dff46daf",
   "metadata": {},
   "outputs": [
    {
     "data": {
      "text/plain": [
       "(24254, 21)"
      ]
     },
     "execution_count": 30,
     "metadata": {},
     "output_type": "execute_result"
    }
   ],
   "source": [
    "validation_df.shape"
   ]
  },
  {
   "cell_type": "markdown",
   "id": "fcb4c74f",
   "metadata": {},
   "source": [
    "# Test"
   ]
  },
  {
   "cell_type": "markdown",
   "id": "2a583b16",
   "metadata": {},
   "source": [
    "##### MinMax"
   ]
  },
  {
   "cell_type": "code",
   "execution_count": 31,
   "id": "05359304",
   "metadata": {},
   "outputs": [
    {
     "data": {
      "text/plain": [
       "(12127, 1)"
      ]
     },
     "execution_count": 31,
     "metadata": {},
     "output_type": "execute_result"
    }
   ],
   "source": [
    "test_numerical = scaled_test_set_load\n",
    "test_numerical.shape"
   ]
  },
  {
   "cell_type": "markdown",
   "id": "253df5a6",
   "metadata": {},
   "source": [
    "##### OneHot"
   ]
  },
  {
   "cell_type": "code",
   "execution_count": 32,
   "id": "fa4eab8c",
   "metadata": {},
   "outputs": [
    {
     "data": {
      "text/plain": [
       "(12127, 4)"
      ]
     },
     "execution_count": 32,
     "metadata": {},
     "output_type": "execute_result"
    }
   ],
   "source": [
    "\n",
    "test_setO = test_set[:].values\n",
    "\n",
    "holiday        = test_setO[:,2:3]\n",
    "weekend        = test_setO[:,3:4]\n",
    "\n",
    "\n",
    "\n",
    "holidayt       = holidayf.transform(holiday).toarray() \n",
    "\n",
    "weekendt       = weekendf.transform(weekend).toarray()\n",
    "            \n",
    "                                                        \n",
    "            \n",
    "test_categorical = np.concatenate((holidayt,weekendt), axis=1)\n",
    "test_categorical.shape"
   ]
  },
  {
   "cell_type": "markdown",
   "id": "8107f177",
   "metadata": {},
   "source": [
    "##### cyclic"
   ]
  },
  {
   "cell_type": "code",
   "execution_count": 33,
   "id": "7dde6404",
   "metadata": {},
   "outputs": [
    {
     "data": {
      "text/plain": [
       "(12127, 16)"
      ]
     },
     "execution_count": 33,
     "metadata": {},
     "output_type": "execute_result"
    }
   ],
   "source": [
    "cyclic_test = test_set[['month','day_of_week','hour','winter', 'spring', 'summer','fall', 'year_day']]\n",
    "cyclic_test = cyclic_test[:].values\n",
    "\n",
    "sin_montht   = np.sin(2*np.pi*cyclic_test[:,0:1]/12)\n",
    "cos_montht   = np.cos(2*np.pi*cyclic_test[:,0:1]/12)\n",
    "\n",
    "sin_weekt    = np.sin(2*np.pi*cyclic_test[:,1:2]/6)\n",
    "cos_weekt    = np.cos(2*np.pi*cyclic_test[:,1:2]/6)\n",
    "  \n",
    "sin_hourt    = np.sin(2*np.pi*cyclic_test[:,2:3]/24)\n",
    "cos_hourt    = np.cos(2*np.pi*cyclic_test[:,2:3]/24)\n",
    "\n",
    "sin_wintert    = np.sin(2*np.pi*cyclic_test[:,3:4]/4)\n",
    "cos_wintert    = np.cos(2*np.pi*cyclic_test[:,3:4]/4)\n",
    "\n",
    "sin_springt    = np.sin(2*np.pi*cyclic_test[:,4:5]/4)\n",
    "cos_springt    = np.cos(2*np.pi*cyclic_test[:,4:5]/4)\n",
    "\n",
    "sin_summert    = np.sin(2*np.pi*cyclic_test[:,5:6]/4)\n",
    "cos_summert    = np.cos(2*np.pi*cyclic_test[:,5:6]/4)\n",
    "\n",
    "sin_fallt    = np.sin(2*np.pi*cyclic_test[:,6:7]/4)\n",
    "cos_fallt    = np.cos(2*np.pi*cyclic_test[:,6:7]/4)\n",
    "\n",
    "sin_year_dayt    = np.sin(2*np.pi*cyclic_test[:,7:8]/365)\n",
    "cos_year_dayt    = np.cos(2*np.pi*cyclic_test[:,7:8]/365)\n",
    "\n",
    "test_cyclic = np.concatenate((sin_montht, cos_montht, \n",
    "                               sin_weekt, cos_weekt, \n",
    "                               sin_hourt,cos_hourt,\n",
    "                               sin_wintert,cos_wintert,\n",
    "                               sin_springt,cos_springt,\n",
    "                               sin_summert ,cos_summert,\n",
    "                               sin_fallt,cos_fallt,sin_year_dayt,cos_year_dayt ), axis=1) \n",
    "\n",
    "test_cyclic.shape "
   ]
  },
  {
   "cell_type": "code",
   "execution_count": 34,
   "id": "79439cdb",
   "metadata": {},
   "outputs": [
    {
     "data": {
      "text/plain": [
       "(12127, 21)"
      ]
     },
     "execution_count": 34,
     "metadata": {},
     "output_type": "execute_result"
    }
   ],
   "source": [
    "test = np.concatenate((test_numerical,test_categorical, test_cyclic), axis=1)\n",
    "test.shape\n"
   ]
  },
  {
   "cell_type": "code",
   "execution_count": 35,
   "id": "6edcc7f2",
   "metadata": {},
   "outputs": [],
   "source": [
    "test_df = pd.DataFrame(data = test.transpose(), index = ['aep',\n",
    "                                                           'Is_holiday1','Is_holiday2',\n",
    "                                                           'Is_Weekend1','Is_Weekend2',\n",
    "                                                           'sin_month', 'cos_month',\n",
    "                                                           'sin_week','cos_week',\n",
    "                                                           'sin_hour', 'cos_hour',\n",
    "                                                         'sin_wintert','cos_wintert',\n",
    "                                                          'sin_springt','cos_springt',\n",
    "                                                          'sin_summert' ,'cos_summert',\n",
    "                                                          'sin_fallt','cos_fallt',\n",
    "                                                         'sin_year_dayt','cos_year_dayt']).transpose()"
   ]
  },
  {
   "cell_type": "code",
   "execution_count": 36,
   "id": "2d709860",
   "metadata": {},
   "outputs": [],
   "source": [
    "test_df.to_csv(r'E:\\ELECTRICAL ENGINEERIGH(COMNICATN)\\Semester-8th\\ML Lab\\9_AEP_test.csv', index=False)"
   ]
  },
  {
   "cell_type": "code",
   "execution_count": 37,
   "id": "83ca7eb5",
   "metadata": {},
   "outputs": [
    {
     "data": {
      "text/plain": [
       "(12127, 21)"
      ]
     },
     "execution_count": 37,
     "metadata": {},
     "output_type": "execute_result"
    }
   ],
   "source": [
    "test_df.shape"
   ]
  },
  {
   "cell_type": "code",
   "execution_count": 38,
   "id": "0ce840ca",
   "metadata": {},
   "outputs": [
    {
     "data": {
      "text/plain": [
       "2312"
      ]
     },
     "execution_count": 38,
     "metadata": {},
     "output_type": "execute_result"
    }
   ],
   "source": [
    "4*((24*24)+24^2+24)"
   ]
  },
  {
   "cell_type": "code",
   "execution_count": 39,
   "id": "76a9f9cf",
   "metadata": {},
   "outputs": [
    {
     "data": {
      "text/plain": [
       "176.88958333333332"
      ]
     },
     "execution_count": 39,
     "metadata": {},
     "output_type": "execute_result"
    }
   ],
   "source": [
    "(84907)/(10*(24+24))"
   ]
  },
  {
   "cell_type": "code",
   "execution_count": 40,
   "id": "ea274a6f",
   "metadata": {},
   "outputs": [
    {
     "data": {
      "text/plain": [
       "84907"
      ]
     },
     "execution_count": 40,
     "metadata": {},
     "output_type": "execute_result"
    }
   ],
   "source": [
    "84907"
   ]
  }
 ],
 "metadata": {
  "kernelspec": {
   "display_name": "Python 3 (ipykernel)",
   "language": "python",
   "name": "python3"
  },
  "language_info": {
   "codemirror_mode": {
    "name": "ipython",
    "version": 3
   },
   "file_extension": ".py",
   "mimetype": "text/x-python",
   "name": "python",
   "nbconvert_exporter": "python",
   "pygments_lexer": "ipython3",
   "version": "3.7.0"
  }
 },
 "nbformat": 4,
 "nbformat_minor": 5
}
