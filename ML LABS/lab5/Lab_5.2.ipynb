{
 "cells": [
  {
   "cell_type": "code",
   "execution_count": 1,
   "id": "d1d0316f",
   "metadata": {},
   "outputs": [],
   "source": [
    "import pandas as pd\n",
    "import numpy as np\n",
    "#from dataprep.datasets import load_dataset   # Used to import / load dataset\n",
    "#from dataprep.eda import create_report   # Used to load Report formate"
   ]
  },
  {
   "cell_type": "code",
   "execution_count": 2,
   "id": "36a149c8",
   "metadata": {},
   "outputs": [
    {
     "data": {
      "text/html": [
       "<div>\n",
       "<style scoped>\n",
       "    .dataframe tbody tr th:only-of-type {\n",
       "        vertical-align: middle;\n",
       "    }\n",
       "\n",
       "    .dataframe tbody tr th {\n",
       "        vertical-align: top;\n",
       "    }\n",
       "\n",
       "    .dataframe thead th {\n",
       "        text-align: right;\n",
       "    }\n",
       "</style>\n",
       "<table border=\"1\" class=\"dataframe\">\n",
       "  <thead>\n",
       "    <tr style=\"text-align: right;\">\n",
       "      <th></th>\n",
       "      <th>aep</th>\n",
       "      <th>year_day</th>\n",
       "      <th>holiday</th>\n",
       "      <th>weekend</th>\n",
       "      <th>winter</th>\n",
       "      <th>spring</th>\n",
       "      <th>summer</th>\n",
       "      <th>fall</th>\n",
       "      <th>hour</th>\n",
       "      <th>month</th>\n",
       "      <th>day_of_week</th>\n",
       "    </tr>\n",
       "    <tr>\n",
       "      <th>Datetime</th>\n",
       "      <th></th>\n",
       "      <th></th>\n",
       "      <th></th>\n",
       "      <th></th>\n",
       "      <th></th>\n",
       "      <th></th>\n",
       "      <th></th>\n",
       "      <th></th>\n",
       "      <th></th>\n",
       "      <th></th>\n",
       "      <th></th>\n",
       "    </tr>\n",
       "  </thead>\n",
       "  <tbody>\n",
       "    <tr>\n",
       "      <th>2004-10-01 01:00:00</th>\n",
       "      <td>12379.0</td>\n",
       "      <td>275</td>\n",
       "      <td>0</td>\n",
       "      <td>0</td>\n",
       "      <td>0</td>\n",
       "      <td>0</td>\n",
       "      <td>0</td>\n",
       "      <td>1</td>\n",
       "      <td>1</td>\n",
       "      <td>10</td>\n",
       "      <td>4</td>\n",
       "    </tr>\n",
       "    <tr>\n",
       "      <th>2004-10-01 02:00:00</th>\n",
       "      <td>11935.0</td>\n",
       "      <td>275</td>\n",
       "      <td>0</td>\n",
       "      <td>0</td>\n",
       "      <td>0</td>\n",
       "      <td>0</td>\n",
       "      <td>0</td>\n",
       "      <td>1</td>\n",
       "      <td>2</td>\n",
       "      <td>10</td>\n",
       "      <td>4</td>\n",
       "    </tr>\n",
       "    <tr>\n",
       "      <th>2004-10-01 03:00:00</th>\n",
       "      <td>11692.0</td>\n",
       "      <td>275</td>\n",
       "      <td>0</td>\n",
       "      <td>0</td>\n",
       "      <td>0</td>\n",
       "      <td>0</td>\n",
       "      <td>0</td>\n",
       "      <td>1</td>\n",
       "      <td>3</td>\n",
       "      <td>10</td>\n",
       "      <td>4</td>\n",
       "    </tr>\n",
       "    <tr>\n",
       "      <th>2004-10-01 04:00:00</th>\n",
       "      <td>11597.0</td>\n",
       "      <td>275</td>\n",
       "      <td>0</td>\n",
       "      <td>0</td>\n",
       "      <td>0</td>\n",
       "      <td>0</td>\n",
       "      <td>0</td>\n",
       "      <td>1</td>\n",
       "      <td>4</td>\n",
       "      <td>10</td>\n",
       "      <td>4</td>\n",
       "    </tr>\n",
       "    <tr>\n",
       "      <th>2004-10-01 05:00:00</th>\n",
       "      <td>11681.0</td>\n",
       "      <td>275</td>\n",
       "      <td>0</td>\n",
       "      <td>0</td>\n",
       "      <td>0</td>\n",
       "      <td>0</td>\n",
       "      <td>0</td>\n",
       "      <td>1</td>\n",
       "      <td>5</td>\n",
       "      <td>10</td>\n",
       "      <td>4</td>\n",
       "    </tr>\n",
       "  </tbody>\n",
       "</table>\n",
       "</div>"
      ],
      "text/plain": [
       "                         aep  year_day  holiday  weekend  winter  spring  \\\n",
       "Datetime                                                                   \n",
       "2004-10-01 01:00:00  12379.0       275        0        0       0       0   \n",
       "2004-10-01 02:00:00  11935.0       275        0        0       0       0   \n",
       "2004-10-01 03:00:00  11692.0       275        0        0       0       0   \n",
       "2004-10-01 04:00:00  11597.0       275        0        0       0       0   \n",
       "2004-10-01 05:00:00  11681.0       275        0        0       0       0   \n",
       "\n",
       "                     summer  fall  hour  month  day_of_week  \n",
       "Datetime                                                     \n",
       "2004-10-01 01:00:00       0     1     1     10            4  \n",
       "2004-10-01 02:00:00       0     1     2     10            4  \n",
       "2004-10-01 03:00:00       0     1     3     10            4  \n",
       "2004-10-01 04:00:00       0     1     4     10            4  \n",
       "2004-10-01 05:00:00       0     1     5     10            4  "
      ]
     },
     "execution_count": 2,
     "metadata": {},
     "output_type": "execute_result"
    }
   ],
   "source": [
    "df=pd.read_csv(r'E:\\ELECTRICAL ENGINEERIGH(COMNICATN)\\Semester-8th\\ML Lab\\5_features_extracted.csv', index_col=['Datetime'], parse_dates=['Datetime'])\n",
    "df.head()"
   ]
  },
  {
   "cell_type": "code",
   "execution_count": 3,
   "id": "f91d3730",
   "metadata": {},
   "outputs": [
    {
     "name": "stdout",
     "output_type": "stream",
     "text": [
      "pearson\n",
      "\n",
      " aep            1.000000\n",
      "year_day      -0.124670\n",
      "holiday       -0.053264\n",
      "weekend       -0.267074\n",
      "winter         0.328270\n",
      "spring        -0.246525\n",
      "summer         0.139706\n",
      "fall          -0.220879\n",
      "hour           0.420900\n",
      "month         -0.125940\n",
      "day_of_week   -0.219804\n",
      "dtype: float64\n"
     ]
    }
   ],
   "source": [
    "print('pearson\\n\\n',df.corrwith(df[\"aep\"],method=\"pearson\"))"
   ]
  },
  {
   "cell_type": "code",
   "execution_count": 4,
   "id": "9e32f02f",
   "metadata": {},
   "outputs": [
    {
     "name": "stdout",
     "output_type": "stream",
     "text": [
      "kendall\n",
      "\n",
      " aep            1.000000\n",
      "year_day      -0.082623\n",
      "holiday       -0.041145\n",
      "weekend       -0.217872\n",
      "winter         0.278509\n",
      "spring        -0.197702\n",
      "summer         0.098071\n",
      "fall          -0.178439\n",
      "hour           0.292459\n",
      "month         -0.085608\n",
      "day_of_week   -0.157956\n",
      "dtype: float64\n"
     ]
    }
   ],
   "source": [
    "print('kendall\\n\\n',df.corrwith(df[\"aep\"],method=\"kendall\"))"
   ]
  },
  {
   "cell_type": "code",
   "execution_count": 5,
   "id": "bf5054b1",
   "metadata": {},
   "outputs": [
    {
     "name": "stdout",
     "output_type": "stream",
     "text": [
      "spearman\n",
      "\n",
      " aep            1.000000\n",
      "year_day      -0.123289\n",
      "holiday       -0.050389\n",
      "weekend       -0.266822\n",
      "winter         0.341082\n",
      "spring        -0.242120\n",
      "summer         0.120105\n",
      "fall          -0.218529\n",
      "hour           0.431691\n",
      "month         -0.123476\n",
      "day_of_week   -0.219379\n",
      "dtype: float64\n"
     ]
    }
   ],
   "source": [
    "print('spearman\\n\\n',df.corrwith(df[\"aep\"],method=\"spearman\"))"
   ]
  },
  {
   "cell_type": "code",
   "execution_count": 6,
   "id": "aea4383a",
   "metadata": {},
   "outputs": [
    {
     "data": {
      "text/plain": [
       "aep            0\n",
       "year_day       0\n",
       "holiday        0\n",
       "weekend        0\n",
       "winter         0\n",
       "spring         0\n",
       "summer         0\n",
       "fall           0\n",
       "hour           0\n",
       "month          0\n",
       "day_of_week    0\n",
       "dtype: int64"
      ]
     },
     "execution_count": 6,
     "metadata": {},
     "output_type": "execute_result"
    }
   ],
   "source": [
    "df.isnull().sum()"
   ]
  },
  {
   "cell_type": "code",
   "execution_count": null,
   "id": "97e8d7c4",
   "metadata": {},
   "outputs": [],
   "source": []
  }
 ],
 "metadata": {
  "kernelspec": {
   "display_name": "Python 3 (ipykernel)",
   "language": "python",
   "name": "python3"
  },
  "language_info": {
   "codemirror_mode": {
    "name": "ipython",
    "version": 3
   },
   "file_extension": ".py",
   "mimetype": "text/x-python",
   "name": "python",
   "nbconvert_exporter": "python",
   "pygments_lexer": "ipython3",
   "version": "3.7.0"
  }
 },
 "nbformat": 4,
 "nbformat_minor": 5
}
