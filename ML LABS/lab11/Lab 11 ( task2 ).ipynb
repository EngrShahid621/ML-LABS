{
 "cells": [
  {
   "cell_type": "markdown",
   "id": "3021bfc3",
   "metadata": {},
   "source": [
    "# Lab Task for lab practice: task_2\n",
    "\n",
    "### Select two difficult classes:\n",
    "\n",
    "##### Class 1: Cercospora\n",
    "\n",
    "Use 120 images for training, 30 images for validation, and 10 images for testing.\n",
    "\n",
    "##### Class 2: Northern Leaf Blight\n",
    "\n",
    "Use 120 images for training, 30 images for validation, and 10 images for testing."
   ]
  },
  {
   "cell_type": "code",
   "execution_count": 2,
   "id": "e4b49a0d",
   "metadata": {},
   "outputs": [],
   "source": [
    "import os, shutil\n",
    "\n",
    "original_dataset_dir = r'E:\\ELECTRICAL ENGINEERIGH(COMNICATN)\\Semester-8th\\ML Lab\\lab11\\archive\\plantvillage dataset\\color'\n",
    "base_dir = r'E:\\ELECTRICAL ENGINEERIGH(COMNICATN)\\Semester-8th\\ML Lab\\lab11\\dataset_task2'\n",
    "os.makedirs(base_dir, exist_ok=True)\n",
    "\n",
    "# Subdirectories\n",
    "for split in ['train', 'validation', 'test']:\n",
    "    for category in ['cercospora', 'northern_leaf_blight']:\n",
    "        os.makedirs(os.path.join(base_dir, split, category), exist_ok=True)\n",
    "\n",
    "# --- CERCOSPORA ---\n",
    "src_cercospora = os.path.join(original_dataset_dir, 'Corn_(maize)___Cercospora_leaf_spot Gray_leaf_spot')\n",
    "files = os.listdir(src_cercospora)\n",
    "\n",
    "# TRAIN: 120\n",
    "for i in range(120):\n",
    "    shutil.copyfile(os.path.join(src_cercospora, files[i]),\n",
    "                    os.path.join(base_dir, 'train/cercospora', f'cercospora.{i}.jpg'))\n",
    "\n",
    "# VAL: 30\n",
    "for i in range(120, 150):\n",
    "    shutil.copyfile(os.path.join(src_cercospora, files[i]),\n",
    "                    os.path.join(base_dir, 'validation/cercospora', f'cercospora.{i}.jpg'))\n",
    "\n",
    "# TEST: 10\n",
    "for i in range(150, 160):\n",
    "    shutil.copyfile(os.path.join(src_cercospora, files[i]),\n",
    "                    os.path.join(base_dir, 'test/cercospora', f'cercospora.{i}.jpg'))\n",
    "\n",
    "# --- NORTHERN LEAF BLIGHT ---\n",
    "src_nlb = os.path.join(original_dataset_dir, 'Corn_(maize)___Northern_Leaf_Blight')\n",
    "files = os.listdir(src_nlb)\n",
    "\n",
    "# TRAIN: 120\n",
    "for i in range(120):\n",
    "    shutil.copyfile(os.path.join(src_nlb, files[i]),\n",
    "                    os.path.join(base_dir, 'train/northern_leaf_blight', f'nlb.{i}.jpg'))\n",
    "\n",
    "# VAL: 30\n",
    "for i in range(120, 150):\n",
    "    shutil.copyfile(os.path.join(src_nlb, files[i]),\n",
    "                    os.path.join(base_dir, 'validation/northern_leaf_blight', f'nlb.{i}.jpg'))\n",
    "\n",
    "# TEST: 10\n",
    "for i in range(150, 160):\n",
    "    shutil.copyfile(os.path.join(src_nlb, files[i]),\n",
    "                    os.path.join(base_dir, 'test/northern_leaf_blight', f'nlb.{i}.jpg'))\n"
   ]
  }
 ],
 "metadata": {
  "kernelspec": {
   "display_name": "STLF",
   "language": "python",
   "name": "python3"
  },
  "language_info": {
   "codemirror_mode": {
    "name": "ipython",
    "version": 3
   },
   "file_extension": ".py",
   "mimetype": "text/x-python",
   "name": "python",
   "nbconvert_exporter": "python",
   "pygments_lexer": "ipython3",
   "version": "3.7.0"
  }
 },
 "nbformat": 4,
 "nbformat_minor": 5
}
